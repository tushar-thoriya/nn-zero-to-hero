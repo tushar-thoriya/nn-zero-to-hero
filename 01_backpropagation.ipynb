{
 "cells": [
  {
   "cell_type": "code",
   "execution_count": 1,
   "metadata": {},
   "outputs": [],
   "source": [
    "import math\n",
    "import random\n",
    "import numpy as np\n",
    "import matplotlib.pyplot as plt\n",
    "%matplotlib inline"
   ]
  },
  {
   "cell_type": "code",
   "execution_count": 2,
   "metadata": {},
   "outputs": [],
   "source": [
    "def f(x):\n",
    "    return 3*x**2 - 4*x + 5"
   ]
  },
  {
   "cell_type": "code",
   "execution_count": 3,
   "metadata": {},
   "outputs": [
    {
     "data": {
      "text/plain": [
       "20.0"
      ]
     },
     "execution_count": 3,
     "metadata": {},
     "output_type": "execute_result"
    }
   ],
   "source": [
    "f(3.0)"
   ]
  },
  {
   "cell_type": "code",
   "execution_count": 4,
   "metadata": {},
   "outputs": [
    {
     "data": {
      "text/plain": [
       "[<matplotlib.lines.Line2D at 0x14063143dd0>]"
      ]
     },
     "execution_count": 4,
     "metadata": {},
     "output_type": "execute_result"
    },
    {
     "data": {
      "image/png": "[encoded data removed]",
      "text/plain": [
       "<Figure size 640x480 with 1 Axes>"
      ]
     },
     "metadata": {},
     "output_type": "display_data"
    }
   ],
   "source": [
    "xs = np.arange(-5, 5, 0.25)\n",
    "ys = f(xs)\n",
    "plt.plot(xs, ys)"
   ]
  },
  {
   "cell_type": "code",
   "execution_count": 5,
   "metadata": {},
   "outputs": [
    {
     "data": {
      "text/plain": [
       "2.999378523327323e-06"
      ]
     },
     "execution_count": 5,
     "metadata": {},
     "output_type": "execute_result"
    }
   ],
   "source": [
    "h = 0.000001\n",
    "x = 2/3\n",
    "(f(x + h) - f(x))/h"
   ]
  },
  {
   "cell_type": "code",
   "execution_count": 6,
   "metadata": {},
   "outputs": [
    {
     "name": "stdout",
     "output_type": "stream",
     "text": [
      "4.0\n"
     ]
    }
   ],
   "source": [
    "# les get more complex\n",
    "a = 2.0\n",
    "b = -3.0\n",
    "c = 10.0\n",
    "d = a*b + c\n",
    "print(d)"
   ]
  },
  {
   "cell_type": "code",
   "execution_count": 7,
   "metadata": {},
   "outputs": [
    {
     "name": "stdout",
     "output_type": "stream",
     "text": [
      "d1 4.0\n",
      "d2 4.0001\n",
      "slope 0.9999999999976694\n"
     ]
    }
   ],
   "source": [
    "h = 0.0001\n",
    "\n",
    "# inputs\n",
    "a = 2.0\n",
    "b = -3.0\n",
    "c = 10.0\n",
    "\n",
    "d1 = a*b + c\n",
    "c += h\n",
    "d2 = a*b + c\n",
    "\n",
    "print('d1', d1)\n",
    "print('d2', d2)\n",
    "print('slope', (d2 - d1)/h)\n"
   ]
  },
  {
   "cell_type": "code",
   "execution_count": 8,
   "metadata": {},
   "outputs": [
    {
     "data": {
      "text/plain": [
       "Value(data=-8.0)"
      ]
     },
     "execution_count": 8,
     "metadata": {},
     "output_type": "execute_result"
    }
   ],
   "source": [
    "class Value:\n",
    "  \n",
    "  def __init__(self, data, _children=(), _op='', label=''):\n",
    "    self.data = data\n",
    "    self.grad = 0.0\n",
    "    self._backward = lambda: None\n",
    "    self._prev = set(_children)\n",
    "    self._op = _op\n",
    "    self.label = label\n",
    "\n",
    "  def __repr__(self):\n",
    "    return f\"Value(data={self.data})\"\n",
    "  \n",
    "  def __add__(self, other):\n",
    "    other = other if isinstance(other, Value) else Value(other)\n",
    "    out = Value(self.data + other.data, (self, other), '+')\n",
    "    \n",
    "    def _backward():\n",
    "      self.grad += 1.0 * out.grad\n",
    "      other.grad += 1.0 * out.grad\n",
    "    out._backward = _backward\n",
    "    \n",
    "    return out\n",
    "\n",
    "  def __mul__(self, other):\n",
    "    other = other if isinstance(other, Value) else Value(other)\n",
    "    out = Value(self.data * other.data, (self, other), '*')\n",
    "    \n",
    "    def _backward():\n",
    "      self.grad += other.data * out.grad\n",
    "      other.grad += self.data * out.grad\n",
    "    out._backward = _backward\n",
    "      \n",
    "    return out\n",
    "  \n",
    "  def __pow__(self, other):\n",
    "    assert isinstance(other, (int, float)), \"only supporting int/float powers for now\"\n",
    "    out = Value(self.data**other, (self,), f'**{other}')\n",
    "\n",
    "    def _backward():\n",
    "        self.grad += other * (self.data ** (other - 1)) * out.grad\n",
    "    out._backward = _backward\n",
    "\n",
    "    return out\n",
    "  \n",
    "  def __rmul__(self, other): # other * self\n",
    "    return self * other\n",
    "\n",
    "  def __truediv__(self, other): # self / other\n",
    "    return self * other**-1\n",
    "\n",
    "  def __neg__(self): # -self\n",
    "    return self * -1\n",
    "\n",
    "  def __sub__(self, other): # self - other\n",
    "    return self + (-other)\n",
    "\n",
    "  def __radd__(self, other): # other + self\n",
    "    return self + other\n",
    "\n",
    "  def tanh(self):\n",
    "    x = self.data\n",
    "    t = (math.exp(2*x) - 1)/(math.exp(2*x) + 1)\n",
    "    out = Value(t, (self, ), 'tanh')\n",
    "    \n",
    "    def _backward():\n",
    "      self.grad += (1 - t**2) * out.grad\n",
    "    out._backward = _backward\n",
    "    \n",
    "    return out\n",
    "  \n",
    "  def exp(self):\n",
    "    x = self.data\n",
    "    out = Value(math.exp(x), (self, ), 'exp')\n",
    "    \n",
    "    def _backward():\n",
    "      self.grad += out.data * out.grad # NOTE: in the video I incorrectly used = instead of +=. Fixed here.\n",
    "    out._backward = _backward\n",
    "    \n",
    "    return out\n",
    "  \n",
    "  \n",
    "  def backward(self):\n",
    "    \n",
    "    topo = []\n",
    "    visited = set()\n",
    "    def build_topo(v):\n",
    "      if v not in visited:\n",
    "        visited.add(v)\n",
    "        for child in v._prev:\n",
    "          build_topo(child)\n",
    "        topo.append(v)\n",
    "    build_topo(self)\n",
    "    \n",
    "    self.grad = 1.0\n",
    "    for node in reversed(topo):\n",
    "      node._backward()\n",
    "\n",
    "\n",
    "    \n",
    "\n",
    "a = Value(2.0, label='a')\n",
    "b = Value(-3.0, label='b')\n",
    "c = Value(10.0, label='c')\n",
    "e = a*b; e.label = 'e'\n",
    "d = e + c; d.label = 'd'\n",
    "f = Value(-2.0, label='f')\n",
    "L = d * f; L.label = 'L'\n",
    "L"
   ]
  },
  {
   "cell_type": "code",
   "execution_count": 9,
   "metadata": {
    "scrolled": true
   },
   "outputs": [],
   "source": [
    "from graphviz import Digraph\n",
    "\n",
    "def trace(root):\n",
    "  # builds a set of all nodes and edges in a graph\n",
    "  nodes, edges = set(), set()\n",
    "  def build(v):\n",
    "    if v not in nodes:\n",
    "      nodes.add(v)\n",
    "      for child in v._prev:\n",
    "        edges.add((child, v))\n",
    "        build(child)\n",
    "  build(root)\n",
    "  return nodes, edges\n",
    "\n",
    "def draw_dot(root):\n",
    "  dot = Digraph(format='svg', graph_attr={'rankdir': 'LR'}) # LR = left to right\n",
    "  \n",
    "  nodes, edges = trace(root)\n",
    "  for n in nodes:\n",
    "    uid = str(id(n))\n",
    "    # for any value in the graph, create a rectangular ('record') node for it\n",
    "    dot.node(name = uid, label = \"{ %s | data %.4f | grad %.4f }\" % (n.label, n.data, n.grad), shape='record')\n",
    "    if n._op:\n",
    "      # if this value is a result of some operation, create an op node for it\n",
    "      dot.node(name = uid + n._op, label = n._op)\n",
    "      # and connect this node to it\n",
    "      dot.edge(uid + n._op, uid)\n",
    "\n",
    "  for n1, n2 in edges:\n",
    "    # connect n1 to the op node of n2\n",
    "    dot.edge(str(id(n1)), str(id(n2)) + n2._op)\n",
    "\n",
    "  return dot\n"
   ]
  },
  {
   "cell_type": "code",
   "execution_count": 10,
   "metadata": {},
   "outputs": [],
   "source": [
    "# inputs x1,x2\n",
    "x1 = Value(2.0, label='x1')\n",
    "x2 = Value(0.0, label='x2')\n",
    "# weights w1,w2\n",
    "w1 = Value(-3.0, label='w1')\n",
    "w2 = Value(1.0, label='w2')\n",
    "# bias of the neuron\n",
    "b = Value(6.8813735870195432, label='b')\n",
    "# x1*w1 + x2*w2 + b\n",
    "x1w1 = x1*w1; x1w1.label = 'x1*w1'\n",
    "x2w2 = x2*w2; x2w2.label = 'x2*w2'\n",
    "x1w1x2w2 = x1w1 + x2w2; x1w1x2w2.label = 'x1*w1 + x2*w2'\n",
    "n = x1w1x2w2 + b; n.label = 'n'\n",
    "o = n.tanh(); o.label = 'o'\n",
    "o.backward()"
   ]
  },
  {
   "cell_type": "code",
   "execution_count": 11,
   "metadata": {},
   "outputs": [
    {
     "data": {
      "image/svg+xml": [
       "<?xml version=\"1.0\" encoding=\"UTF-8\" standalone=\"no\"?>\n",
       "<!DOCTYPE svg PUBLIC \"-//W3C//DTD SVG 1.1//EN\"\n",
       " \"http://www.w3.org/Graphics/SVG/1.1/DTD/svg11.dtd\">\n",
       "<!-- Generated by graphviz version 2.50.0 (0)\n",
       " -->\n",
       "<!-- Pages: 1 -->\n",
       "<svg width=\"1575pt\" height=\"210pt\"\n",
       " viewBox=\"0.00 0.00 1575.00 210.00\" xmlns=\"http://www.w3.org/2000/svg\" xmlns:xlink=\"http://www.w3.org/1999/xlink\">\n",
       "<g id=\"graph0\" class=\"graph\" transform=\"scale(1 1) rotate(0) translate(4 206)\">\n",
       "<polygon fill=\"white\" stroke=\"transparent\" points=\"-4,4 -4,-206 1571,-206 1571,4 -4,4\"/>\n",
       "<!-- 1376061738512 -->\n",
       "<g id=\"node1\" class=\"node\">\n",
       "<title>1376061738512</title>\n",
       "<polygon fill=\"none\" stroke=\"black\" points=\"326,-55.5 326,-91.5 546,-91.5 546,-55.5 326,-55.5\"/>\n",
       "<text text-anchor=\"middle\" x=\"352.5\" y=\"-69.8\" font-family=\"Times New Roman,serif\" font-size=\"14.00\">x1*w1</text>\n",
       "<polyline fill=\"none\" stroke=\"black\" points=\"379,-55.5 379,-91.5 \"/>\n",
       "<text text-anchor=\"middle\" x=\"421.5\" y=\"-69.8\" font-family=\"Times New Roman,serif\" font-size=\"14.00\">data &#45;6.0000</text>\n",
       "<polyline fill=\"none\" stroke=\"black\" points=\"464,-55.5 464,-91.5 \"/>\n",
       "<text text-anchor=\"middle\" x=\"505\" y=\"-69.8\" font-family=\"Times New Roman,serif\" font-size=\"14.00\">grad 0.5000</text>\n",
       "</g>\n",
       "<!-- 1376061738704+ -->\n",
       "<g id=\"node7\" class=\"node\">\n",
       "<title>1376061738704+</title>\n",
       "<ellipse fill=\"none\" stroke=\"black\" cx=\"609\" cy=\"-100.5\" rx=\"27\" ry=\"18\"/>\n",
       "<text text-anchor=\"middle\" x=\"609\" y=\"-96.8\" font-family=\"Times New Roman,serif\" font-size=\"14.00\">+</text>\n",
       "</g>\n",
       "<!-- 1376061738512&#45;&gt;1376061738704+ -->\n",
       "<g id=\"edge7\" class=\"edge\">\n",
       "<title>1376061738512&#45;&gt;1376061738704+</title>\n",
       "<path fill=\"none\" stroke=\"black\" d=\"M546.27,-90.75C555.64,-92.23 564.6,-93.65 572.65,-94.92\"/>\n",
       "<polygon fill=\"black\" stroke=\"black\" points=\"572.23,-98.4 582.65,-96.5 573.32,-91.48 572.23,-98.4\"/>\n",
       "</g>\n",
       "<!-- 1376061738512* -->\n",
       "<g id=\"node2\" class=\"node\">\n",
       "<title>1376061738512*</title>\n",
       "<ellipse fill=\"none\" stroke=\"black\" cx=\"263\" cy=\"-73.5\" rx=\"27\" ry=\"18\"/>\n",
       "<text text-anchor=\"middle\" x=\"263\" y=\"-69.8\" font-family=\"Times New Roman,serif\" font-size=\"14.00\">*</text>\n",
       "</g>\n",
       "<!-- 1376061738512*&#45;&gt;1376061738512 -->\n",
       "<g id=\"edge1\" class=\"edge\">\n",
       "<title>1376061738512*&#45;&gt;1376061738512</title>\n",
       "<path fill=\"none\" stroke=\"black\" d=\"M290.34,-73.5C297.77,-73.5 306.37,-73.5 315.6,-73.5\"/>\n",
       "<polygon fill=\"black\" stroke=\"black\" points=\"315.84,-77 325.84,-73.5 315.84,-70 315.84,-77\"/>\n",
       "</g>\n",
       "<!-- 1376061737872 -->\n",
       "<g id=\"node3\" class=\"node\">\n",
       "<title>1376061737872</title>\n",
       "<polygon fill=\"none\" stroke=\"black\" points=\"4,-165.5 4,-201.5 196,-201.5 196,-165.5 4,-165.5\"/>\n",
       "<text text-anchor=\"middle\" x=\"19\" y=\"-179.8\" font-family=\"Times New Roman,serif\" font-size=\"14.00\">x2</text>\n",
       "<polyline fill=\"none\" stroke=\"black\" points=\"34,-165.5 34,-201.5 \"/>\n",
       "<text text-anchor=\"middle\" x=\"74\" y=\"-179.8\" font-family=\"Times New Roman,serif\" font-size=\"14.00\">data 0.0000</text>\n",
       "<polyline fill=\"none\" stroke=\"black\" points=\"114,-165.5 114,-201.5 \"/>\n",
       "<text text-anchor=\"middle\" x=\"155\" y=\"-179.8\" font-family=\"Times New Roman,serif\" font-size=\"14.00\">grad 0.5000</text>\n",
       "</g>\n",
       "<!-- 1376061738640* -->\n",
       "<g id=\"node5\" class=\"node\">\n",
       "<title>1376061738640*</title>\n",
       "<ellipse fill=\"none\" stroke=\"black\" cx=\"263\" cy=\"-128.5\" rx=\"27\" ry=\"18\"/>\n",
       "<text text-anchor=\"middle\" x=\"263\" y=\"-124.8\" font-family=\"Times New Roman,serif\" font-size=\"14.00\">*</text>\n",
       "</g>\n",
       "<!-- 1376061737872&#45;&gt;1376061738640* -->\n",
       "<g id=\"edge8\" class=\"edge\">\n",
       "<title>1376061737872&#45;&gt;1376061738640*</title>\n",
       "<path fill=\"none\" stroke=\"black\" d=\"M172.53,-165.44C181.84,-162.67 191.2,-159.67 200,-156.5 210.53,-152.71 221.75,-147.9 231.72,-143.33\"/>\n",
       "<polygon fill=\"black\" stroke=\"black\" points=\"233.25,-146.48 240.82,-139.07 230.28,-140.14 233.25,-146.48\"/>\n",
       "</g>\n",
       "<!-- 1376061738640 -->\n",
       "<g id=\"node4\" class=\"node\">\n",
       "<title>1376061738640</title>\n",
       "<polygon fill=\"none\" stroke=\"black\" points=\"328.5,-110.5 328.5,-146.5 543.5,-146.5 543.5,-110.5 328.5,-110.5\"/>\n",
       "<text text-anchor=\"middle\" x=\"355\" y=\"-124.8\" font-family=\"Times New Roman,serif\" font-size=\"14.00\">x2*w2</text>\n",
       "<polyline fill=\"none\" stroke=\"black\" points=\"381.5,-110.5 381.5,-146.5 \"/>\n",
       "<text text-anchor=\"middle\" x=\"421.5\" y=\"-124.8\" font-family=\"Times New Roman,serif\" font-size=\"14.00\">data 0.0000</text>\n",
       "<polyline fill=\"none\" stroke=\"black\" points=\"461.5,-110.5 461.5,-146.5 \"/>\n",
       "<text text-anchor=\"middle\" x=\"502.5\" y=\"-124.8\" font-family=\"Times New Roman,serif\" font-size=\"14.00\">grad 0.5000</text>\n",
       "</g>\n",
       "<!-- 1376061738640&#45;&gt;1376061738704+ -->\n",
       "<g id=\"edge13\" class=\"edge\">\n",
       "<title>1376061738640&#45;&gt;1376061738704+</title>\n",
       "<path fill=\"none\" stroke=\"black\" d=\"M543.84,-111.01C554.01,-109.34 563.76,-107.74 572.44,-106.32\"/>\n",
       "<polygon fill=\"black\" stroke=\"black\" points=\"573.17,-109.75 582.47,-104.68 572.04,-102.84 573.17,-109.75\"/>\n",
       "</g>\n",
       "<!-- 1376061738640*&#45;&gt;1376061738640 -->\n",
       "<g id=\"edge2\" class=\"edge\">\n",
       "<title>1376061738640*&#45;&gt;1376061738640</title>\n",
       "<path fill=\"none\" stroke=\"black\" d=\"M290.34,-128.5C298.51,-128.5 308.08,-128.5 318.36,-128.5\"/>\n",
       "<polygon fill=\"black\" stroke=\"black\" points=\"318.39,-132 328.39,-128.5 318.39,-125 318.39,-132\"/>\n",
       "</g>\n",
       "<!-- 1376061738704 -->\n",
       "<g id=\"node6\" class=\"node\">\n",
       "<title>1376061738704</title>\n",
       "<polygon fill=\"none\" stroke=\"black\" points=\"672,-82.5 672,-118.5 945,-118.5 945,-82.5 672,-82.5\"/>\n",
       "<text text-anchor=\"middle\" x=\"725\" y=\"-96.8\" font-family=\"Times New Roman,serif\" font-size=\"14.00\">x1*w1 + x2*w2</text>\n",
       "<polyline fill=\"none\" stroke=\"black\" points=\"778,-82.5 778,-118.5 \"/>\n",
       "<text text-anchor=\"middle\" x=\"820.5\" y=\"-96.8\" font-family=\"Times New Roman,serif\" font-size=\"14.00\">data &#45;6.0000</text>\n",
       "<polyline fill=\"none\" stroke=\"black\" points=\"863,-82.5 863,-118.5 \"/>\n",
       "<text text-anchor=\"middle\" x=\"904\" y=\"-96.8\" font-family=\"Times New Roman,serif\" font-size=\"14.00\">grad 0.5000</text>\n",
       "</g>\n",
       "<!-- 1376061738768+ -->\n",
       "<g id=\"node11\" class=\"node\">\n",
       "<title>1376061738768+</title>\n",
       "<ellipse fill=\"none\" stroke=\"black\" cx=\"1008\" cy=\"-127.5\" rx=\"27\" ry=\"18\"/>\n",
       "<text text-anchor=\"middle\" x=\"1008\" y=\"-123.8\" font-family=\"Times New Roman,serif\" font-size=\"14.00\">+</text>\n",
       "</g>\n",
       "<!-- 1376061738704&#45;&gt;1376061738768+ -->\n",
       "<g id=\"edge14\" class=\"edge\">\n",
       "<title>1376061738704&#45;&gt;1376061738768+</title>\n",
       "<path fill=\"none\" stroke=\"black\" d=\"M941.24,-118.51C952.12,-120 962.4,-121.4 971.45,-122.64\"/>\n",
       "<polygon fill=\"black\" stroke=\"black\" points=\"971.11,-126.13 981.49,-124.01 972.05,-119.19 971.11,-126.13\"/>\n",
       "</g>\n",
       "<!-- 1376061738704+&#45;&gt;1376061738704 -->\n",
       "<g id=\"edge3\" class=\"edge\">\n",
       "<title>1376061738704+&#45;&gt;1376061738704</title>\n",
       "<path fill=\"none\" stroke=\"black\" d=\"M636.23,-100.5C643.7,-100.5 652.41,-100.5 661.87,-100.5\"/>\n",
       "<polygon fill=\"black\" stroke=\"black\" points=\"661.98,-104 671.98,-100.5 661.98,-97 661.98,-104\"/>\n",
       "</g>\n",
       "<!-- 1376061736720 -->\n",
       "<g id=\"node8\" class=\"node\">\n",
       "<title>1376061736720</title>\n",
       "<polygon fill=\"none\" stroke=\"black\" points=\"1382,-109.5 1382,-145.5 1567,-145.5 1567,-109.5 1382,-109.5\"/>\n",
       "<text text-anchor=\"middle\" x=\"1393.5\" y=\"-123.8\" font-family=\"Times New Roman,serif\" font-size=\"14.00\">o</text>\n",
       "<polyline fill=\"none\" stroke=\"black\" points=\"1405,-109.5 1405,-145.5 \"/>\n",
       "<text text-anchor=\"middle\" x=\"1445\" y=\"-123.8\" font-family=\"Times New Roman,serif\" font-size=\"14.00\">data 0.7071</text>\n",
       "<polyline fill=\"none\" stroke=\"black\" points=\"1485,-109.5 1485,-145.5 \"/>\n",
       "<text text-anchor=\"middle\" x=\"1526\" y=\"-123.8\" font-family=\"Times New Roman,serif\" font-size=\"14.00\">grad 1.0000</text>\n",
       "</g>\n",
       "<!-- 1376061736720tanh -->\n",
       "<g id=\"node9\" class=\"node\">\n",
       "<title>1376061736720tanh</title>\n",
       "<ellipse fill=\"none\" stroke=\"black\" cx=\"1319\" cy=\"-127.5\" rx=\"27\" ry=\"18\"/>\n",
       "<text text-anchor=\"middle\" x=\"1319\" y=\"-123.8\" font-family=\"Times New Roman,serif\" font-size=\"14.00\">tanh</text>\n",
       "</g>\n",
       "<!-- 1376061736720tanh&#45;&gt;1376061736720 -->\n",
       "<g id=\"edge4\" class=\"edge\">\n",
       "<title>1376061736720tanh&#45;&gt;1376061736720</title>\n",
       "<path fill=\"none\" stroke=\"black\" d=\"M1346.04,-127.5C1353.58,-127.5 1362.3,-127.5 1371.57,-127.5\"/>\n",
       "<polygon fill=\"black\" stroke=\"black\" points=\"1371.81,-131 1381.81,-127.5 1371.81,-124 1371.81,-131\"/>\n",
       "</g>\n",
       "<!-- 1376061738768 -->\n",
       "<g id=\"node10\" class=\"node\">\n",
       "<title>1376061738768</title>\n",
       "<polygon fill=\"none\" stroke=\"black\" points=\"1071,-109.5 1071,-145.5 1256,-145.5 1256,-109.5 1071,-109.5\"/>\n",
       "<text text-anchor=\"middle\" x=\"1082.5\" y=\"-123.8\" font-family=\"Times New Roman,serif\" font-size=\"14.00\">n</text>\n",
       "<polyline fill=\"none\" stroke=\"black\" points=\"1094,-109.5 1094,-145.5 \"/>\n",
       "<text text-anchor=\"middle\" x=\"1134\" y=\"-123.8\" font-family=\"Times New Roman,serif\" font-size=\"14.00\">data 0.8814</text>\n",
       "<polyline fill=\"none\" stroke=\"black\" points=\"1174,-109.5 1174,-145.5 \"/>\n",
       "<text text-anchor=\"middle\" x=\"1215\" y=\"-123.8\" font-family=\"Times New Roman,serif\" font-size=\"14.00\">grad 0.5000</text>\n",
       "</g>\n",
       "<!-- 1376061738768&#45;&gt;1376061736720tanh -->\n",
       "<g id=\"edge9\" class=\"edge\">\n",
       "<title>1376061738768&#45;&gt;1376061736720tanh</title>\n",
       "<path fill=\"none\" stroke=\"black\" d=\"M1256.01,-127.5C1265.01,-127.5 1273.74,-127.5 1281.66,-127.5\"/>\n",
       "<polygon fill=\"black\" stroke=\"black\" points=\"1281.91,-131 1291.91,-127.5 1281.91,-124 1281.91,-131\"/>\n",
       "</g>\n",
       "<!-- 1376061738768+&#45;&gt;1376061738768 -->\n",
       "<g id=\"edge5\" class=\"edge\">\n",
       "<title>1376061738768+&#45;&gt;1376061738768</title>\n",
       "<path fill=\"none\" stroke=\"black\" d=\"M1035.04,-127.5C1042.58,-127.5 1051.3,-127.5 1060.57,-127.5\"/>\n",
       "<polygon fill=\"black\" stroke=\"black\" points=\"1060.81,-131 1070.81,-127.5 1060.81,-124 1060.81,-131\"/>\n",
       "</g>\n",
       "<!-- 1376061737744 -->\n",
       "<g id=\"node12\" class=\"node\">\n",
       "<title>1376061737744</title>\n",
       "<polygon fill=\"none\" stroke=\"black\" points=\"2.5,-110.5 2.5,-146.5 197.5,-146.5 197.5,-110.5 2.5,-110.5\"/>\n",
       "<text text-anchor=\"middle\" x=\"19\" y=\"-124.8\" font-family=\"Times New Roman,serif\" font-size=\"14.00\">w2</text>\n",
       "<polyline fill=\"none\" stroke=\"black\" points=\"35.5,-110.5 35.5,-146.5 \"/>\n",
       "<text text-anchor=\"middle\" x=\"75.5\" y=\"-124.8\" font-family=\"Times New Roman,serif\" font-size=\"14.00\">data 1.0000</text>\n",
       "<polyline fill=\"none\" stroke=\"black\" points=\"115.5,-110.5 115.5,-146.5 \"/>\n",
       "<text text-anchor=\"middle\" x=\"156.5\" y=\"-124.8\" font-family=\"Times New Roman,serif\" font-size=\"14.00\">grad 0.0000</text>\n",
       "</g>\n",
       "<!-- 1376061737744&#45;&gt;1376061738640* -->\n",
       "<g id=\"edge6\" class=\"edge\">\n",
       "<title>1376061737744&#45;&gt;1376061738640*</title>\n",
       "<path fill=\"none\" stroke=\"black\" d=\"M197.91,-128.5C207.65,-128.5 217.05,-128.5 225.52,-128.5\"/>\n",
       "<polygon fill=\"black\" stroke=\"black\" points=\"225.7,-132 235.7,-128.5 225.7,-125 225.7,-132\"/>\n",
       "</g>\n",
       "<!-- 1376061738320 -->\n",
       "<g id=\"node13\" class=\"node\">\n",
       "<title>1376061738320</title>\n",
       "<polygon fill=\"none\" stroke=\"black\" points=\"0,-55.5 0,-91.5 200,-91.5 200,-55.5 0,-55.5\"/>\n",
       "<text text-anchor=\"middle\" x=\"16.5\" y=\"-69.8\" font-family=\"Times New Roman,serif\" font-size=\"14.00\">w1</text>\n",
       "<polyline fill=\"none\" stroke=\"black\" points=\"33,-55.5 33,-91.5 \"/>\n",
       "<text text-anchor=\"middle\" x=\"75.5\" y=\"-69.8\" font-family=\"Times New Roman,serif\" font-size=\"14.00\">data &#45;3.0000</text>\n",
       "<polyline fill=\"none\" stroke=\"black\" points=\"118,-55.5 118,-91.5 \"/>\n",
       "<text text-anchor=\"middle\" x=\"159\" y=\"-69.8\" font-family=\"Times New Roman,serif\" font-size=\"14.00\">grad 1.0000</text>\n",
       "</g>\n",
       "<!-- 1376061738320&#45;&gt;1376061738512* -->\n",
       "<g id=\"edge11\" class=\"edge\">\n",
       "<title>1376061738320&#45;&gt;1376061738512*</title>\n",
       "<path fill=\"none\" stroke=\"black\" d=\"M200.21,-73.5C209.2,-73.5 217.86,-73.5 225.7,-73.5\"/>\n",
       "<polygon fill=\"black\" stroke=\"black\" points=\"225.85,-77 235.85,-73.5 225.85,-70 225.85,-77\"/>\n",
       "</g>\n",
       "<!-- 1376061737296 -->\n",
       "<g id=\"node14\" class=\"node\">\n",
       "<title>1376061737296</title>\n",
       "<polygon fill=\"none\" stroke=\"black\" points=\"2,-0.5 2,-36.5 198,-36.5 198,-0.5 2,-0.5\"/>\n",
       "<text text-anchor=\"middle\" x=\"17\" y=\"-14.8\" font-family=\"Times New Roman,serif\" font-size=\"14.00\">x1</text>\n",
       "<polyline fill=\"none\" stroke=\"black\" points=\"32,-0.5 32,-36.5 \"/>\n",
       "<text text-anchor=\"middle\" x=\"72\" y=\"-14.8\" font-family=\"Times New Roman,serif\" font-size=\"14.00\">data 2.0000</text>\n",
       "<polyline fill=\"none\" stroke=\"black\" points=\"112,-0.5 112,-36.5 \"/>\n",
       "<text text-anchor=\"middle\" x=\"155\" y=\"-14.8\" font-family=\"Times New Roman,serif\" font-size=\"14.00\">grad &#45;1.5000</text>\n",
       "</g>\n",
       "<!-- 1376061737296&#45;&gt;1376061738512* -->\n",
       "<g id=\"edge12\" class=\"edge\">\n",
       "<title>1376061737296&#45;&gt;1376061738512*</title>\n",
       "<path fill=\"none\" stroke=\"black\" d=\"M169.28,-36.5C179.65,-39.61 190.16,-42.98 200,-46.5 210.28,-50.17 221.28,-54.74 231.11,-59.07\"/>\n",
       "<polygon fill=\"black\" stroke=\"black\" points=\"229.93,-62.37 240.48,-63.27 232.79,-55.99 229.93,-62.37\"/>\n",
       "</g>\n",
       "<!-- 1376061738384 -->\n",
       "<g id=\"node15\" class=\"node\">\n",
       "<title>1376061738384</title>\n",
       "<polygon fill=\"none\" stroke=\"black\" points=\"716,-137.5 716,-173.5 901,-173.5 901,-137.5 716,-137.5\"/>\n",
       "<text text-anchor=\"middle\" x=\"727.5\" y=\"-151.8\" font-family=\"Times New Roman,serif\" font-size=\"14.00\">b</text>\n",
       "<polyline fill=\"none\" stroke=\"black\" points=\"739,-137.5 739,-173.5 \"/>\n",
       "<text text-anchor=\"middle\" x=\"779\" y=\"-151.8\" font-family=\"Times New Roman,serif\" font-size=\"14.00\">data 6.8814</text>\n",
       "<polyline fill=\"none\" stroke=\"black\" points=\"819,-137.5 819,-173.5 \"/>\n",
       "<text text-anchor=\"middle\" x=\"860\" y=\"-151.8\" font-family=\"Times New Roman,serif\" font-size=\"14.00\">grad 0.5000</text>\n",
       "</g>\n",
       "<!-- 1376061738384&#45;&gt;1376061738768+ -->\n",
       "<g id=\"edge10\" class=\"edge\">\n",
       "<title>1376061738384&#45;&gt;1376061738768+</title>\n",
       "<path fill=\"none\" stroke=\"black\" d=\"M901.02,-142.52C926,-138.98 951.59,-135.36 971.37,-132.55\"/>\n",
       "<polygon fill=\"black\" stroke=\"black\" points=\"972.03,-135.99 981.43,-131.12 971.04,-129.06 972.03,-135.99\"/>\n",
       "</g>\n",
       "</g>\n",
       "</svg>\n"
      ],
      "text/plain": [
       "<graphviz.graphs.Digraph at 0x140631fe610>"
      ]
     },
     "execution_count": 11,
     "metadata": {},
     "output_type": "execute_result"
    }
   ],
   "source": [
    "draw_dot(o)"
   ]
  },
  {
   "cell_type": "code",
   "execution_count": 12,
   "metadata": {},
   "outputs": [
    {
     "data": {
      "image/svg+xml": [
       "<?xml version=\"1.0\" encoding=\"UTF-8\" standalone=\"no\"?>\n",
       "<!DOCTYPE svg PUBLIC \"-//W3C//DTD SVG 1.1//EN\"\n",
       " \"http://www.w3.org/Graphics/SVG/1.1/DTD/svg11.dtd\">\n",
       "<!-- Generated by graphviz version 2.50.0 (0)\n",
       " -->\n",
       "<!-- Pages: 1 -->\n",
       "<svg width=\"2944pt\" height=\"239pt\"\n",
       " viewBox=\"0.00 0.00 2944.00 239.00\" xmlns=\"http://www.w3.org/2000/svg\" xmlns:xlink=\"http://www.w3.org/1999/xlink\">\n",
       "<g id=\"graph0\" class=\"graph\" transform=\"scale(1 1) rotate(0) translate(4 235)\">\n",
       "<polygon fill=\"white\" stroke=\"transparent\" points=\"-4,4 -4,-235 2940,-235 2940,4 -4,4\"/>\n",
       "<!-- 1376061744656 -->\n",
       "<g id=\"node1\" class=\"node\">\n",
       "<title>1376061744656</title>\n",
       "<polygon fill=\"none\" stroke=\"black\" points=\"1690.5,-110.5 1690.5,-146.5 1876.5,-146.5 1876.5,-110.5 1690.5,-110.5\"/>\n",
       "<text text-anchor=\"middle\" x=\"1700.5\" y=\"-124.8\" font-family=\"Times New Roman,serif\" font-size=\"14.00\"> </text>\n",
       "<polyline fill=\"none\" stroke=\"black\" points=\"1710.5,-110.5 1710.5,-146.5 \"/>\n",
       "<text text-anchor=\"middle\" x=\"1750.5\" y=\"-124.8\" font-family=\"Times New Roman,serif\" font-size=\"14.00\">data 1.0000</text>\n",
       "<polyline fill=\"none\" stroke=\"black\" points=\"1790.5,-110.5 1790.5,-146.5 \"/>\n",
       "<text text-anchor=\"middle\" x=\"1833.5\" y=\"-124.8\" font-family=\"Times New Roman,serif\" font-size=\"14.00\">grad &#45;0.1036</text>\n",
       "</g>\n",
       "<!-- 1376061744208+ -->\n",
       "<g id=\"node6\" class=\"node\">\n",
       "<title>1376061744208+</title>\n",
       "<ellipse fill=\"none\" stroke=\"black\" cx=\"1940\" cy=\"-100.5\" rx=\"27\" ry=\"18\"/>\n",
       "<text text-anchor=\"middle\" x=\"1940\" y=\"-96.8\" font-family=\"Times New Roman,serif\" font-size=\"14.00\">+</text>\n",
       "</g>\n",
       "<!-- 1376061744656&#45;&gt;1376061744208+ -->\n",
       "<g id=\"edge11\" class=\"edge\">\n",
       "<title>1376061744656&#45;&gt;1376061744208+</title>\n",
       "<path fill=\"none\" stroke=\"black\" d=\"M1876.6,-111.81C1886.15,-110.08 1895.37,-108.41 1903.68,-106.9\"/>\n",
       "<polygon fill=\"black\" stroke=\"black\" points=\"1904.43,-110.32 1913.65,-105.09 1903.18,-103.43 1904.43,-110.32\"/>\n",
       "</g>\n",
       "<!-- 1376061744144 -->\n",
       "<g id=\"node2\" class=\"node\">\n",
       "<title>1376061744144</title>\n",
       "<polygon fill=\"none\" stroke=\"black\" points=\"326,-139.5 326,-175.5 546,-175.5 546,-139.5 326,-139.5\"/>\n",
       "<text text-anchor=\"middle\" x=\"352.5\" y=\"-153.8\" font-family=\"Times New Roman,serif\" font-size=\"14.00\">x1*w1</text>\n",
       "<polyline fill=\"none\" stroke=\"black\" points=\"379,-139.5 379,-175.5 \"/>\n",
       "<text text-anchor=\"middle\" x=\"421.5\" y=\"-153.8\" font-family=\"Times New Roman,serif\" font-size=\"14.00\">data &#45;6.0000</text>\n",
       "<polyline fill=\"none\" stroke=\"black\" points=\"464,-139.5 464,-175.5 \"/>\n",
       "<text text-anchor=\"middle\" x=\"505\" y=\"-153.8\" font-family=\"Times New Roman,serif\" font-size=\"14.00\">grad 0.5000</text>\n",
       "</g>\n",
       "<!-- 1376061744336+ -->\n",
       "<g id=\"node13\" class=\"node\">\n",
       "<title>1376061744336+</title>\n",
       "<ellipse fill=\"none\" stroke=\"black\" cx=\"609\" cy=\"-129.5\" rx=\"27\" ry=\"18\"/>\n",
       "<text text-anchor=\"middle\" x=\"609\" y=\"-125.8\" font-family=\"Times New Roman,serif\" font-size=\"14.00\">+</text>\n",
       "</g>\n",
       "<!-- 1376061744144&#45;&gt;1376061744336+ -->\n",
       "<g id=\"edge16\" class=\"edge\">\n",
       "<title>1376061744144&#45;&gt;1376061744336+</title>\n",
       "<path fill=\"none\" stroke=\"black\" d=\"M546.27,-139.61C555.64,-138.07 564.6,-136.61 572.65,-135.29\"/>\n",
       "<polygon fill=\"black\" stroke=\"black\" points=\"573.35,-138.72 582.65,-133.65 572.22,-131.81 573.35,-138.72\"/>\n",
       "</g>\n",
       "<!-- 1376061744144* -->\n",
       "<g id=\"node3\" class=\"node\">\n",
       "<title>1376061744144*</title>\n",
       "<ellipse fill=\"none\" stroke=\"black\" cx=\"263\" cy=\"-157.5\" rx=\"27\" ry=\"18\"/>\n",
       "<text text-anchor=\"middle\" x=\"263\" y=\"-153.8\" font-family=\"Times New Roman,serif\" font-size=\"14.00\">*</text>\n",
       "</g>\n",
       "<!-- 1376061744144*&#45;&gt;1376061744144 -->\n",
       "<g id=\"edge1\" class=\"edge\">\n",
       "<title>1376061744144*&#45;&gt;1376061744144</title>\n",
       "<path fill=\"none\" stroke=\"black\" d=\"M290.34,-157.5C297.77,-157.5 306.37,-157.5 315.6,-157.5\"/>\n",
       "<polygon fill=\"black\" stroke=\"black\" points=\"315.84,-161 325.84,-157.5 315.84,-154 315.84,-161\"/>\n",
       "</g>\n",
       "<!-- 1376061744592 -->\n",
       "<g id=\"node4\" class=\"node\">\n",
       "<title>1376061744592</title>\n",
       "<polygon fill=\"none\" stroke=\"black\" points=\"1690,-0.5 1690,-36.5 1877,-36.5 1877,-0.5 1690,-0.5\"/>\n",
       "<text text-anchor=\"middle\" x=\"1700\" y=\"-14.8\" font-family=\"Times New Roman,serif\" font-size=\"14.00\"> </text>\n",
       "<polyline fill=\"none\" stroke=\"black\" points=\"1710,-0.5 1710,-36.5 \"/>\n",
       "<text text-anchor=\"middle\" x=\"1752.5\" y=\"-14.8\" font-family=\"Times New Roman,serif\" font-size=\"14.00\">data &#45;1.0000</text>\n",
       "<polyline fill=\"none\" stroke=\"black\" points=\"1795,-0.5 1795,-36.5 \"/>\n",
       "<text text-anchor=\"middle\" x=\"1836\" y=\"-14.8\" font-family=\"Times New Roman,serif\" font-size=\"14.00\">grad 0.1464</text>\n",
       "</g>\n",
       "<!-- 1376061744464+ -->\n",
       "<g id=\"node24\" class=\"node\">\n",
       "<title>1376061744464+</title>\n",
       "<ellipse fill=\"none\" stroke=\"black\" cx=\"1940\" cy=\"-45.5\" rx=\"27\" ry=\"18\"/>\n",
       "<text text-anchor=\"middle\" x=\"1940\" y=\"-41.8\" font-family=\"Times New Roman,serif\" font-size=\"14.00\">+</text>\n",
       "</g>\n",
       "<!-- 1376061744592&#45;&gt;1376061744464+ -->\n",
       "<g id=\"edge25\" class=\"edge\">\n",
       "<title>1376061744592&#45;&gt;1376061744464+</title>\n",
       "<path fill=\"none\" stroke=\"black\" d=\"M1877.05,-34.67C1886.34,-36.3 1895.33,-37.87 1903.44,-39.29\"/>\n",
       "<polygon fill=\"black\" stroke=\"black\" points=\"1903.1,-42.78 1913.55,-41.05 1904.3,-35.88 1903.1,-42.78\"/>\n",
       "</g>\n",
       "<!-- 1376061744208 -->\n",
       "<g id=\"node5\" class=\"node\">\n",
       "<title>1376061744208</title>\n",
       "<polygon fill=\"none\" stroke=\"black\" points=\"2003,-82.5 2003,-118.5 2189,-118.5 2189,-82.5 2003,-82.5\"/>\n",
       "<text text-anchor=\"middle\" x=\"2013\" y=\"-96.8\" font-family=\"Times New Roman,serif\" font-size=\"14.00\"> </text>\n",
       "<polyline fill=\"none\" stroke=\"black\" points=\"2023,-82.5 2023,-118.5 \"/>\n",
       "<text text-anchor=\"middle\" x=\"2063\" y=\"-96.8\" font-family=\"Times New Roman,serif\" font-size=\"14.00\">data 6.8284</text>\n",
       "<polyline fill=\"none\" stroke=\"black\" points=\"2103,-82.5 2103,-118.5 \"/>\n",
       "<text text-anchor=\"middle\" x=\"2146\" y=\"-96.8\" font-family=\"Times New Roman,serif\" font-size=\"14.00\">grad &#45;0.1036</text>\n",
       "</g>\n",
       "<!-- 1376061744976**&#45;1 -->\n",
       "<g id=\"node21\" class=\"node\">\n",
       "<title>1376061744976**&#45;1</title>\n",
       "<ellipse fill=\"none\" stroke=\"black\" cx=\"2316\" cy=\"-100.5\" rx=\"27\" ry=\"18\"/>\n",
       "<text text-anchor=\"middle\" x=\"2316\" y=\"-96.8\" font-family=\"Times New Roman,serif\" font-size=\"14.00\">**&#45;1</text>\n",
       "</g>\n",
       "<!-- 1376061744208&#45;&gt;1376061744976**&#45;1 -->\n",
       "<g id=\"edge12\" class=\"edge\">\n",
       "<title>1376061744208&#45;&gt;1376061744976**&#45;1</title>\n",
       "<path fill=\"none\" stroke=\"black\" d=\"M2189.14,-100.5C2220.72,-100.5 2254.24,-100.5 2278.74,-100.5\"/>\n",
       "<polygon fill=\"black\" stroke=\"black\" points=\"2278.98,-104 2288.98,-100.5 2278.98,-97 2278.98,-104\"/>\n",
       "</g>\n",
       "<!-- 1376061744208+&#45;&gt;1376061744208 -->\n",
       "<g id=\"edge2\" class=\"edge\">\n",
       "<title>1376061744208+&#45;&gt;1376061744208</title>\n",
       "<path fill=\"none\" stroke=\"black\" d=\"M1967.12,-100.5C1974.62,-100.5 1983.29,-100.5 1992.5,-100.5\"/>\n",
       "<polygon fill=\"black\" stroke=\"black\" points=\"1992.69,-104 2002.69,-100.5 1992.69,-97 1992.69,-104\"/>\n",
       "</g>\n",
       "<!-- 1376061745104 -->\n",
       "<g id=\"node7\" class=\"node\">\n",
       "<title>1376061745104</title>\n",
       "<polygon fill=\"none\" stroke=\"black\" points=\"2751,-54.5 2751,-90.5 2936,-90.5 2936,-54.5 2751,-54.5\"/>\n",
       "<text text-anchor=\"middle\" x=\"2762.5\" y=\"-68.8\" font-family=\"Times New Roman,serif\" font-size=\"14.00\">o</text>\n",
       "<polyline fill=\"none\" stroke=\"black\" points=\"2774,-54.5 2774,-90.5 \"/>\n",
       "<text text-anchor=\"middle\" x=\"2814\" y=\"-68.8\" font-family=\"Times New Roman,serif\" font-size=\"14.00\">data 0.7071</text>\n",
       "<polyline fill=\"none\" stroke=\"black\" points=\"2854,-54.5 2854,-90.5 \"/>\n",
       "<text text-anchor=\"middle\" x=\"2895\" y=\"-68.8\" font-family=\"Times New Roman,serif\" font-size=\"14.00\">grad 1.0000</text>\n",
       "</g>\n",
       "<!-- 1376061745104* -->\n",
       "<g id=\"node8\" class=\"node\">\n",
       "<title>1376061745104*</title>\n",
       "<ellipse fill=\"none\" stroke=\"black\" cx=\"2688\" cy=\"-72.5\" rx=\"27\" ry=\"18\"/>\n",
       "<text text-anchor=\"middle\" x=\"2688\" y=\"-68.8\" font-family=\"Times New Roman,serif\" font-size=\"14.00\">*</text>\n",
       "</g>\n",
       "<!-- 1376061745104*&#45;&gt;1376061745104 -->\n",
       "<g id=\"edge3\" class=\"edge\">\n",
       "<title>1376061745104*&#45;&gt;1376061745104</title>\n",
       "<path fill=\"none\" stroke=\"black\" d=\"M2715.04,-72.5C2722.58,-72.5 2731.3,-72.5 2740.57,-72.5\"/>\n",
       "<polygon fill=\"black\" stroke=\"black\" points=\"2740.81,-76 2750.81,-72.5 2740.81,-69 2740.81,-76\"/>\n",
       "</g>\n",
       "<!-- 1376061744272 -->\n",
       "<g id=\"node9\" class=\"node\">\n",
       "<title>1376061744272</title>\n",
       "<polygon fill=\"none\" stroke=\"black\" points=\"328.5,-84.5 328.5,-120.5 543.5,-120.5 543.5,-84.5 328.5,-84.5\"/>\n",
       "<text text-anchor=\"middle\" x=\"355\" y=\"-98.8\" font-family=\"Times New Roman,serif\" font-size=\"14.00\">x2*w2</text>\n",
       "<polyline fill=\"none\" stroke=\"black\" points=\"381.5,-84.5 381.5,-120.5 \"/>\n",
       "<text text-anchor=\"middle\" x=\"421.5\" y=\"-98.8\" font-family=\"Times New Roman,serif\" font-size=\"14.00\">data 0.0000</text>\n",
       "<polyline fill=\"none\" stroke=\"black\" points=\"461.5,-84.5 461.5,-120.5 \"/>\n",
       "<text text-anchor=\"middle\" x=\"502.5\" y=\"-98.8\" font-family=\"Times New Roman,serif\" font-size=\"14.00\">grad 0.5000</text>\n",
       "</g>\n",
       "<!-- 1376061744272&#45;&gt;1376061744336+ -->\n",
       "<g id=\"edge20\" class=\"edge\">\n",
       "<title>1376061744272&#45;&gt;1376061744336+</title>\n",
       "<path fill=\"none\" stroke=\"black\" d=\"M543.84,-119.37C554.01,-120.98 563.76,-122.51 572.44,-123.89\"/>\n",
       "<polygon fill=\"black\" stroke=\"black\" points=\"572.05,-127.37 582.47,-125.47 573.14,-120.45 572.05,-127.37\"/>\n",
       "</g>\n",
       "<!-- 1376061744272* -->\n",
       "<g id=\"node10\" class=\"node\">\n",
       "<title>1376061744272*</title>\n",
       "<ellipse fill=\"none\" stroke=\"black\" cx=\"263\" cy=\"-102.5\" rx=\"27\" ry=\"18\"/>\n",
       "<text text-anchor=\"middle\" x=\"263\" y=\"-98.8\" font-family=\"Times New Roman,serif\" font-size=\"14.00\">*</text>\n",
       "</g>\n",
       "<!-- 1376061744272*&#45;&gt;1376061744272 -->\n",
       "<g id=\"edge4\" class=\"edge\">\n",
       "<title>1376061744272*&#45;&gt;1376061744272</title>\n",
       "<path fill=\"none\" stroke=\"black\" d=\"M290.34,-102.5C298.51,-102.5 308.08,-102.5 318.36,-102.5\"/>\n",
       "<polygon fill=\"black\" stroke=\"black\" points=\"318.39,-106 328.39,-102.5 318.39,-99 318.39,-106\"/>\n",
       "</g>\n",
       "<!-- 1376061743248 -->\n",
       "<g id=\"node11\" class=\"node\">\n",
       "<title>1376061743248</title>\n",
       "<polygon fill=\"none\" stroke=\"black\" points=\"2,-194.5 2,-230.5 198,-230.5 198,-194.5 2,-194.5\"/>\n",
       "<text text-anchor=\"middle\" x=\"17\" y=\"-208.8\" font-family=\"Times New Roman,serif\" font-size=\"14.00\">x1</text>\n",
       "<polyline fill=\"none\" stroke=\"black\" points=\"32,-194.5 32,-230.5 \"/>\n",
       "<text text-anchor=\"middle\" x=\"72\" y=\"-208.8\" font-family=\"Times New Roman,serif\" font-size=\"14.00\">data 2.0000</text>\n",
       "<polyline fill=\"none\" stroke=\"black\" points=\"112,-194.5 112,-230.5 \"/>\n",
       "<text text-anchor=\"middle\" x=\"155\" y=\"-208.8\" font-family=\"Times New Roman,serif\" font-size=\"14.00\">grad &#45;1.5000</text>\n",
       "</g>\n",
       "<!-- 1376061743248&#45;&gt;1376061744144* -->\n",
       "<g id=\"edge17\" class=\"edge\">\n",
       "<title>1376061743248&#45;&gt;1376061744144*</title>\n",
       "<path fill=\"none\" stroke=\"black\" d=\"M172.53,-194.44C181.84,-191.67 191.2,-188.67 200,-185.5 210.53,-181.71 221.75,-176.9 231.72,-172.33\"/>\n",
       "<polygon fill=\"black\" stroke=\"black\" points=\"233.25,-175.48 240.82,-168.07 230.28,-169.14 233.25,-175.48\"/>\n",
       "</g>\n",
       "<!-- 1376061744336 -->\n",
       "<g id=\"node12\" class=\"node\">\n",
       "<title>1376061744336</title>\n",
       "<polygon fill=\"none\" stroke=\"black\" points=\"672,-111.5 672,-147.5 945,-147.5 945,-111.5 672,-111.5\"/>\n",
       "<text text-anchor=\"middle\" x=\"725\" y=\"-125.8\" font-family=\"Times New Roman,serif\" font-size=\"14.00\">x1*w1 + x2*w2</text>\n",
       "<polyline fill=\"none\" stroke=\"black\" points=\"778,-111.5 778,-147.5 \"/>\n",
       "<text text-anchor=\"middle\" x=\"820.5\" y=\"-125.8\" font-family=\"Times New Roman,serif\" font-size=\"14.00\">data &#45;6.0000</text>\n",
       "<polyline fill=\"none\" stroke=\"black\" points=\"863,-111.5 863,-147.5 \"/>\n",
       "<text text-anchor=\"middle\" x=\"904\" y=\"-125.8\" font-family=\"Times New Roman,serif\" font-size=\"14.00\">grad 0.5000</text>\n",
       "</g>\n",
       "<!-- 1376061744400+ -->\n",
       "<g id=\"node17\" class=\"node\">\n",
       "<title>1376061744400+</title>\n",
       "<ellipse fill=\"none\" stroke=\"black\" cx=\"1008\" cy=\"-101.5\" rx=\"27\" ry=\"18\"/>\n",
       "<text text-anchor=\"middle\" x=\"1008\" y=\"-97.8\" font-family=\"Times New Roman,serif\" font-size=\"14.00\">+</text>\n",
       "</g>\n",
       "<!-- 1376061744336&#45;&gt;1376061744400+ -->\n",
       "<g id=\"edge15\" class=\"edge\">\n",
       "<title>1376061744336&#45;&gt;1376061744400+</title>\n",
       "<path fill=\"none\" stroke=\"black\" d=\"M936.53,-111.49C949.09,-109.71 960.99,-108.02 971.3,-106.56\"/>\n",
       "<polygon fill=\"black\" stroke=\"black\" points=\"972.03,-109.99 981.44,-105.12 971.05,-103.06 972.03,-109.99\"/>\n",
       "</g>\n",
       "<!-- 1376061744336+&#45;&gt;1376061744336 -->\n",
       "<g id=\"edge5\" class=\"edge\">\n",
       "<title>1376061744336+&#45;&gt;1376061744336</title>\n",
       "<path fill=\"none\" stroke=\"black\" d=\"M636.23,-129.5C643.7,-129.5 652.41,-129.5 661.87,-129.5\"/>\n",
       "<polygon fill=\"black\" stroke=\"black\" points=\"661.98,-133 671.98,-129.5 661.98,-126 661.98,-133\"/>\n",
       "</g>\n",
       "<!-- 1376061743504 -->\n",
       "<g id=\"node14\" class=\"node\">\n",
       "<title>1376061743504</title>\n",
       "<polygon fill=\"none\" stroke=\"black\" points=\"4,-84.5 4,-120.5 196,-120.5 196,-84.5 4,-84.5\"/>\n",
       "<text text-anchor=\"middle\" x=\"19\" y=\"-98.8\" font-family=\"Times New Roman,serif\" font-size=\"14.00\">x2</text>\n",
       "<polyline fill=\"none\" stroke=\"black\" points=\"34,-84.5 34,-120.5 \"/>\n",
       "<text text-anchor=\"middle\" x=\"74\" y=\"-98.8\" font-family=\"Times New Roman,serif\" font-size=\"14.00\">data 0.0000</text>\n",
       "<polyline fill=\"none\" stroke=\"black\" points=\"114,-84.5 114,-120.5 \"/>\n",
       "<text text-anchor=\"middle\" x=\"155\" y=\"-98.8\" font-family=\"Times New Roman,serif\" font-size=\"14.00\">grad 0.5000</text>\n",
       "</g>\n",
       "<!-- 1376061743504&#45;&gt;1376061744272* -->\n",
       "<g id=\"edge24\" class=\"edge\">\n",
       "<title>1376061743504&#45;&gt;1376061744272*</title>\n",
       "<path fill=\"none\" stroke=\"black\" d=\"M196.05,-102.5C206.52,-102.5 216.65,-102.5 225.71,-102.5\"/>\n",
       "<polygon fill=\"black\" stroke=\"black\" points=\"225.79,-106 235.79,-102.5 225.79,-99 225.79,-106\"/>\n",
       "</g>\n",
       "<!-- 1376061744016 -->\n",
       "<g id=\"node15\" class=\"node\">\n",
       "<title>1376061744016</title>\n",
       "<polygon fill=\"none\" stroke=\"black\" points=\"0,-139.5 0,-175.5 200,-175.5 200,-139.5 0,-139.5\"/>\n",
       "<text text-anchor=\"middle\" x=\"16.5\" y=\"-153.8\" font-family=\"Times New Roman,serif\" font-size=\"14.00\">w1</text>\n",
       "<polyline fill=\"none\" stroke=\"black\" points=\"33,-139.5 33,-175.5 \"/>\n",
       "<text text-anchor=\"middle\" x=\"75.5\" y=\"-153.8\" font-family=\"Times New Roman,serif\" font-size=\"14.00\">data &#45;3.0000</text>\n",
       "<polyline fill=\"none\" stroke=\"black\" points=\"118,-139.5 118,-175.5 \"/>\n",
       "<text text-anchor=\"middle\" x=\"159\" y=\"-153.8\" font-family=\"Times New Roman,serif\" font-size=\"14.00\">grad 1.0000</text>\n",
       "</g>\n",
       "<!-- 1376061744016&#45;&gt;1376061744144* -->\n",
       "<g id=\"edge14\" class=\"edge\">\n",
       "<title>1376061744016&#45;&gt;1376061744144*</title>\n",
       "<path fill=\"none\" stroke=\"black\" d=\"M200.21,-157.5C209.2,-157.5 217.86,-157.5 225.7,-157.5\"/>\n",
       "<polygon fill=\"black\" stroke=\"black\" points=\"225.85,-161 235.85,-157.5 225.85,-154 225.85,-161\"/>\n",
       "</g>\n",
       "<!-- 1376061744400 -->\n",
       "<g id=\"node16\" class=\"node\">\n",
       "<title>1376061744400</title>\n",
       "<polygon fill=\"none\" stroke=\"black\" points=\"1071,-83.5 1071,-119.5 1256,-119.5 1256,-83.5 1071,-83.5\"/>\n",
       "<text text-anchor=\"middle\" x=\"1082.5\" y=\"-97.8\" font-family=\"Times New Roman,serif\" font-size=\"14.00\">n</text>\n",
       "<polyline fill=\"none\" stroke=\"black\" points=\"1094,-83.5 1094,-119.5 \"/>\n",
       "<text text-anchor=\"middle\" x=\"1134\" y=\"-97.8\" font-family=\"Times New Roman,serif\" font-size=\"14.00\">data 0.8814</text>\n",
       "<polyline fill=\"none\" stroke=\"black\" points=\"1174,-83.5 1174,-119.5 \"/>\n",
       "<text text-anchor=\"middle\" x=\"1215\" y=\"-97.8\" font-family=\"Times New Roman,serif\" font-size=\"14.00\">grad 0.5000</text>\n",
       "</g>\n",
       "<!-- 1376061744528* -->\n",
       "<g id=\"node26\" class=\"node\">\n",
       "<title>1376061744528*</title>\n",
       "<ellipse fill=\"none\" stroke=\"black\" cx=\"1319\" cy=\"-73.5\" rx=\"27\" ry=\"18\"/>\n",
       "<text text-anchor=\"middle\" x=\"1319\" y=\"-69.8\" font-family=\"Times New Roman,serif\" font-size=\"14.00\">*</text>\n",
       "</g>\n",
       "<!-- 1376061744400&#45;&gt;1376061744528* -->\n",
       "<g id=\"edge19\" class=\"edge\">\n",
       "<title>1376061744400&#45;&gt;1376061744528*</title>\n",
       "<path fill=\"none\" stroke=\"black\" d=\"M1256.01,-84.81C1265.49,-83.08 1274.66,-81.41 1282.9,-79.9\"/>\n",
       "<polygon fill=\"black\" stroke=\"black\" points=\"1283.6,-83.33 1292.81,-78.09 1282.35,-76.45 1283.6,-83.33\"/>\n",
       "</g>\n",
       "<!-- 1376061744400+&#45;&gt;1376061744400 -->\n",
       "<g id=\"edge6\" class=\"edge\">\n",
       "<title>1376061744400+&#45;&gt;1376061744400</title>\n",
       "<path fill=\"none\" stroke=\"black\" d=\"M1035.04,-101.5C1042.58,-101.5 1051.3,-101.5 1060.57,-101.5\"/>\n",
       "<polygon fill=\"black\" stroke=\"black\" points=\"1060.81,-105 1070.81,-101.5 1060.81,-98 1060.81,-105\"/>\n",
       "</g>\n",
       "<!-- 1376061743888 -->\n",
       "<g id=\"node18\" class=\"node\">\n",
       "<title>1376061743888</title>\n",
       "<polygon fill=\"none\" stroke=\"black\" points=\"716,-56.5 716,-92.5 901,-92.5 901,-56.5 716,-56.5\"/>\n",
       "<text text-anchor=\"middle\" x=\"727.5\" y=\"-70.8\" font-family=\"Times New Roman,serif\" font-size=\"14.00\">b</text>\n",
       "<polyline fill=\"none\" stroke=\"black\" points=\"739,-56.5 739,-92.5 \"/>\n",
       "<text text-anchor=\"middle\" x=\"779\" y=\"-70.8\" font-family=\"Times New Roman,serif\" font-size=\"14.00\">data 6.8814</text>\n",
       "<polyline fill=\"none\" stroke=\"black\" points=\"819,-56.5 819,-92.5 \"/>\n",
       "<text text-anchor=\"middle\" x=\"860\" y=\"-70.8\" font-family=\"Times New Roman,serif\" font-size=\"14.00\">grad 0.5000</text>\n",
       "</g>\n",
       "<!-- 1376061743888&#45;&gt;1376061744400+ -->\n",
       "<g id=\"edge13\" class=\"edge\">\n",
       "<title>1376061743888&#45;&gt;1376061744400+</title>\n",
       "<path fill=\"none\" stroke=\"black\" d=\"M901.02,-87.01C926,-90.43 951.59,-93.93 971.37,-96.63\"/>\n",
       "<polygon fill=\"black\" stroke=\"black\" points=\"971.05,-100.12 981.43,-98.01 972,-93.18 971.05,-100.12\"/>\n",
       "</g>\n",
       "<!-- 1376061743376 -->\n",
       "<g id=\"node19\" class=\"node\">\n",
       "<title>1376061743376</title>\n",
       "<polygon fill=\"none\" stroke=\"black\" points=\"2.5,-29.5 2.5,-65.5 197.5,-65.5 197.5,-29.5 2.5,-29.5\"/>\n",
       "<text text-anchor=\"middle\" x=\"19\" y=\"-43.8\" font-family=\"Times New Roman,serif\" font-size=\"14.00\">w2</text>\n",
       "<polyline fill=\"none\" stroke=\"black\" points=\"35.5,-29.5 35.5,-65.5 \"/>\n",
       "<text text-anchor=\"middle\" x=\"75.5\" y=\"-43.8\" font-family=\"Times New Roman,serif\" font-size=\"14.00\">data 1.0000</text>\n",
       "<polyline fill=\"none\" stroke=\"black\" points=\"115.5,-29.5 115.5,-65.5 \"/>\n",
       "<text text-anchor=\"middle\" x=\"156.5\" y=\"-43.8\" font-family=\"Times New Roman,serif\" font-size=\"14.00\">grad 0.0000</text>\n",
       "</g>\n",
       "<!-- 1376061743376&#45;&gt;1376061744272* -->\n",
       "<g id=\"edge22\" class=\"edge\">\n",
       "<title>1376061743376&#45;&gt;1376061744272*</title>\n",
       "<path fill=\"none\" stroke=\"black\" d=\"M172.53,-65.56C181.84,-68.33 191.2,-71.33 200,-74.5 210.53,-78.29 221.75,-83.1 231.72,-87.67\"/>\n",
       "<polygon fill=\"black\" stroke=\"black\" points=\"230.28,-90.86 240.82,-91.93 233.25,-84.52 230.28,-90.86\"/>\n",
       "</g>\n",
       "<!-- 1376061744976 -->\n",
       "<g id=\"node20\" class=\"node\">\n",
       "<title>1376061744976</title>\n",
       "<polygon fill=\"none\" stroke=\"black\" points=\"2443,-80.5 2443,-116.5 2625,-116.5 2625,-80.5 2443,-80.5\"/>\n",
       "<text text-anchor=\"middle\" x=\"2453\" y=\"-94.8\" font-family=\"Times New Roman,serif\" font-size=\"14.00\"> </text>\n",
       "<polyline fill=\"none\" stroke=\"black\" points=\"2463,-80.5 2463,-116.5 \"/>\n",
       "<text text-anchor=\"middle\" x=\"2503\" y=\"-94.8\" font-family=\"Times New Roman,serif\" font-size=\"14.00\">data 0.1464</text>\n",
       "<polyline fill=\"none\" stroke=\"black\" points=\"2543,-80.5 2543,-116.5 \"/>\n",
       "<text text-anchor=\"middle\" x=\"2584\" y=\"-94.8\" font-family=\"Times New Roman,serif\" font-size=\"14.00\">grad 4.8284</text>\n",
       "</g>\n",
       "<!-- 1376061744976&#45;&gt;1376061745104* -->\n",
       "<g id=\"edge21\" class=\"edge\">\n",
       "<title>1376061744976&#45;&gt;1376061745104*</title>\n",
       "<path fill=\"none\" stroke=\"black\" d=\"M2625.18,-83.08C2634.42,-81.49 2643.38,-79.96 2651.47,-78.58\"/>\n",
       "<polygon fill=\"black\" stroke=\"black\" points=\"2652.29,-81.99 2661.56,-76.85 2651.11,-75.09 2652.29,-81.99\"/>\n",
       "</g>\n",
       "<!-- 1376061744976**&#45;1&#45;&gt;1376061744976 -->\n",
       "<g id=\"edge7\" class=\"edge\">\n",
       "<title>1376061744976**&#45;1&#45;&gt;1376061744976</title>\n",
       "<path fill=\"none\" stroke=\"black\" d=\"M2343.05,-100.26C2365.53,-100.05 2399.48,-99.74 2432.5,-99.43\"/>\n",
       "<polygon fill=\"black\" stroke=\"black\" points=\"2432.74,-102.93 2442.7,-99.34 2432.67,-95.93 2432.74,-102.93\"/>\n",
       "</g>\n",
       "<!-- 1376061743440 -->\n",
       "<g id=\"node22\" class=\"node\">\n",
       "<title>1376061743440</title>\n",
       "<polygon fill=\"none\" stroke=\"black\" points=\"1072.5,-28.5 1072.5,-64.5 1254.5,-64.5 1254.5,-28.5 1072.5,-28.5\"/>\n",
       "<text text-anchor=\"middle\" x=\"1082.5\" y=\"-42.8\" font-family=\"Times New Roman,serif\" font-size=\"14.00\"> </text>\n",
       "<polyline fill=\"none\" stroke=\"black\" points=\"1092.5,-28.5 1092.5,-64.5 \"/>\n",
       "<text text-anchor=\"middle\" x=\"1132.5\" y=\"-42.8\" font-family=\"Times New Roman,serif\" font-size=\"14.00\">data 2.0000</text>\n",
       "<polyline fill=\"none\" stroke=\"black\" points=\"1172.5,-28.5 1172.5,-64.5 \"/>\n",
       "<text text-anchor=\"middle\" x=\"1213.5\" y=\"-42.8\" font-family=\"Times New Roman,serif\" font-size=\"14.00\">grad 0.2203</text>\n",
       "</g>\n",
       "<!-- 1376061743440&#45;&gt;1376061744528* -->\n",
       "<g id=\"edge26\" class=\"edge\">\n",
       "<title>1376061743440&#45;&gt;1376061744528*</title>\n",
       "<path fill=\"none\" stroke=\"black\" d=\"M1254.68,-62.36C1264.61,-64.11 1274.23,-65.8 1282.84,-67.32\"/>\n",
       "<polygon fill=\"black\" stroke=\"black\" points=\"1282.36,-70.78 1292.81,-69.07 1283.57,-63.89 1282.36,-70.78\"/>\n",
       "</g>\n",
       "<!-- 1376061744464 -->\n",
       "<g id=\"node23\" class=\"node\">\n",
       "<title>1376061744464</title>\n",
       "<polygon fill=\"none\" stroke=\"black\" points=\"2225,-27.5 2225,-63.5 2407,-63.5 2407,-27.5 2225,-27.5\"/>\n",
       "<text text-anchor=\"middle\" x=\"2235\" y=\"-41.8\" font-family=\"Times New Roman,serif\" font-size=\"14.00\"> </text>\n",
       "<polyline fill=\"none\" stroke=\"black\" points=\"2245,-27.5 2245,-63.5 \"/>\n",
       "<text text-anchor=\"middle\" x=\"2285\" y=\"-41.8\" font-family=\"Times New Roman,serif\" font-size=\"14.00\">data 4.8284</text>\n",
       "<polyline fill=\"none\" stroke=\"black\" points=\"2325,-27.5 2325,-63.5 \"/>\n",
       "<text text-anchor=\"middle\" x=\"2366\" y=\"-41.8\" font-family=\"Times New Roman,serif\" font-size=\"14.00\">grad 0.1464</text>\n",
       "</g>\n",
       "<!-- 1376061744464&#45;&gt;1376061745104* -->\n",
       "<g id=\"edge23\" class=\"edge\">\n",
       "<title>1376061744464&#45;&gt;1376061745104*</title>\n",
       "<path fill=\"none\" stroke=\"black\" d=\"M2407.04,-52.07C2485.41,-57.79 2594.98,-65.79 2650.96,-69.87\"/>\n",
       "<polygon fill=\"black\" stroke=\"black\" points=\"2650.87,-73.37 2661.1,-70.61 2651.38,-66.39 2650.87,-73.37\"/>\n",
       "</g>\n",
       "<!-- 1376061744464+&#45;&gt;1376061744464 -->\n",
       "<g id=\"edge8\" class=\"edge\">\n",
       "<title>1376061744464+&#45;&gt;1376061744464</title>\n",
       "<path fill=\"none\" stroke=\"black\" d=\"M1967,-45.5C2017.46,-45.5 2131.06,-45.5 2214.81,-45.5\"/>\n",
       "<polygon fill=\"black\" stroke=\"black\" points=\"2214.87,-49 2224.87,-45.5 2214.87,-42 2214.87,-49\"/>\n",
       "</g>\n",
       "<!-- 1376061744528 -->\n",
       "<g id=\"node25\" class=\"node\">\n",
       "<title>1376061744528</title>\n",
       "<polygon fill=\"none\" stroke=\"black\" points=\"1382,-55.5 1382,-91.5 1564,-91.5 1564,-55.5 1382,-55.5\"/>\n",
       "<text text-anchor=\"middle\" x=\"1392\" y=\"-69.8\" font-family=\"Times New Roman,serif\" font-size=\"14.00\"> </text>\n",
       "<polyline fill=\"none\" stroke=\"black\" points=\"1402,-55.5 1402,-91.5 \"/>\n",
       "<text text-anchor=\"middle\" x=\"1442\" y=\"-69.8\" font-family=\"Times New Roman,serif\" font-size=\"14.00\">data 1.7627</text>\n",
       "<polyline fill=\"none\" stroke=\"black\" points=\"1482,-55.5 1482,-91.5 \"/>\n",
       "<text text-anchor=\"middle\" x=\"1523\" y=\"-69.8\" font-family=\"Times New Roman,serif\" font-size=\"14.00\">grad 0.2500</text>\n",
       "</g>\n",
       "<!-- 1376061744080exp -->\n",
       "<g id=\"node28\" class=\"node\">\n",
       "<title>1376061744080exp</title>\n",
       "<ellipse fill=\"none\" stroke=\"black\" cx=\"1627\" cy=\"-73.5\" rx=\"27\" ry=\"18\"/>\n",
       "<text text-anchor=\"middle\" x=\"1627\" y=\"-69.8\" font-family=\"Times New Roman,serif\" font-size=\"14.00\">exp</text>\n",
       "</g>\n",
       "<!-- 1376061744528&#45;&gt;1376061744080exp -->\n",
       "<g id=\"edge18\" class=\"edge\">\n",
       "<title>1376061744528&#45;&gt;1376061744080exp</title>\n",
       "<path fill=\"none\" stroke=\"black\" d=\"M1564.18,-73.5C1573.14,-73.5 1581.83,-73.5 1589.73,-73.5\"/>\n",
       "<polygon fill=\"black\" stroke=\"black\" points=\"1589.96,-77 1599.96,-73.5 1589.96,-70 1589.96,-77\"/>\n",
       "</g>\n",
       "<!-- 1376061744528*&#45;&gt;1376061744528 -->\n",
       "<g id=\"edge9\" class=\"edge\">\n",
       "<title>1376061744528*&#45;&gt;1376061744528</title>\n",
       "<path fill=\"none\" stroke=\"black\" d=\"M1346.13,-73.5C1353.67,-73.5 1362.39,-73.5 1371.64,-73.5\"/>\n",
       "<polygon fill=\"black\" stroke=\"black\" points=\"1371.87,-77 1381.87,-73.5 1371.87,-70 1371.87,-77\"/>\n",
       "</g>\n",
       "<!-- 1376061744080 -->\n",
       "<g id=\"node27\" class=\"node\">\n",
       "<title>1376061744080</title>\n",
       "<polygon fill=\"none\" stroke=\"black\" points=\"1692.5,-55.5 1692.5,-91.5 1874.5,-91.5 1874.5,-55.5 1692.5,-55.5\"/>\n",
       "<text text-anchor=\"middle\" x=\"1702.5\" y=\"-69.8\" font-family=\"Times New Roman,serif\" font-size=\"14.00\"> </text>\n",
       "<polyline fill=\"none\" stroke=\"black\" points=\"1712.5,-55.5 1712.5,-91.5 \"/>\n",
       "<text text-anchor=\"middle\" x=\"1752.5\" y=\"-69.8\" font-family=\"Times New Roman,serif\" font-size=\"14.00\">data 5.8284</text>\n",
       "<polyline fill=\"none\" stroke=\"black\" points=\"1792.5,-55.5 1792.5,-91.5 \"/>\n",
       "<text text-anchor=\"middle\" x=\"1833.5\" y=\"-69.8\" font-family=\"Times New Roman,serif\" font-size=\"14.00\">grad 0.0429</text>\n",
       "</g>\n",
       "<!-- 1376061744080&#45;&gt;1376061744208+ -->\n",
       "<g id=\"edge28\" class=\"edge\">\n",
       "<title>1376061744080&#45;&gt;1376061744208+</title>\n",
       "<path fill=\"none\" stroke=\"black\" d=\"M1874.82,-89.28C1885.07,-91.08 1895.01,-92.81 1903.88,-94.36\"/>\n",
       "<polygon fill=\"black\" stroke=\"black\" points=\"1903.3,-97.81 1913.75,-96.09 1904.5,-90.92 1903.3,-97.81\"/>\n",
       "</g>\n",
       "<!-- 1376061744080&#45;&gt;1376061744464+ -->\n",
       "<g id=\"edge27\" class=\"edge\">\n",
       "<title>1376061744080&#45;&gt;1376061744464+</title>\n",
       "<path fill=\"none\" stroke=\"black\" d=\"M1874.82,-57.13C1885.07,-55.27 1895.01,-53.47 1903.88,-51.87\"/>\n",
       "<polygon fill=\"black\" stroke=\"black\" points=\"1904.54,-55.3 1913.75,-50.08 1903.29,-48.42 1904.54,-55.3\"/>\n",
       "</g>\n",
       "<!-- 1376061744080exp&#45;&gt;1376061744080 -->\n",
       "<g id=\"edge10\" class=\"edge\">\n",
       "<title>1376061744080exp&#45;&gt;1376061744080</title>\n",
       "<path fill=\"none\" stroke=\"black\" d=\"M1654.21,-73.5C1662.34,-73.5 1671.85,-73.5 1681.94,-73.5\"/>\n",
       "<polygon fill=\"black\" stroke=\"black\" points=\"1682.19,-77 1692.19,-73.5 1682.19,-70 1682.19,-77\"/>\n",
       "</g>\n",
       "</g>\n",
       "</svg>\n"
      ],
      "text/plain": [
       "<graphviz.graphs.Digraph at 0x14063abe8d0>"
      ]
     },
     "execution_count": 12,
     "metadata": {},
     "output_type": "execute_result"
    }
   ],
   "source": [
    "# inputs x1,x2\n",
    "x1 = Value(2.0, label='x1')\n",
    "x2 = Value(0.0, label='x2')\n",
    "# weights w1,w2\n",
    "w1 = Value(-3.0, label='w1')\n",
    "w2 = Value(1.0, label='w2')\n",
    "# bias of the neuron\n",
    "b = Value(6.8813735870195432, label='b')\n",
    "# x1*w1 + x2*w2 + b\n",
    "x1w1 = x1*w1; x1w1.label = 'x1*w1'\n",
    "x2w2 = x2*w2; x2w2.label = 'x2*w2'\n",
    "x1w1x2w2 = x1w1 + x2w2; x1w1x2w2.label = 'x1*w1 + x2*w2'\n",
    "n = x1w1x2w2 + b; n.label = 'n'\n",
    "# ----\n",
    "e = (2*n).exp()\n",
    "o = (e - 1) / (e + 1)\n",
    "# ----\n",
    "o.label = 'o'\n",
    "o.backward()\n",
    "draw_dot(o)"
   ]
  },
  {
   "cell_type": "code",
   "execution_count": 13,
   "metadata": {},
   "outputs": [],
   "source": [
    "import torch"
   ]
  },
  {
   "cell_type": "code",
   "execution_count": 14,
   "metadata": {},
   "outputs": [
    {
     "name": "stdout",
     "output_type": "stream",
     "text": [
      "0.7071066904050358\n",
      "---\n",
      "x2 0.5000001283844369\n",
      "w2 0.0\n",
      "x1 -1.5000003851533106\n",
      "w1 1.0000002567688737\n"
     ]
    }
   ],
   "source": [
    "\n",
    "x1 = torch.Tensor([2.0]).double()                ; x1.requires_grad = True\n",
    "x2 = torch.Tensor([0.0]).double()                ; x2.requires_grad = True\n",
    "w1 = torch.Tensor([-3.0]).double()               ; w1.requires_grad = True\n",
    "w2 = torch.Tensor([1.0]).double()                ; w2.requires_grad = True\n",
    "b = torch.Tensor([6.8813735870195432]).double()  ; b.requires_grad = True\n",
    "n = x1*w1 + x2*w2 + b\n",
    "o = torch.tanh(n)\n",
    "\n",
    "print(o.data.item())\n",
    "o.backward()\n",
    "\n",
    "print('---')\n",
    "print('x2', x2.grad.item())\n",
    "print('w2', w2.grad.item())\n",
    "print('x1', x1.grad.item())\n",
    "print('w1', w1.grad.item())"
   ]
  },
  {
   "cell_type": "code",
   "execution_count": 15,
   "metadata": {},
   "outputs": [],
   "source": [
    "\n",
    "class Neuron:\n",
    "  \n",
    "  def __init__(self, nin):\n",
    "    self.w = [Value(random.uniform(-1,1)) for _ in range(nin)]\n",
    "    self.b = Value(random.uniform(-1,1))\n",
    "  \n",
    "  def __call__(self, x):\n",
    "    # w * x + b\n",
    "    act = sum((wi*xi for wi, xi in zip(self.w, x)), self.b)\n",
    "    out = act.tanh()\n",
    "    return out\n",
    "  \n",
    "  def parameters(self):\n",
    "    return self.w + [self.b]\n",
    "\n",
    "class Layer:\n",
    "  \n",
    "  def __init__(self, nin, nout):\n",
    "    self.neurons = [Neuron(nin) for _ in range(nout)]\n",
    "  \n",
    "  def __call__(self, x):\n",
    "    outs = [n(x) for n in self.neurons]\n",
    "    return outs[0] if len(outs) == 1 else outs\n",
    "  \n",
    "  def parameters(self):\n",
    "#     return [p for neuron in self.neurons for p in neuron.parameters()]\n",
    "    param = []\n",
    "    for neuron in self.neurons:\n",
    "        ps = neuron.parameters()\n",
    "        param.extend(ps)\n",
    "    return param\n",
    "\n",
    "\n",
    "class MLP:\n",
    "  \n",
    "  def __init__(self, nin, nouts):\n",
    "    sz = [nin] + nouts\n",
    "    self.layers = [Layer(sz[i], sz[i+1]) for i in range(len(nouts))]\n",
    "  \n",
    "  def __call__(self, x):\n",
    "    for layer in self.layers:\n",
    "      x = layer(x)\n",
    "    return x\n",
    "\n",
    "  def parameters(self):\n",
    "#         layer = []\n",
    "#         for ly in self.layers:\n",
    "#             ps = ly.parameters()\n",
    "#             layer.extend(ps)\n",
    "#         return layer\n",
    "    return [p for layer in self.layers for p in layer.parameters()]"
   ]
  },
  {
   "cell_type": "code",
   "execution_count": 16,
   "metadata": {},
   "outputs": [
    {
     "data": {
      "text/plain": [
       "Value(data=-0.7503978482605963)"
      ]
     },
     "execution_count": 16,
     "metadata": {},
     "output_type": "execute_result"
    }
   ],
   "source": [
    "x = [2.0, 3.0, -1.0]\n",
    "n = MLP(3, [4, 4, 1])\n",
    "n(x)"
   ]
  },
  {
   "cell_type": "code",
   "execution_count": 17,
   "metadata": {},
   "outputs": [
    {
     "data": {
      "text/plain": [
       "41"
      ]
     },
     "execution_count": 17,
     "metadata": {},
     "output_type": "execute_result"
    }
   ],
   "source": [
    "len(n.parameters())"
   ]
  },
  {
   "cell_type": "code",
   "execution_count": 18,
   "metadata": {},
   "outputs": [],
   "source": [
    "xs = [\n",
    "  [2.0, 3.0, -1.0],\n",
    "  [3.0, -1.0, 0.5],\n",
    "  [0.5, 1.0, 1.0],\n",
    "  [1.0, 1.0, -1.0],\n",
    "]\n",
    "ys = [1.0, -1.0, -1.0, 1.0] # desired targets"
   ]
  },
  {
   "cell_type": "code",
   "execution_count": 19,
   "metadata": {},
   "outputs": [
    {
     "data": {
      "text/plain": [
       "[Value(data=-0.7503978482605963),\n",
       " Value(data=-0.8097620523641956),\n",
       " Value(data=-0.8008738190978457),\n",
       " Value(data=-0.37140261312289774)]"
      ]
     },
     "execution_count": 19,
     "metadata": {},
     "output_type": "execute_result"
    }
   ],
   "source": [
    "ypred = [n(x) for x in xs]\n",
    "ypred"
   ]
  },
  {
   "cell_type": "markdown",
   "metadata": {},
   "source": [
    "### loss -> how well neural network is performing "
   ]
  },
  {
   "cell_type": "code",
   "execution_count": 20,
   "metadata": {},
   "outputs": [
    {
     "data": {
      "text/plain": [
       "Value(data=5.020479467116998)"
      ]
     },
     "execution_count": 20,
     "metadata": {},
     "output_type": "execute_result"
    }
   ],
   "source": [
    "loss = sum((yout - ygt)**2 for ygt, yout in zip(ys, ypred))\n",
    "loss"
   ]
  },
  {
   "cell_type": "code",
   "execution_count": 21,
   "metadata": {},
   "outputs": [
    {
     "data": {
      "text/plain": [
       "0.0"
      ]
     },
     "execution_count": 21,
     "metadata": {},
     "output_type": "execute_result"
    }
   ],
   "source": [
    "n.layers[0].neurons[0].w[0].grad"
   ]
  },
  {
   "cell_type": "code",
   "execution_count": 22,
   "metadata": {
    "scrolled": true
   },
   "outputs": [
    {
     "data": {
      "text/plain": [
       "0.4359529845509731"
      ]
     },
     "execution_count": 22,
     "metadata": {},
     "output_type": "execute_result"
    }
   ],
   "source": [
    "n.layers[0].neurons[0].w[0].data"
   ]
  },
  {
   "cell_type": "code",
   "execution_count": 23,
   "metadata": {
    "scrolled": true
   },
   "outputs": [],
   "source": [
    "# draw_dot(loss)"
   ]
  },
  {
   "cell_type": "code",
   "execution_count": 57,
   "metadata": {},
   "outputs": [],
   "source": [
    "loss.backward()"
   ]
  },
  {
   "cell_type": "code",
   "execution_count": 58,
   "metadata": {},
   "outputs": [],
   "source": [
    "# update parameters\n",
    "for p in n.parameters():\n",
    "    p.data += -0.01 * p.grad"
   ]
  },
  {
   "cell_type": "code",
   "execution_count": 59,
   "metadata": {},
   "outputs": [
    {
     "data": {
      "text/plain": [
       "-0.6224743369941417"
      ]
     },
     "execution_count": 59,
     "metadata": {},
     "output_type": "execute_result"
    }
   ],
   "source": [
    "n.layers[0].neurons[0].w[0].data"
   ]
  },
  {
   "cell_type": "code",
   "execution_count": 60,
   "metadata": {},
   "outputs": [
    {
     "data": {
      "text/plain": [
       "Value(data=3.7952001383652554e-06)"
      ]
     },
     "execution_count": 60,
     "metadata": {},
     "output_type": "execute_result"
    }
   ],
   "source": [
    "# new loss after changing\n",
    "ypred = [n(x) for x in xs]\n",
    "loss = sum((yout - ygt)**2 for ygt, yout in zip(ys, ypred))\n",
    "loss"
   ]
  },
  {
   "cell_type": "code",
   "execution_count": 61,
   "metadata": {},
   "outputs": [
    {
     "data": {
      "text/plain": [
       "[Value(data=0.9984221137740795),\n",
       " Value(data=-0.9999864980679315),\n",
       " Value(data=-0.9999273669162195),\n",
       " Value(data=0.9988598169754874)]"
      ]
     },
     "execution_count": 61,
     "metadata": {},
     "output_type": "execute_result"
    }
   ],
   "source": [
    "ypred"
   ]
  },
  {
   "cell_type": "markdown",
   "metadata": {},
   "source": [
    "# make loop of forward pass and backward pass"
   ]
  },
  {
   "cell_type": "code",
   "execution_count": 64,
   "metadata": {},
   "outputs": [
    {
     "data": {
      "text/plain": [
       "Value(data=0.24705157908347203)"
      ]
     },
     "execution_count": 64,
     "metadata": {},
     "output_type": "execute_result"
    }
   ],
   "source": [
    "# re-initialize neural network\n",
    "x = [2.0, 3.0, -1.0]\n",
    "n = MLP(3, [4, 4, 1])\n",
    "n(x)"
   ]
  },
  {
   "cell_type": "code",
   "execution_count": 65,
   "metadata": {},
   "outputs": [],
   "source": [
    "xs = [\n",
    "  [2.0, 3.0, -1.0],\n",
    "  [3.0, -1.0, 0.5],\n",
    "  [0.5, 1.0, 1.0],\n",
    "  [1.0, 1.0, -1.0],\n",
    "]\n",
    "ys = [1.0, -1.0, -1.0, 1.0] # desired targets"
   ]
  },
  {
   "cell_type": "code",
   "execution_count": 68,
   "metadata": {},
   "outputs": [
    {
     "name": "stdout",
     "output_type": "stream",
     "text": [
      "0 0.0016182451022843261\n",
      "1 0.0013399491855308242\n",
      "2 0.001117175816064835\n",
      "3 0.0009311445435488664\n",
      "4 0.0007706509479855426\n",
      "5 0.0006289187859776814\n",
      "6 0.0005023540914319039\n",
      "7 0.0003902565513548288\n",
      "8 0.00029461585451706347\n",
      "9 0.00021868176370873593\n",
      "10 0.00016365986069457082\n",
      "11 0.00012619077405863347\n",
      "12 0.00010023736541245925\n",
      "13 8.091970551525891e-05\n",
      "14 6.569960403627035e-05\n",
      "15 5.346673855178961e-05\n",
      "16 4.3658409062975083e-05\n",
      "17 3.588184318418978e-05\n",
      "18 2.9798764737119253e-05\n",
      "19 2.5101263373543995e-05\n"
     ]
    }
   ],
   "source": [
    "for k in range(20):\n",
    "    # forward pass\n",
    "    ypred = [n(x) for x in xs]\n",
    "    loss = sum((yout - ygt)**2 for ygt, yout in zip(ys, ypred))\n",
    "    \n",
    "    # zero_grad\n",
    "    for i in n.parameters():\n",
    "        p.grad = 0.0\n",
    "    ddd\n",
    "    # backward pass\n",
    "    loss.backward()\n",
    "    \n",
    "    # updata parameters\n",
    "    for p in n.parameters():\n",
    "        p.data += -0.01 * p.grad\n",
    "        \n",
    "    print(k, loss.data)"
   ]
  },
  {
   "cell_type": "code",
   "execution_count": 69,
   "metadata": {},
   "outputs": [
    {
     "data": {
      "text/plain": [
       "[Value(data=0.9999527472233677),\n",
       " Value(data=-0.9954276415563847),\n",
       " Value(data=-0.9995443383384471),\n",
       " Value(data=0.9980037682344137)]"
      ]
     },
     "execution_count": 69,
     "metadata": {},
     "output_type": "execute_result"
    }
   ],
   "source": [
    "ypred"
   ]
  },
  {
   "cell_type": "code",
   "execution_count": null,
   "metadata": {},
   "outputs": [],
   "source": []
  }
 ],
 "metadata": {
  "kernelspec": {
   "display_name": "Python 3 (ipykernel)",
   "language": "python",
   "name": "python3"
  },
  "language_info": {
   "codemirror_mode": {
    "name": "ipython",
    "version": 3
   },
   "file_extension": ".py",
   "mimetype": "text/x-python",
   "name": "python",
   "nbconvert_exporter": "python",
   "pygments_lexer": "ipython3",
   "version": "3.11.5"
  }
 },
 "nbformat": 4,
 "nbformat_minor": 4
}
