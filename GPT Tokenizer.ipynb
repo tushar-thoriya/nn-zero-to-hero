{
 "cells": [
  {
   "cell_type": "markdown",
   "id": "5fdafcc6-8d0e-4a49-bda1-4441dba47a2f",
   "metadata": {},
   "source": [
    "## Tokenizer :("
   ]
  },
  {
   "cell_type": "code",
   "execution_count": 1,
   "id": "67afc59b-c845-40ca-947c-f66c3aaa204e",
   "metadata": {},
   "outputs": [
    {
     "data": {
      "text/plain": [
       "'안녕하세요 👋 (hello in Korean!)'"
      ]
     },
     "execution_count": 1,
     "metadata": {},
     "output_type": "execute_result"
    }
   ],
   "source": [
    "\"안녕하세요 👋 (hello in Korean!)\""
   ]
  },
  {
   "cell_type": "code",
   "execution_count": 2,
   "id": "56d612a0-ea6c-4183-bcd0-c12ee0e5ceff",
   "metadata": {},
   "outputs": [
    {
     "data": {
      "text/plain": [
       "[50504,\n",
       " 45397,\n",
       " 54616,\n",
       " 49464,\n",
       " 50836,\n",
       " 32,\n",
       " 128075,\n",
       " 32,\n",
       " 40,\n",
       " 104,\n",
       " 101,\n",
       " 108,\n",
       " 108,\n",
       " 111,\n",
       " 32,\n",
       " 105,\n",
       " 110,\n",
       " 32,\n",
       " 75,\n",
       " 111,\n",
       " 114,\n",
       " 101,\n",
       " 97,\n",
       " 110,\n",
       " 33,\n",
       " 41]"
      ]
     },
     "execution_count": 2,
     "metadata": {},
     "output_type": "execute_result"
    }
   ],
   "source": [
    "[ord(x)for x in \"안녕하세요 👋 (hello in Korean!)\"]"
   ]
  },
  {
   "cell_type": "code",
   "execution_count": 3,
   "id": "b5d0b430-27a0-4b82-8057-c0aa936a061a",
   "metadata": {},
   "outputs": [
    {
     "data": {
      "text/plain": [
       "[236,\n",
       " 149,\n",
       " 136,\n",
       " 235,\n",
       " 133,\n",
       " 149,\n",
       " 237,\n",
       " 149,\n",
       " 152,\n",
       " 236,\n",
       " 132,\n",
       " 184,\n",
       " 236,\n",
       " 154,\n",
       " 148,\n",
       " 32,\n",
       " 240,\n",
       " 159,\n",
       " 145,\n",
       " 139,\n",
       " 32,\n",
       " 40,\n",
       " 104,\n",
       " 101,\n",
       " 108,\n",
       " 108,\n",
       " 111,\n",
       " 32,\n",
       " 105,\n",
       " 110,\n",
       " 32,\n",
       " 75,\n",
       " 111,\n",
       " 114,\n",
       " 101,\n",
       " 97,\n",
       " 110,\n",
       " 33,\n",
       " 41]"
      ]
     },
     "execution_count": 3,
     "metadata": {},
     "output_type": "execute_result"
    }
   ],
   "source": [
    "list(\"안녕하세요 👋 (hello in Korean!)\".encode(\"utf-8\"))"
   ]
  },
  {
   "cell_type": "code",
   "execution_count": 4,
   "id": "9fc954c2-0c55-4755-941c-e79ec1992a0a",
   "metadata": {},
   "outputs": [
    {
     "data": {
      "text/plain": [
       "('e', ' ')"
      ]
     },
     "execution_count": 4,
     "metadata": {},
     "output_type": "execute_result"
    }
   ],
   "source": [
    "chr(101), chr(32)"
   ]
  },
  {
   "cell_type": "code",
   "execution_count": 5,
   "id": "08c30385-e7cb-4c6a-aaff-a48e9e9e090d",
   "metadata": {
    "scrolled": true
   },
   "outputs": [
    {
     "name": "stdout",
     "output_type": "stream",
     "text": [
      "---\n",
      "Ｕｎｉｃｏｄｅ! 🅤🅝🅘🅒🅞🅓🅔‽ 🇺‌🇳‌🇮‌🇨‌🇴‌🇩‌🇪! 😄 The very name strikes fear and awe into the hearts of programmers worldwide. We all know we ought to “support Unicode” in our software (whatever that means—like using wchar_t for all the strings, right?). But Unicode can be abstruse, and diving into the thousand-page Unicode Standard plus its dozens of supplementary annexes, reports, and notes can be more than a little intimidating. I don’t blame programmers for still finding the whole thing mysterious, even 30 years after Unicode’s inception.\n",
      "length: 533\n",
      "---\n",
      "[239, 188, 181, 239, 189, 142, 239, 189, 137, 239, 189, 131, 239, 189, 143, 239, 189, 132, 239, 189, 133, 33, 32, 240, 159, 133, 164, 240, 159, 133, 157, 240, 159, 133, 152, 240, 159, 133, 146, 240, 159, 133, 158, 240, 159, 133, 147, 240, 159, 133, 148, 226, 128, 189, 32, 240, 159, 135, 186, 226, 128, 140, 240, 159, 135, 179, 226, 128, 140, 240, 159, 135, 174, 226, 128, 140, 240, 159, 135, 168, 226, 128, 140, 240, 159, 135, 180, 226, 128, 140, 240, 159, 135, 169, 226, 128, 140, 240, 159, 135, 170, 33, 32, 240, 159, 152, 132, 32, 84, 104, 101, 32, 118, 101, 114, 121, 32, 110, 97, 109, 101, 32, 115, 116, 114, 105, 107, 101, 115, 32, 102, 101, 97, 114, 32, 97, 110, 100, 32, 97, 119, 101, 32, 105, 110, 116, 111, 32, 116, 104, 101, 32, 104, 101, 97, 114, 116, 115, 32, 111, 102, 32, 112, 114, 111, 103, 114, 97, 109, 109, 101, 114, 115, 32, 119, 111, 114, 108, 100, 119, 105, 100, 101, 46, 32, 87, 101, 32, 97, 108, 108, 32, 107, 110, 111, 119, 32, 119, 101, 32, 111, 117, 103, 104, 116, 32, 116, 111, 32, 226, 128, 156, 115, 117, 112, 112, 111, 114, 116, 32, 85, 110, 105, 99, 111, 100, 101, 226, 128, 157, 32, 105, 110, 32, 111, 117, 114, 32, 115, 111, 102, 116, 119, 97, 114, 101, 32, 40, 119, 104, 97, 116, 101, 118, 101, 114, 32, 116, 104, 97, 116, 32, 109, 101, 97, 110, 115, 226, 128, 148, 108, 105, 107, 101, 32, 117, 115, 105, 110, 103, 32, 119, 99, 104, 97, 114, 95, 116, 32, 102, 111, 114, 32, 97, 108, 108, 32, 116, 104, 101, 32, 115, 116, 114, 105, 110, 103, 115, 44, 32, 114, 105, 103, 104, 116, 63, 41, 46, 32, 66, 117, 116, 32, 85, 110, 105, 99, 111, 100, 101, 32, 99, 97, 110, 32, 98, 101, 32, 97, 98, 115, 116, 114, 117, 115, 101, 44, 32, 97, 110, 100, 32, 100, 105, 118, 105, 110, 103, 32, 105, 110, 116, 111, 32, 116, 104, 101, 32, 116, 104, 111, 117, 115, 97, 110, 100, 45, 112, 97, 103, 101, 32, 85, 110, 105, 99, 111, 100, 101, 32, 83, 116, 97, 110, 100, 97, 114, 100, 32, 112, 108, 117, 115, 32, 105, 116, 115, 32, 100, 111, 122, 101, 110, 115, 32, 111, 102, 32, 115, 117, 112, 112, 108, 101, 109, 101, 110, 116, 97, 114, 121, 32, 97, 110, 110, 101, 120, 101, 115, 44, 32, 114, 101, 112, 111, 114, 116, 115, 44, 32, 97, 110, 100, 32, 110, 111, 116, 101, 115, 32, 99, 97, 110, 32, 98, 101, 32, 109, 111, 114, 101, 32, 116, 104, 97, 110, 32, 97, 32, 108, 105, 116, 116, 108, 101, 32, 105, 110, 116, 105, 109, 105, 100, 97, 116, 105, 110, 103, 46, 32, 73, 32, 100, 111, 110, 226, 128, 153, 116, 32, 98, 108, 97, 109, 101, 32, 112, 114, 111, 103, 114, 97, 109, 109, 101, 114, 115, 32, 102, 111, 114, 32, 115, 116, 105, 108, 108, 32, 102, 105, 110, 100, 105, 110, 103, 32, 116, 104, 101, 32, 119, 104, 111, 108, 101, 32, 116, 104, 105, 110, 103, 32, 109, 121, 115, 116, 101, 114, 105, 111, 117, 115, 44, 32, 101, 118, 101, 110, 32, 51, 48, 32, 121, 101, 97, 114, 115, 32, 97, 102, 116, 101, 114, 32, 85, 110, 105, 99, 111, 100, 101, 226, 128, 153, 115, 32, 105, 110, 99, 101, 112, 116, 105, 111, 110, 46]\n",
      "length: 616\n"
     ]
    }
   ],
   "source": [
    "# text from https://www.reedbeta.com/blog/programmers-intro-to-unicode/\n",
    "text = \"Ｕｎｉｃｏｄｅ! 🅤🅝🅘🅒🅞🅓🅔‽ 🇺‌🇳‌🇮‌🇨‌🇴‌🇩‌🇪! 😄 The very name strikes fear and awe into the hearts of programmers worldwide. We all know we ought to “support Unicode” in our software (whatever that means—like using wchar_t for all the strings, right?). But Unicode can be abstruse, and diving into the thousand-page Unicode Standard plus its dozens of supplementary annexes, reports, and notes can be more than a little intimidating. I don’t blame programmers for still finding the whole thing mysterious, even 30 years after Unicode’s inception.\"\n",
    "tokens = text.encode(\"utf-8\")  # raw bytes\n",
    "tokens = list(map(int, tokens)) # convert to list of integers in range 0, ... 255 for convenience\n",
    "print('---')\n",
    "print(text)\n",
    "print(\"length:\", len(text))\n",
    "print('---')\n",
    "print(tokens)\n",
    "print(\"length:\", len(tokens))"
   ]
  },
  {
   "cell_type": "code",
   "execution_count": 6,
   "id": "b21ab962-85c3-4bd3-8a38-54418defb1f5",
   "metadata": {},
   "outputs": [
    {
     "name": "stdout",
     "output_type": "stream",
     "text": [
      "[(20, (101, 32)), (15, (240, 159)), (12, (226, 128)), (12, (105, 110)), (10, (115, 32)), (10, (97, 110)), (10, (32, 97)), (9, (32, 116)), (8, (116, 104)), (7, (159, 135)), (7, (159, 133)), (7, (97, 114)), (6, (239, 189)), (6, (140, 240)), (6, (128, 140)), (6, (116, 32)), (6, (114, 32)), (6, (111, 114)), (6, (110, 103)), (6, (110, 100)), (6, (109, 101)), (6, (104, 101)), (6, (101, 114)), (6, (32, 105)), (5, (117, 115)), (5, (115, 116)), (5, (110, 32)), (5, (100, 101)), (5, (44, 32)), (5, (32, 115)), (4, (116, 105)), (4, (116, 101)), (4, (115, 44)), (4, (114, 105)), (4, (111, 117)), (4, (111, 100)), (4, (110, 116)), (4, (110, 105)), (4, (105, 99)), (4, (104, 97)), (4, (103, 32)), (4, (101, 97)), (4, (100, 32)), (4, (99, 111)), (4, (97, 109)), (4, (85, 110)), (4, (32, 119)), (4, (32, 111)), (4, (32, 102)), (4, (32, 85)), (3, (118, 101)), (3, (116, 115)), (3, (116, 114)), (3, (116, 111)), (3, (114, 116)), (3, (114, 115)), (3, (114, 101)), (3, (111, 102)), (3, (111, 32)), (3, (108, 108)), (3, (108, 101)), (3, (108, 32)), (3, (101, 115)), (3, (101, 110)), (3, (97, 116)), (3, (46, 32)), (3, (32, 240)), (3, (32, 112)), (3, (32, 109)), (3, (32, 100)), (3, (32, 98)), (2, (128, 153)), (2, (121, 32)), (2, (119, 104)), (2, (119, 101)), (2, (117, 112)), (2, (116, 97)), (2, (115, 117)), (2, (114, 121)), (2, (114, 111)), (2, (114, 97)), (2, (112, 114)), (2, (112, 112)), (2, (112, 111)), (2, (112, 108)), (2, (111, 110)), (2, (111, 103)), (2, (110, 115)), (2, (110, 111)), (2, (109, 109)), (2, (108, 105)), (2, (107, 101)), (2, (105, 116)), (2, (105, 111)), (2, (105, 107)), (2, (105, 100)), (2, (104, 116)), (2, (104, 111)), (2, (103, 114)), (2, (103, 104)), (2, (102, 116)), (2, (102, 111)), (2, (102, 32)), (2, (101, 226)), (2, (101, 118)), (2, (101, 112)), (2, (100, 111)), (2, (100, 105)), (2, (100, 97)), (2, (99, 97)), (2, (98, 101)), (2, (97, 108)), (2, (33, 32)), (2, (32, 114)), (2, (32, 110)), (2, (32, 99)), (1, (239, 188)), (1, (189, 143)), (1, (189, 142)), (1, (189, 137)), (1, (189, 133)), (1, (189, 132)), (1, (189, 131)), (1, (189, 32)), (1, (188, 181)), (1, (186, 226)), (1, (181, 239)), (1, (180, 226)), (1, (179, 226)), (1, (174, 226)), (1, (170, 33)), (1, (169, 226)), (1, (168, 226)), (1, (164, 240)), (1, (159, 152)), (1, (158, 240)), (1, (157, 240)), (1, (157, 32)), (1, (156, 115)), (1, (153, 116)), (1, (153, 115)), (1, (152, 240)), (1, (152, 132)), (1, (148, 226)), (1, (148, 108)), (1, (147, 240)), (1, (146, 240)), (1, (143, 239)), (1, (142, 239)), (1, (137, 239)), (1, (135, 186)), (1, (135, 180)), (1, (135, 179)), (1, (135, 174)), (1, (135, 170)), (1, (135, 169)), (1, (135, 168)), (1, (133, 164)), (1, (133, 158)), (1, (133, 157)), (1, (133, 152)), (1, (133, 148)), (1, (133, 147)), (1, (133, 146)), (1, (133, 33)), (1, (132, 239)), (1, (132, 32)), (1, (131, 239)), (1, (128, 189)), (1, (128, 157)), (1, (128, 156)), (1, (128, 148)), (1, (122, 101)), (1, (121, 115)), (1, (121, 101)), (1, (120, 101)), (1, (119, 111)), (1, (119, 105)), (1, (119, 99)), (1, (119, 97)), (1, (119, 32)), (1, (118, 105)), (1, (117, 116)), (1, (117, 114)), (1, (117, 103)), (1, (116, 119)), (1, (116, 116)), (1, (116, 108)), (1, (116, 63)), (1, (115, 226)), (1, (115, 111)), (1, (115, 105)), (1, (115, 101)), (1, (115, 97)), (1, (114, 117)), (1, (114, 108)), (1, (114, 100)), (1, (114, 95)), (1, (112, 116)), (1, (112, 97)), (1, (111, 122)), (1, (111, 119)), (1, (111, 116)), (1, (111, 108)), (1, (110, 226)), (1, (110, 110)), (1, (110, 101)), (1, (110, 99)), (1, (110, 97)), (1, (110, 46)), (1, (109, 121)), (1, (109, 111)), (1, (109, 105)), (1, (108, 117)), (1, (108, 100)), (1, (108, 97)), (1, (107, 110)), (1, (105, 118)), (1, (105, 109)), (1, (105, 108)), (1, (105, 103)), (1, (104, 105)), (1, (103, 115)), (1, (103, 101)), (1, (103, 46)), (1, (102, 105)), (1, (102, 101)), (1, (101, 120)), (1, (101, 109)), (1, (101, 46)), (1, (101, 44)), (1, (100, 119)), (1, (100, 45)), (1, (99, 104)), (1, (99, 101)), (1, (98, 115)), (1, (98, 108)), (1, (97, 119)), (1, (97, 103)), (1, (97, 102)), (1, (97, 98)), (1, (97, 32)), (1, (95, 116)), (1, (87, 101)), (1, (84, 104)), (1, (83, 116)), (1, (73, 32)), (1, (66, 117)), (1, (63, 41)), (1, (51, 48)), (1, (48, 32)), (1, (45, 112)), (1, (41, 46)), (1, (40, 119)), (1, (32, 226)), (1, (32, 121)), (1, (32, 118)), (1, (32, 117)), (1, (32, 108)), (1, (32, 107)), (1, (32, 104)), (1, (32, 101)), (1, (32, 87)), (1, (32, 84)), (1, (32, 83)), (1, (32, 73)), (1, (32, 66)), (1, (32, 51)), (1, (32, 40))]\n"
     ]
    }
   ],
   "source": [
    "def get_stats(ids):\n",
    "    counts = {}\n",
    "    for pair in zip(ids, ids[1:]): # Pythonic way to iterate consecutive elements\n",
    "        counts[pair] = counts.get(pair, 0) + 1\n",
    "    return counts\n",
    "\n",
    "stats = get_stats(tokens)\n",
    "# print(stats)\n",
    "print((sorted(((v,k) for k, v in stats.items()), reverse=True)))"
   ]
  },
  {
   "cell_type": "code",
   "execution_count": 7,
   "id": "422f21b7-c570-497e-9d3a-b8bb30aabf2f",
   "metadata": {},
   "outputs": [
    {
     "data": {
      "text/plain": [
       "(101, 32)"
      ]
     },
     "execution_count": 7,
     "metadata": {},
     "output_type": "execute_result"
    }
   ],
   "source": [
    "top_pair = max(stats, key=stats.get)\n",
    "top_pair"
   ]
  },
  {
   "cell_type": "code",
   "execution_count": 8,
   "id": "cbaf1a9a-0643-4f21-9436-a38dcfd1e523",
   "metadata": {},
   "outputs": [
    {
     "name": "stdout",
     "output_type": "stream",
     "text": [
      "[239, 188, 181, 239, 189, 142, 239, 189, 137, 239, 189, 131, 239, 189, 143, 239, 189, 132, 239, 189, 133, 33, 32, 240, 159, 133, 164, 240, 159, 133, 157, 240, 159, 133, 152, 240, 159, 133, 146, 240, 159, 133, 158, 240, 159, 133, 147, 240, 159, 133, 148, 226, 128, 189, 32, 240, 159, 135, 186, 226, 128, 140, 240, 159, 135, 179, 226, 128, 140, 240, 159, 135, 174, 226, 128, 140, 240, 159, 135, 168, 226, 128, 140, 240, 159, 135, 180, 226, 128, 140, 240, 159, 135, 169, 226, 128, 140, 240, 159, 135, 170, 33, 32, 240, 159, 152, 132, 32, 84, 104, 256, 118, 101, 114, 121, 32, 110, 97, 109, 256, 115, 116, 114, 105, 107, 101, 115, 32, 102, 101, 97, 114, 32, 97, 110, 100, 32, 97, 119, 256, 105, 110, 116, 111, 32, 116, 104, 256, 104, 101, 97, 114, 116, 115, 32, 111, 102, 32, 112, 114, 111, 103, 114, 97, 109, 109, 101, 114, 115, 32, 119, 111, 114, 108, 100, 119, 105, 100, 101, 46, 32, 87, 256, 97, 108, 108, 32, 107, 110, 111, 119, 32, 119, 256, 111, 117, 103, 104, 116, 32, 116, 111, 32, 226, 128, 156, 115, 117, 112, 112, 111, 114, 116, 32, 85, 110, 105, 99, 111, 100, 101, 226, 128, 157, 32, 105, 110, 32, 111, 117, 114, 32, 115, 111, 102, 116, 119, 97, 114, 256, 40, 119, 104, 97, 116, 101, 118, 101, 114, 32, 116, 104, 97, 116, 32, 109, 101, 97, 110, 115, 226, 128, 148, 108, 105, 107, 256, 117, 115, 105, 110, 103, 32, 119, 99, 104, 97, 114, 95, 116, 32, 102, 111, 114, 32, 97, 108, 108, 32, 116, 104, 256, 115, 116, 114, 105, 110, 103, 115, 44, 32, 114, 105, 103, 104, 116, 63, 41, 46, 32, 66, 117, 116, 32, 85, 110, 105, 99, 111, 100, 256, 99, 97, 110, 32, 98, 256, 97, 98, 115, 116, 114, 117, 115, 101, 44, 32, 97, 110, 100, 32, 100, 105, 118, 105, 110, 103, 32, 105, 110, 116, 111, 32, 116, 104, 256, 116, 104, 111, 117, 115, 97, 110, 100, 45, 112, 97, 103, 256, 85, 110, 105, 99, 111, 100, 256, 83, 116, 97, 110, 100, 97, 114, 100, 32, 112, 108, 117, 115, 32, 105, 116, 115, 32, 100, 111, 122, 101, 110, 115, 32, 111, 102, 32, 115, 117, 112, 112, 108, 101, 109, 101, 110, 116, 97, 114, 121, 32, 97, 110, 110, 101, 120, 101, 115, 44, 32, 114, 101, 112, 111, 114, 116, 115, 44, 32, 97, 110, 100, 32, 110, 111, 116, 101, 115, 32, 99, 97, 110, 32, 98, 256, 109, 111, 114, 256, 116, 104, 97, 110, 32, 97, 32, 108, 105, 116, 116, 108, 256, 105, 110, 116, 105, 109, 105, 100, 97, 116, 105, 110, 103, 46, 32, 73, 32, 100, 111, 110, 226, 128, 153, 116, 32, 98, 108, 97, 109, 256, 112, 114, 111, 103, 114, 97, 109, 109, 101, 114, 115, 32, 102, 111, 114, 32, 115, 116, 105, 108, 108, 32, 102, 105, 110, 100, 105, 110, 103, 32, 116, 104, 256, 119, 104, 111, 108, 256, 116, 104, 105, 110, 103, 32, 109, 121, 115, 116, 101, 114, 105, 111, 117, 115, 44, 32, 101, 118, 101, 110, 32, 51, 48, 32, 121, 101, 97, 114, 115, 32, 97, 102, 116, 101, 114, 32, 85, 110, 105, 99, 111, 100, 101, 226, 128, 153, 115, 32, 105, 110, 99, 101, 112, 116, 105, 111, 110, 46]\n",
      "length: 596\n"
     ]
    }
   ],
   "source": [
    "def merge(ids, pair, idx):\n",
    "    newids = []\n",
    "    i = 0\n",
    "    while i < len(ids):\n",
    "        if i < (len(ids) - 1) and ids[i] == pair[0] and ids[i+1] == pair[1]:\n",
    "            newids.append(idx)\n",
    "            i += 2\n",
    "        else:\n",
    "            newids.append(ids[i])\n",
    "            i += 1\n",
    "    return newids\n",
    "\n",
    "# # print(merge([5, 6, 6, 7, 9, 1], (6, 7), 100))\n",
    "# [5, 6, 100, 9, 1]\n",
    "\n",
    "tokens2 = merge(tokens, top_pair, 256)\n",
    "print(tokens2)\n",
    "print(\"length:\", len(tokens2))"
   ]
  },
  {
   "cell_type": "code",
   "execution_count": 9,
   "id": "bfd17d68-2f41-4702-a9cc-14db5dca4d85",
   "metadata": {},
   "outputs": [],
   "source": [
    "# making the training text longer to have more representative token statistics\n",
    "# text from https://www.reedbeta.com/blog/programmers-intro-to-unicode/\n",
    "text = \"\"\"A Programmer’s Introduction to Unicode March 3, 2017 · Coding · 22 Comments  Ｕｎｉｃｏｄｅ! 🅤🅝🅘🅒🅞🅓🅔‽ 🇺\\u200c🇳\\u200c🇮\\u200c🇨\\u200c🇴\\u200c🇩\\u200c🇪! 😄 The very name strikes fear and awe into the hearts of programmers worldwide. We all know we ought to “support Unicode” in our software (whatever that means—like using wchar_t for all the strings, right?). But Unicode can be abstruse, and diving into the thousand-page Unicode Standard plus its dozens of supplementary annexes, reports, and notes can be more than a little intimidating. I don’t blame programmers for still finding the whole thing mysterious, even 30 years after Unicode’s inception.  A few months ago, I got interested in Unicode and decided to spend some time learning more about it in detail. In this article, I’ll give an introduction to it from a programmer’s point of view.  I’m going to focus on the character set and what’s involved in working with strings and files of Unicode text. However, in this article I’m not going to talk about fonts, text layout/shaping/rendering, or localization in detail—those are separate issues, beyond my scope (and knowledge) here.  Diversity and Inherent Complexity The Unicode Codespace Codespace Allocation Scripts Usage Frequency Encodings UTF-8 UTF-16 Combining Marks Canonical Equivalence Normalization Forms Grapheme Clusters And More… Diversity and Inherent Complexity As soon as you start to study Unicode, it becomes clear that it represents a large jump in complexity over character sets like ASCII that you may be more familiar with. It’s not just that Unicode contains a much larger number of characters, although that’s part of it. Unicode also has a great deal of internal structure, features, and special cases, making it much more than what one might expect a mere “character set” to be. We’ll see some of that later in this article.  When confronting all this complexity, especially as an engineer, it’s hard not to find oneself asking, “Why do we need all this? Is this really necessary? Couldn’t it be simplified?”  However, Unicode aims to faithfully represent the entire world’s writing systems. The Unicode Consortium’s stated goal is “enabling people around the world to use computers in any language”. And as you might imagine, the diversity of written languages is immense! To date, Unicode supports 135 different scripts, covering some 1100 languages, and there’s still a long tail of over 100 unsupported scripts, both modern and historical, which people are still working to add.  Given this enormous diversity, it’s inevitable that representing it is a complicated project. Unicode embraces that diversity, and accepts the complexity inherent in its mission to include all human writing systems. It doesn’t make a lot of trade-offs in the name of simplification, and it makes exceptions to its own rules where necessary to further its mission.  Moreover, Unicode is committed not just to supporting texts in any single language, but also to letting multiple languages coexist within one text—which introduces even more complexity.  Most programming languages have libraries available to handle the gory low-level details of text manipulation, but as a programmer, you’ll still need to know about certain Unicode features in order to know when and how to apply them. It may take some time to wrap your head around it all, but don’t be discouraged—think about the billions of people for whom your software will be more accessible through supporting text in their language. Embrace the complexity!  The Unicode Codespace Let’s start with some general orientation. The basic elements of Unicode—its “characters”, although that term isn’t quite right—are called code points. Code points are identified by number, customarily written in hexadecimal with the prefix “U+”, such as U+0041 “A” latin capital letter a or U+03B8 “θ” greek small letter theta. Each code point also has a short name, and quite a few other properties, specified in the Unicode Character Database.  The set of all possible code points is called the codespace. The Unicode codespace consists of 1,114,112 code points. However, only 128,237 of them—about 12% of the codespace—are actually assigned, to date. There’s plenty of room for growth! Unicode also reserves an additional 137,468 code points as “private use” areas, which have no standardized meaning and are available for individual applications to define for their own purposes.  Codespace Allocation To get a feel for how the codespace is laid out, it’s helpful to visualize it. Below is a map of the entire codespace, with one pixel per code point. It’s arranged in tiles for visual coherence; each small square is 16×16 = 256 code points, and each large square is a “plane” of 65,536 code points. There are 17 planes altogether.  Map of the Unicode codespace (click to zoom)  White represents unassigned space. Blue is assigned code points, green is private-use areas, and the small red area is surrogates (more about those later). As you can see, the assigned code points are distributed somewhat sparsely, but concentrated in the first three planes.  Plane 0 is also known as the “Basic Multilingual Plane”, or BMP. The BMP contains essentially all the characters needed for modern text in any script, including Latin, Cyrillic, Greek, Han (Chinese), Japanese, Korean, Arabic, Hebrew, Devanagari (Indian), and many more.  (In the past, the codespace was just the BMP and no more—Unicode was originally conceived as a straightforward 16-bit encoding, with only 65,536 code points. It was expanded to its current size in 1996. However, the vast majority of code points in modern text belong to the BMP.)  Plane 1 contains historical scripts, such as Sumerian cuneiform and Egyptian hieroglyphs, as well as emoji and various other symbols. Plane 2 contains a large block of less-common and historical Han characters. The remaining planes are empty, except for a small number of rarely-used formatting characters in Plane 14; planes 15–16 are reserved entirely for private use.  Scripts Let’s zoom in on the first three planes, since that’s where the action is:  Map of scripts in Unicode planes 0–2 (click to zoom)  This map color-codes the 135 different scripts in Unicode. You can see how Han () and Korean () take up most of the range of the BMP (the left large square). By contrast, all of the European, Middle Eastern, and South Asian scripts fit into the first row of the BMP in this diagram.  Many areas of the codespace are adapted or copied from earlier encodings. For example, the first 128 code points of Unicode are just a copy of ASCII. This has clear benefits for compatibility—it’s easy to losslessly convert texts from smaller encodings into Unicode (and the other direction too, as long as no characters outside the smaller encoding are used).  Usage Frequency One more interesting way to visualize the codespace is to look at the distribution of usage—in other words, how often each code point is actually used in real-world texts. Below is a heat map of planes 0–2 based on a large sample of text from Wikipedia and Twitter (all languages). Frequency increases from black (never seen) through red and yellow to white.  Heat map of code point usage frequency in Unicode planes 0–2 (click to zoom)  You can see that the vast majority of this text sample lies in the BMP, with only scattered usage of code points from planes 1–2. The biggest exception is emoji, which show up here as the several bright squares in the bottom row of plane 1.  Encodings We’ve seen that Unicode code points are abstractly identified by their index in the codespace, ranging from U+0000 to U+10FFFF. But how do code points get represented as bytes, in memory or in a file?  The most convenient, computer-friendliest (and programmer-friendliest) thing to do would be to just store the code point index as a 32-bit integer. This works, but it consumes 4 bytes per code point, which is sort of a lot. Using 32-bit ints for Unicode will cost you a bunch of extra storage, memory, and performance in bandwidth-bound scenarios, if you work with a lot of text.  Consequently, there are several more-compact encodings for Unicode. The 32-bit integer encoding is officially called UTF-32 (UTF = “Unicode Transformation Format”), but it’s rarely used for storage. At most, it comes up sometimes as a temporary internal representation, for examining or operating on the code points in a string.  Much more commonly, you’ll see Unicode text encoded as either UTF-8 or UTF-16. These are both variable-length encodings, made up of 8-bit or 16-bit units, respectively. In these schemes, code points with smaller index values take up fewer bytes, which saves a lot of memory for typical texts. The trade-off is that processing UTF-8/16 texts is more programmatically involved, and likely slower.  UTF-8 In UTF-8, each code point is stored using 1 to 4 bytes, based on its index value.  UTF-8 uses a system of binary prefixes, in which the high bits of each byte mark whether it’s a single byte, the beginning of a multi-byte sequence, or a continuation byte; the remaining bits, concatenated, give the code point index. This table shows how it works:  UTF-8 (binary)\\tCode point (binary)\\tRange 0xxxxxxx\\txxxxxxx\\tU+0000–U+007F 110xxxxx 10yyyyyy\\txxxxxyyyyyy\\tU+0080–U+07FF 1110xxxx 10yyyyyy 10zzzzzz\\txxxxyyyyyyzzzzzz\\tU+0800–U+FFFF 11110xxx 10yyyyyy 10zzzzzz 10wwwwww\\txxxyyyyyyzzzzzzwwwwww\\tU+10000–U+10FFFF A handy property of UTF-8 is that code points below 128 (ASCII characters) are encoded as single bytes, and all non-ASCII code points are encoded using sequences of bytes 128–255. This has a couple of nice consequences. First, any strings or files out there that are already in ASCII can also be interpreted as UTF-8 without any conversion. Second, lots of widely-used string programming idioms—such as null termination, or delimiters (newlines, tabs, commas, slashes, etc.)—will just work on UTF-8 strings. ASCII bytes never occur inside the encoding of non-ASCII code points, so searching byte-wise for a null terminator or a delimiter will do the right thing.  Thanks to this convenience, it’s relatively simple to extend legacy ASCII programs and APIs to handle UTF-8 strings. UTF-8 is very widely used in the Unix/Linux and Web worlds, and many programmers argue UTF-8 should be the default encoding everywhere.  However, UTF-8 isn’t a drop-in replacement for ASCII strings in all respects. For instance, code that iterates over the “characters” in a string will need to decode UTF-8 and iterate over code points (or maybe grapheme clusters—more about those later), not bytes. When you measure the “length” of a string, you’ll need to think about whether you want the length in bytes, the length in code points, the width of the text when rendered, or something else.  UTF-16 The other encoding that you’re likely to encounter is UTF-16. It uses 16-bit words, with each code point stored as either 1 or 2 words.  Like UTF-8, we can express the UTF-16 encoding rules in the form of binary prefixes:  UTF-16 (binary)\\tCode point (binary)\\tRange xxxxxxxxxxxxxxxx\\txxxxxxxxxxxxxxxx\\tU+0000–U+FFFF 110110xxxxxxxxxx 110111yyyyyyyyyy\\txxxxxxxxxxyyyyyyyyyy + 0x10000\\tU+10000–U+10FFFF A more common way that people talk about UTF-16 encoding, though, is in terms of code points called “surrogates”. All the code points in the range U+D800–U+DFFF—or in other words, the code points that match the binary prefixes 110110 and 110111 in the table above—are reserved specifically for UTF-16 encoding, and don’t represent any valid characters on their own. They’re only meant to occur in the 2-word encoding pattern above, which is called a “surrogate pair”. Surrogate code points are illegal in any other context! They’re not allowed in UTF-8 or UTF-32 at all.  Historically, UTF-16 is a descendant of the original, pre-1996 versions of Unicode, in which there were only 65,536 code points. The original intention was that there would be no different “encodings”; Unicode was supposed to be a straightforward 16-bit character set. Later, the codespace was expanded to make room for a long tail of less-common (but still important) Han characters, which the Unicode designers didn’t originally plan for. Surrogates were then introduced, as—to put it bluntly—a kludge, allowing 16-bit encodings to access the new code points.  Today, Javascript uses UTF-16 as its standard string representation: if you ask for the length of a string, or iterate over it, etc., the result will be in UTF-16 words, with any code points outside the BMP expressed as surrogate pairs. UTF-16 is also used by the Microsoft Win32 APIs; though Win32 supports either 8-bit or 16-bit strings, the 8-bit version unaccountably still doesn’t support UTF-8—only legacy code-page encodings, like ANSI. This leaves UTF-16 as the only way to get proper Unicode support in Windows. (Update: in Win10 version 1903, they finally added UTF-8 support to the 8-bit APIs! 😊)  By the way, UTF-16’s words can be stored either little-endian or big-endian. Unicode has no opinion on that issue, though it does encourage the convention of putting U+FEFF zero width no-break space at the top of a UTF-16 file as a byte-order mark, to disambiguate the endianness. (If the file doesn’t match the system’s endianness, the BOM will be decoded as U+FFFE, which isn’t a valid code point.)  Combining Marks In the story so far, we’ve been focusing on code points. But in Unicode, a “character” can be more complicated than just an individual code point!  Unicode includes a system for dynamically composing characters, by combining multiple code points together. This is used in various ways to gain flexibility without causing a huge combinatorial explosion in the number of code points.  In European languages, for example, this shows up in the application of diacritics to letters. Unicode supports a wide range of diacritics, including acute and grave accents, umlauts, cedillas, and many more. All these diacritics can be applied to any letter of any alphabet—and in fact, multiple diacritics can be used on a single letter.  If Unicode tried to assign a distinct code point to every possible combination of letter and diacritics, things would rapidly get out of hand. Instead, the dynamic composition system enables you to construct the character you want, by starting with a base code point (the letter) and appending additional code points, called “combining marks”, to specify the diacritics. When a text renderer sees a sequence like this in a string, it automatically stacks the diacritics over or under the base letter to create a composed character.  For example, the accented character “Á” can be expressed as a string of two code points: U+0041 “A” latin capital letter a plus U+0301 “◌́” combining acute accent. This string automatically gets rendered as a single character: “Á”.  Now, Unicode does also include many “precomposed” code points, each representing a letter with some combination of diacritics already applied, such as U+00C1 “Á” latin capital letter a with acute or U+1EC7 “ệ” latin small letter e with circumflex and dot below. I suspect these are mostly inherited from older encodings that were assimilated into Unicode, and kept around for compatibility. In practice, there are precomposed code points for most of the common letter-with-diacritic combinations in European-script languages, so they don’t use dynamic composition that much in typical text.  Still, the system of combining marks does allow for an arbitrary number of diacritics to be stacked on any base character. The reductio-ad-absurdum of this is Zalgo text, which works by ͖͟ͅr͞aṋ̫̠̖͈̗d͖̻̹óm̪͙͕̗̝ļ͇̰͓̳̫ý͓̥̟͍ ̕s̫t̫̱͕̗̰̼̘͜a̼̩͖͇̠͈̣͝c̙͍k̖̱̹͍͘i̢n̨̺̝͇͇̟͙ģ̫̮͎̻̟ͅ ̕n̼̺͈͞u̮͙m̺̭̟̗͞e̞͓̰̤͓̫r̵o̖ṷs҉̪͍̭̬̝̤ ̮͉̝̞̗̟͠d̴̟̜̱͕͚i͇̫̼̯̭̜͡ḁ͙̻̼c̲̲̹r̨̠̹̣̰̦i̱t̤̻̤͍͙̘̕i̵̜̭̤̱͎c̵s ͘o̱̲͈̙͖͇̲͢n͘ ̜͈e̬̲̠̩ac͕̺̠͉h̷̪ ̺̣͖̱ḻ̫̬̝̹ḙ̙̺͙̭͓̲t̞̞͇̲͉͍t̷͔̪͉̲̻̠͙e̦̻͈͉͇r͇̭̭̬͖,̖́ ̜͙͓̣̭s̘̘͈o̱̰̤̲ͅ ̛̬̜̙t̼̦͕̱̹͕̥h̳̲͈͝ͅa̦t̻̲ ̻̟̭̦̖t̛̰̩h̠͕̳̝̫͕e͈̤̘͖̞͘y҉̝͙ ̷͉͔̰̠o̞̰v͈͈̳̘͜er̶f̰͈͔ḻ͕̘̫̺̲o̲̭͙͠ͅw̱̳̺ ͜t̸h͇̭͕̳͍e̖̯̟̠ ͍̞̜͔̩̪͜ļ͎̪̲͚i̝̲̹̙̩̹n̨̦̩̖ḙ̼̲̼͢ͅ ̬͝s̼͚̘̞͝p͙̘̻a̙c҉͉̜̤͈̯̖i̥͡n̦̠̱͟g̸̗̻̦̭̮̟ͅ ̳̪̠͖̳̯̕a̫͜n͝d͡ ̣̦̙ͅc̪̗r̴͙̮̦̹̳e͇͚̞͔̹̫͟a̙̺̙ț͔͎̘̹ͅe̥̩͍ a͖̪̜̮͙̹n̢͉̝ ͇͉͓̦̼́a̳͖̪̤̱p̖͔͔̟͇͎͠p̱͍̺ę̲͎͈̰̲̤̫a̯͜r̨̮̫̣̘a̩̯͖n̹̦̰͎̣̞̞c̨̦̱͔͎͍͖e̬͓͘ ̤̰̩͙̤̬͙o̵̼̻̬̻͇̮̪f̴ ̡̙̭͓͖̪̤“̸͙̠̼c̳̗͜o͏̼͙͔̮r̞̫̺̞̥̬ru̺̻̯͉̭̻̯p̰̥͓̣̫̙̤͢t̳͍̳̖ͅi̶͈̝͙̼̙̹o̡͔n̙̺̹̖̩͝ͅ”̨̗͖͚̩.̯͓  A few other places where dynamic character composition shows up in Unicode:  Vowel-pointing notation in Arabic and Hebrew. In these languages, words are normally spelled with some of their vowels left out. They then have diacritic notation to indicate the vowels (used in dictionaries, language-teaching materials, children’s books, and such). These diacritics are expressed with combining marks.  A Hebrew example, with niqqud:\\tאֶת דַלְתִּי הֵזִיז הֵנִיעַ, קֶטֶב לִשְׁכַּתִּי יָשׁוֹד Normal writing (no niqqud):\\tאת דלתי הזיז הניע, קטב לשכתי ישוד Devanagari, the script used to write Hindi, Sanskrit, and many other South Asian languages, expresses certain vowels as combining marks attached to consonant letters. For example, “ह” + “\\u200bि” = “हि” (“h” + “i” = “hi”). Korean characters stand for syllables, but they are composed of letters called jamo that stand for the vowels and consonants in the syllable. While there are code points for precomposed Korean syllables, it’s also possible to dynamically compose them by concatenating their jamo. For example, “ᄒ” + “ᅡ” + “ᆫ” = “한” (“h” + “a” + “n” = “han”). Canonical Equivalence In Unicode, precomposed characters exist alongside the dynamic composition system. A consequence of this is that there are multiple ways to express “the same” string—different sequences of code points that result in the same user-perceived characters. For example, as we saw earlier, we can express the character “Á” either as the single code point U+00C1, or as the string of two code points U+0041 U+0301.  Another source of ambiguity is the ordering of multiple diacritics in a single character. Diacritic order matters visually when two diacritics apply to the same side of the base character, e.g. both above: “ǡ” (dot, then macron) is different from “ā̇” (macron, then dot). However, when diacritics apply to different sides of the character, e.g. one above and one below, then the order doesn’t affect rendering. Moreover, a character with multiple diacritics might have one of the diacritics precomposed and others expressed as combining marks.  For example, the Vietnamese letter “ệ” can be expressed in five different ways:  Fully precomposed: U+1EC7 “ệ” Partially precomposed: U+1EB9 “ẹ” + U+0302 “◌̂” Partially precomposed: U+00EA “ê” + U+0323 “◌̣” Fully decomposed: U+0065 “e” + U+0323 “◌̣” + U+0302 “◌̂” Fully decomposed: U+0065 “e” + U+0302 “◌̂” + U+0323 “◌̣” Unicode refers to set of strings like this as “canonically equivalent”. Canonically equivalent strings are supposed to be treated as identical for purposes of searching, sorting, rendering, text selection, and so on. This has implications for how you implement operations on text. For example, if an app has a “find in file” operation and the user searches for “ệ”, it should, by default, find occurrences of any of the five versions of “ệ” above!  Normalization Forms To address the problem of “how to handle canonically equivalent strings”, Unicode defines several normalization forms: ways of converting strings into a canonical form so that they can be compared code-point-by-code-point (or byte-by-byte).  The “NFD” normalization form fully decomposes every character down to its component base and combining marks, taking apart any precomposed code points in the string. It also sorts the combining marks in each character according to their rendered position, so e.g. diacritics that go below the character come before the ones that go above the character. (It doesn’t reorder diacritics in the same rendered position, since their order matters visually, as previously mentioned.)  The “NFC” form, conversely, puts things back together into precomposed code points as much as possible. If an unusual combination of diacritics is called for, there may not be any precomposed code point for it, in which case NFC still precomposes what it can and leaves any remaining combining marks in place (again ordered by rendered position, as in NFD).  There are also forms called NFKD and NFKC. The “K” here refers to compatibility decompositions, which cover characters that are “similar” in some sense but not visually identical. However, I’m not going to cover that here.  Grapheme Clusters As we’ve seen, Unicode contains various cases where a thing that a user thinks of as a single “character” might actually be made up of multiple code points under the hood. Unicode formalizes this using the notion of a grapheme cluster: a string of one or more code points that constitute a single “user-perceived character”.  UAX #29 defines the rules for what, precisely, qualifies as a grapheme cluster. It’s approximately “a base code point followed by any number of combining marks”, but the actual definition is a bit more complicated; it accounts for things like Korean jamo, and emoji ZWJ sequences.  The main thing grapheme clusters are used for is text editing: they’re often the most sensible unit for cursor placement and text selection boundaries. Using grapheme clusters for these purposes ensures that you can’t accidentally chop off some diacritics when you copy-and-paste text, that left/right arrow keys always move the cursor by one visible character, and so on.  Another place where grapheme clusters are useful is in enforcing a string length limit—say, on a database field. While the true, underlying limit might be something like the byte length of the string in UTF-8, you wouldn’t want to enforce that by just truncating bytes. At a minimum, you’d want to “round down” to the nearest code point boundary; but even better, round down to the nearest grapheme cluster boundary. Otherwise, you might be corrupting the last character by cutting off a diacritic, or interrupting a jamo sequence or ZWJ sequence.  And More… There’s much more that could be said about Unicode from a programmer’s perspective! I haven’t gotten into such fun topics as case mapping, collation, compatibility decompositions and confusables, Unicode-aware regexes, or bidirectional text. Nor have I said anything yet about implementation issues—how to efficiently store and look-up data about the sparsely-assigned code points, or how to optimize UTF-8 decoding, string comparison, or NFC normalization. Perhaps I’ll return to some of those things in future posts.  Unicode is a fascinating and complex system. It has a many-to-one mapping between bytes and code points, and on top of that a many-to-one (or, under some circumstances, many-to-many) mapping between code points and “characters”. It has oddball special cases in every corner. But no one ever claimed that representing all written languages was going to be easy, and it’s clear that we’re never going back to the bad old days of a patchwork of incompatible encodings.  Further reading:  The Unicode Standard UTF-8 Everywhere Manifesto Dark corners of Unicode by Eevee ICU (International Components for Unicode)—C/C++/Java libraries implementing many Unicode algorithms and related things Python 3 Unicode Howto Google Noto Fonts—set of fonts intended to cover all assigned code points\"\"\"\n",
    "tokens = text.encode(\"utf-8\") # raw bytes\n",
    "tokens = list(map(int, tokens)) # convert to a list of integers in range 0..255 for convenience"
   ]
  },
  {
   "cell_type": "code",
   "execution_count": 10,
   "id": "9b8673c8-c4e3-4dbf-aa01-830da29a3648",
   "metadata": {},
   "outputs": [
    {
     "name": "stdout",
     "output_type": "stream",
     "text": [
      "merging (101, 32) into a new token 256\n",
      "merging (105, 110) into a new token 257\n",
      "merging (115, 32) into a new token 258\n",
      "merging (116, 104) into a new token 259\n",
      "merging (101, 114) into a new token 260\n",
      "merging (99, 111) into a new token 261\n",
      "merging (116, 32) into a new token 262\n",
      "merging (226, 128) into a new token 263\n",
      "merging (44, 32) into a new token 264\n",
      "merging (97, 110) into a new token 265\n",
      "merging (111, 114) into a new token 266\n",
      "merging (100, 32) into a new token 267\n",
      "merging (97, 114) into a new token 268\n",
      "merging (101, 110) into a new token 269\n",
      "merging (257, 103) into a new token 270\n",
      "merging (261, 100) into a new token 271\n",
      "merging (121, 32) into a new token 272\n",
      "merging (46, 32) into a new token 273\n",
      "merging (97, 108) into a new token 274\n",
      "merging (259, 256) into a new token 275\n"
     ]
    }
   ],
   "source": [
    "def get_stats(ids):\n",
    "    counts = {}\n",
    "    for pair in zip(ids, ids[1:]): # Pythonic way to iterate consecutive elements\n",
    "        counts[pair] = counts.get(pair, 0) + 1\n",
    "    return counts\n",
    "\n",
    "def merge(ids, pair, idx):\n",
    "    newids = []\n",
    "    i = 0\n",
    "    while i < len(ids):\n",
    "        if i < (len(ids) - 1) and ids[i] == pair[0] and ids[i+1] == pair[1]:\n",
    "            newids.append(idx)\n",
    "            i += 2\n",
    "        else:\n",
    "            newids.append(ids[i])\n",
    "            i += 1\n",
    "    return newids\n",
    "\n",
    "# ---\n",
    "vocab_size = 276 # the desired final vocabulary size\n",
    "num_merges = vocab_size - 256\n",
    "ids = list(tokens) # copy so we don't destroy the original list\n",
    "\n",
    "merges = {} # (int, int) -> int\n",
    "for i in range(num_merges):\n",
    "    stats = get_stats(ids)\n",
    "    pair = max(stats, key=stats.get)\n",
    "    idx = 256 + i\n",
    "    print(f\"merging {pair} into a new token {idx}\")\n",
    "    ids = merge(ids, pair, idx)\n",
    "    merges[pair] = idx"
   ]
  },
  {
   "cell_type": "code",
   "execution_count": 11,
   "id": "57e88eea-8b41-4f22-a995-87371e46dd48",
   "metadata": {},
   "outputs": [
    {
     "name": "stdout",
     "output_type": "stream",
     "text": [
      "tokens length: 24597\n",
      "ids length 19438\n",
      "compression ratio: 1.27X\n"
     ]
    }
   ],
   "source": [
    "print(\"tokens length:\", len(tokens))\n",
    "print(\"ids length\", len(ids))\n",
    "print(f\"compression ratio: {len(tokens)/len(ids):.2f}X\")"
   ]
  },
  {
   "cell_type": "markdown",
   "id": "012d9241-778c-4dad-993f-bf7548d60a53",
   "metadata": {},
   "source": [
    "Note, the Tokenizer is a completely separate, independent module from the LLM. It has its own training dataset of text (which could be different from that of the LLM), on which you train the vocabulary using the Byte Pair Encoding (BPE) algorithm. It then translates back and forth between raw text and sequences of tokens. The LLM later only ever sees the tokens and never directly deals with any text."
   ]
  },
  {
   "cell_type": "markdown",
   "id": "dfd96564-1812-408a-bf3e-e8dfc0044d4f",
   "metadata": {},
   "source": [
    "![Screenshot 2024-02-14 at 8.23.33 AM.png](data:image/png;base64,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)"
   ]
  },
  {
   "cell_type": "markdown",
   "id": "b393947c-f6b5-4a3c-8bc9-c90de3e9e663",
   "metadata": {},
   "source": [
    "## decoding\n",
    "Given a sequence of integers in the range[0, vocab_size], what is the next ?"
   ]
  },
  {
   "cell_type": "code",
   "execution_count": 12,
   "id": "5a3224b2-30d6-4614-9c13-84a73cff4c02",
   "metadata": {},
   "outputs": [
    {
     "name": "stdout",
     "output_type": "stream",
     "text": [
      "�\n"
     ]
    }
   ],
   "source": [
    "vocab = {idx: bytes([idx]) for idx in range(256)}\n",
    "for (p0, p1), idx in merges.items():\n",
    "    vocab[idx] = vocab[p0] + vocab[p1]\n",
    "    \n",
    "\n",
    "def decode(ids):\n",
    "    # given ids (list of integers), return Python string\n",
    "    tokens = b\"\".join(vocab[idx] for idx in ids)\n",
    "    text = tokens.decode(\"utf-8\", errors=\"replace\")\n",
    "    return text\n",
    "print(decode([128]))"
   ]
  },
  {
   "cell_type": "markdown",
   "id": "b69a95aa-bd4a-4b33-afc4-4c5d3ead62ca",
   "metadata": {},
   "source": [
    "## encoding\n",
    "The other way around: Given a string, what are the tokens?"
   ]
  },
  {
   "cell_type": "code",
   "execution_count": 13,
   "id": "792c02ec-8938-467c-9ba5-68b4b943a3e5",
   "metadata": {},
   "outputs": [
    {
     "name": "stdout",
     "output_type": "stream",
     "text": [
      "[(144, (259, 256)), (143, (111, 110)), (137, (111, 32)), (134, (116, 105)), (131, (97, 99)), (121, (32, 259)), (117, (101, 115)), (116, (111, 102)), (116, (102, 32)), (111, (271, 256)), (111, (105, 116)), (110, (116, 111)), (110, (112, 111)), (107, (270, 32)), (107, (97, 116)), (105, (101, 267)), (105, (32, 115)), (104, (115, 116)), (101, (114, 101)), (99, (116, 260)), (99, (115, 101)), (93, (260, 32)), (93, (257, 32)), (93, (97, 32)), (89, (108, 101)), (89, (99, 104)), (88, (116, 101)), (87, (105, 99)), (86, (32, 97)), (82, (266, 32)), (81, (256, 112)), (81, (111, 117)), (80, (32, 111)), (78, (120, 120)), (78, (110, 32)), (76, (257, 116)), (76, (105, 111)), (75, (101, 120)), (74, (101, 258)), (71, (263, 157)), (71, (263, 156)), (71, (261, 109)), (71, (115, 264)), (71, (110, 105)), (70, (265, 267)), (70, (112, 108)), (70, (111, 257)), (70, (109, 112)), (68, (116, 258)), (66, (32, 116)), (66, (32, 85)), (64, (263, 153)), (63, (274, 108)), (63, (105, 258)), (62, (99, 116)), (61, (112, 114)), (61, (97, 258)), (60, (85, 110)), (59, (117, 115)), (59, (105, 271)), (59, (100, 105)), (58, (114, 105)), (58, (102, 266)), (57, (114, 111)), (57, (111, 119)), (57, (32, 98)), (55, (108, 272)), (54, (115, 105)), (53, (157, 32)), (53, (111, 115)), (53, (32, 109)), (51, (108, 32)), (50, (116, 114)), (50, (32, 119)), (48, (108, 256)), (47, (118, 260)), (47, (97, 262)), (47, (97, 109)), (46, (258, 97)), (46, (105, 108)), (46, (100, 101)), (46, (97, 115)), (46, (32, 108)), (46, (32, 105)), (45, (256, 115)), (45, (121, 121)), (45, (104, 32)), (44, (273, 32)), (44, (108, 108)), (44, (32, 263)), (43, (111, 109)), (43, (108, 105)), (43, (104, 268)), (43, (101, 108)), (43, (32, 257)), (43, (32, 100)), (42, (268, 97)), (42, (265, 32)), (42, (101, 109)), (41, (115, 111)), (40, (259, 97)), (40, (119, 105)), (40, (115, 117)), (40, (114, 97)), (40, (99, 114)), (40, (97, 98)), (40, (85, 84)), (40, (84, 104)), (40, (84, 70)), (40, (32, 261)), (39, (256, 259)), (39, (109, 97)), (39, (85, 43)), (39, (70, 45)), (38, (268, 256)), (38, (97, 112)), (38, (32, 102)), (37, (119, 104)), (37, (115, 273)), (37, (101, 116)), (37, (99, 101)), (36, (274, 32)), (36, (269, 116)), (36, (101, 264)), (35, (258, 111)), (35, (116, 116)), (35, (116, 97)), (35, (105, 262)), (35, (32, 112)), (34, (259, 260)), (34, (258, 257)), (34, (117, 114)), (34, (117, 108)), (34, (116, 115)), (34, (115, 115)), (34, (104, 105)), (33, (105, 115)), (33, (32, 265)), (33, (32, 99)), (32, (271, 101)), (32, (117, 262)), (32, (101, 97)), (32, (48, 48)), (32, (32, 271)), (32, (32, 101)), (31, (259, 32)), (31, (258, 259)), (31, (115, 112)), (31, (112, 97)), (31, (108, 265)), (31, (108, 97)), (31, (103, 101)), (31, (97, 103)), (30, (264, 259)), (30, (261, 110)), (30, (256, 97)), (30, (110, 111)), (30, (109, 32)), (30, (108, 111)), (30, (105, 259)), (30, (105, 103)), (30, (99, 274)), (30, (98, 105)), (29, (153, 258)), (29, (119, 32)), (29, (109, 256)), (29, (109, 98)), (29, (98, 256)), (28, (269, 32)), (28, (113, 117)), (28, (102, 105)), (28, (101, 118)), (28, (98, 111)), (27, (117, 110)), (27, (116, 270)), (27, (115, 262)), (27, (115, 256)), (27, (114, 270)), (27, (110, 101)), (27, (105, 118)), (27, (105, 100)), (26, (264, 265)), (26, (256, 271)), (26, (256, 99)), (26, (112, 112)), (26, (105, 109)), (26, (105, 97)), (26, (99, 256)), (26, (98, 108)), (25, (273, 84)), (25, (263, 148)), (25, (260, 258)), (25, (256, 100)), (25, (121, 111)), (25, (117, 112)), (25, (104, 101)), (25, (103, 114)), (25, (101, 263)), (25, (100, 260)), (25, (98, 257)), (25, (49, 54)), (24, (260, 115)), (24, (256, 111)), (24, (116, 263)), (24, (109, 111)), (24, (109, 105)), (24, (104, 97)), (24, (100, 111)), (24, (49, 48)), (24, (43, 48)), (24, (32, 104)), (23, (265, 272)), (23, (116, 256)), (23, (111, 103)), (23, (109, 266)), (23, (101, 273)), (23, (101, 100)), (23, (99, 97)), (22, (271, 270)), (22, (269, 271)), (22, (266, 109)), (22, (262, 259)), (22, (260, 256)), (22, (259, 101)), (22, (105, 114)), (22, (103, 104)), (22, (101, 99)), (22, (99, 108)), (22, (98, 121)), (22, (45, 56)), (21, (265, 103)), (21, (264, 119)), (21, (256, 261)), (21, (119, 266)), (21, (112, 32)), (21, (105, 112)), (21, (104, 256)), (21, (70, 70)), (21, (56, 32)), (21, (32, 40)), (20, (262, 115)), (20, (256, 108)), (20, (122, 122)), (20, (121, 116)), (20, (119, 101)), (20, (118, 101)), (20, (117, 116)), (20, (112, 101)), (20, (111, 112)), (20, (109, 109)), (20, (109, 101)), (20, (107, 32)), (20, (105, 102)), (20, (105, 101)), (20, (104, 260)), (20, (104, 111)), (20, (99, 265)), (20, (54, 32)), (20, (32, 49)), (19, (269, 262)), (19, (266, 256)), (19, (256, 116)), (19, (256, 98)), (19, (153, 204)), (19, (117, 99)), (19, (115, 270)), (19, (112, 116)), (19, (108, 117)), (19, (101, 261)), (19, (101, 112)), (19, (101, 102)), (19, (58, 32)), (19, (49, 49)), (19, (45, 98)), (19, (32, 110)), (19, (32, 32)), (18, (273, 73)), (18, (269, 100)), (18, (269, 99)), (18, (267, 97)), (18, (260, 264)), (18, (258, 119)), (18, (258, 116)), (18, (258, 102)), (18, (256, 114)), (18, (256, 85)), (18, (205, 153)), (18, (204, 178)), (18, (117, 32)), (18, (116, 264)), (18, (115, 97)), (18, (111, 100)), (18, (110, 116)), (18, (103, 256)), (18, (32, 114)), (17, (270, 258)), (17, (262, 111)), (17, (258, 99)), (17, (257, 270)), (17, (257, 262)), (17, (256, 109)), (17, (256, 102)), (17, (153, 262)), (17, (110, 263)), (17, (109, 274)), (17, (105, 98)), (17, (103, 117)), (17, (101, 113)), (17, (101, 105)), (17, (99, 258)), (17, (97, 105)), (17, (67, 111)), (17, (41, 32)), (17, (32, 84)), (16, (267, 116)), (16, (266, 101)), (16, (262, 109)), (16, (259, 105)), (16, (258, 268)), (16, (256, 119)), (16, (240, 159)), (16, (204, 171)), (16, (121, 264)), (16, (120, 116)), (16, (119, 97)), (16, (118, 256)), (16, (117, 109)), (16, (117, 97)), (16, (99, 117)), (16, (97, 100)), (16, (45, 49)), (15, (266, 100)), (15, (262, 97)), (15, (260, 101)), (15, (258, 115)), (15, (205, 136)), (15, (204, 185)), (15, (117, 274)), (15, (116, 272)), (15, (115, 99)), (15, (111, 259)), (15, (111, 118)), (15, (101, 45)), (15, (98, 101)), (15, (73, 110)), (15, (32, 269)), (15, (32, 65)), (14, (268, 107)), (14, (267, 257)), (14, (265, 100)), (14, (264, 98)), (14, (262, 257)), (14, (262, 105)), (14, (262, 98)), (14, (258, 101)), (14, (256, 268)), (14, (256, 117)), (14, (205, 150)), (14, (205, 135)), (14, (204, 188)), (14, (204, 187)), (14, (204, 177)), (14, (204, 173)), (14, (204, 164)), (14, (117, 269)), (14, (116, 266)), (14, (115, 263)), (14, (115, 121)), (14, (111, 262)), (14, (109, 117)), (14, (108, 121)), (14, (102, 114)), (14, (102, 102)), (14, (101, 268)), (14, (99, 105)), (14, (98, 272)), (14, (98, 117)), (14, (98, 97)), (14, (97, 118)), (14, (50, 32)), (14, (32, 204)), (14, (32, 103)), (13, (272, 115)), (13, (270, 264)), (13, (268, 105)), (13, (266, 105)), (13, (263, 147)), (13, (262, 119)), (13, (259, 270)), (13, (259, 111)), (13, (258, 105)), (13, (256, 110)), (13, (204, 186)), (13, (204, 179)), (13, (204, 176)), (13, (204, 166)), (13, (204, 158)), (13, (204, 153)), (13, (120, 262)), (13, (120, 112)), (13, (116, 273)), (13, (115, 269)), (13, (114, 32)), (13, (112, 266)), (13, (111, 111)), (13, (110, 115)), (13, (110, 97)), (13, (109, 265)), (13, (107, 256)), (13, (100, 256)), (13, (97, 257)), (13, (73, 32)), (13, (43, 32)), (13, (32, 266)), (13, (32, 118)), (12, (274, 115)), (12, (274, 105)), (12, (272, 112)), (12, (267, 271)), (12, (267, 115)), (12, (267, 111)), (12, (265, 101)), (12, (264, 115)), (12, (264, 105)), (12, (262, 116)), (12, (205, 141)), (12, (204, 170)), (12, (204, 160)), (12, (187, 204)), (12, (120, 32)), (12, (118, 105)), (12, (114, 269)), (12, (112, 260)), (12, (110, 264)), (12, (110, 256)), (12, (109, 268)), (12, (105, 122)), (12, (105, 107)), (12, (103, 111)), (12, (32, 43)), (11, (272, 111)), (11, (268, 101)), (11, (267, 102)), (11, (266, 116)), (11, (264, 266)), (11, (260, 273)), (11, (260, 269)), (11, (258, 85)), (11, (257, 100)), (11, (256, 105)), (11, (205, 148)), (11, (205, 147)), (11, (205, 133)), (11, (204, 169)), (11, (204, 163)), (11, (204, 152)), (11, (204, 150)), (11, (150, 204)), (11, (121, 115)), (11, (120, 105)), (11, (120, 97)), (11, (116, 269)), (11, (116, 117)), (11, (114, 117)), (11, (112, 104)), (11, (111, 116)), (11, (101, 265)), (11, (101, 119)), (11, (97, 121)), (11, (70, 266)), (11, (41, 273)), (11, (32, 121)), (10, (270, 115)), (10, (264, 101)), (10, (264, 85)), (10, (262, 114)), (10, (262, 102)), (10, (258, 265)), (10, (257, 99)), (10, (256, 263)), (10, (215, 153)), (10, (205, 149)), (10, (205, 137)), (10, (204, 172)), (10, (204, 159)), (10, (204, 157)), (10, (166, 204)), (10, (119, 119)), (10, (116, 121)), (10, (111, 99)), (10, (110, 267)), (10, (109, 269)), (10, (109, 260)), (10, (108, 116)), (10, (107, 258)), (10, (104, 262)), (10, (103, 97)), (10, (102, 101)), (10, (101, 101)), (10, (99, 99)), (10, (99, 32)), (10, (51, 50)), (10, (48, 263)), (10, (48, 51)), (10, (33, 32)), (10, (32, 215)), (10, (32, 117)), (10, (32, 70)), (9, (273, 85)), (9, (272, 261)), (9, (270, 108)), (9, (267, 259)), (9, (267, 98)), (9, (258, 112)), (9, (204, 175)), (9, (204, 174)), (9, (204, 156)), (9, (204, 151)), (9, (188, 204)), (9, (186, 204)), (9, (179, 204)), (9, (176, 204)), (9, (173, 204)), (9, (171, 204)), (9, (156, 225)), (9, (135, 204)), (9, (121, 45)), (9, (118, 274)), (9, (118, 97)), (9, (117, 103)), (9, (117, 100)), (9, (116, 265)), (9, (116, 204)), (9, (115, 104)), (9, (114, 256)), (9, (114, 114)), (9, (112, 117)), (9, (112, 105)), (9, (110, 258)), (9, (110, 117)), (9, (110, 100)), (9, (108, 100)), (9, (106, 117)), (9, (105, 274)), (9, (105, 265)), (9, (102, 260)), (9, (102, 257)), (9, (101, 262)), (9, (100, 264)), (9, (100, 97)), (9, (99, 107)), (9, (98, 114)), (9, (97, 107)), (9, (83, 67)), (9, (73, 73)), (9, (67, 73)), (9, (65, 83)), (9, (49, 32)), (9, (32, 77)), (8, (273, 70)), (8, (273, 66)), (8, (273, 65)), (8, (272, 116)), (8, (272, 100)), (8, (269, 103)), (8, (267, 100)), (8, (266, 107)), (8, (264, 97)), (8, (262, 85)), (8, (260, 110)), (8, (258, 274)), (8, (258, 109)), (8, (258, 104)), (8, (257, 97)), (8, (256, 269)), (8, (256, 257)), (8, (256, 66)), (8, (205, 142)), (8, (178, 204)), (8, (164, 204)), (8, (149, 204)), (8, (147, 204)), (8, (136, 204)), (8, (119, 114)), (8, (118, 269)), (8, (117, 105)), (8, (115, 110)), (8, (115, 109)), (8, (114, 115)), (8, (111, 101)), (8, (110, 273)), (8, (110, 108)), (8, (108, 269)), (8, (108, 267)), (8, (107, 115)), (8, (104, 269)), (8, (103, 110)), (8, (102, 117)), (8, (100, 117)), (8, (97, 204)), (8, (77, 80)), (8, (73, 262)), (8, (72, 111)), (8, (70, 32)), (8, (66, 77)), (8, (65, 32)), (8, (45, 112)), (8, (43, 49)), (8, (32, 72)), (8, (32, 67)), (7, (272, 259)), (7, (272, 257)), (7, (268, 272)), (7, (268, 121)), (7, (268, 116)), (7, (268, 103)), (7, (267, 112)), (7, (264, 261)), (7, (264, 257)), (7, (264, 116)), (7, (262, 274)), (7, (261, 117)), (7, (258, 261)), (7, (258, 117)), (7, (258, 108)), (7, (258, 49)), (7, (257, 268)), (7, (257, 101)), (7, (256, 274)), (7, (256, 266)), (7, (256, 265)), (7, (256, 118)), (7, (256, 101)), (7, (256, 67)), (7, (226, 151)), (7, (205, 156)), (7, (178, 205)), (7, (163, 204)), (7, (159, 205)), (7, (159, 135)), (7, (159, 133)), (7, (158, 204)), (7, (157, 273)), (7, (157, 264)), (7, (156, 226)), (7, (156, 99)), (7, (153, 205)), (7, (151, 140)), (7, (150, 205)), (7, (147, 85)), (7, (140, 204)), (7, (137, 204)), (7, (119, 111)), (7, (119, 110)), (7, (117, 258)), (7, (116, 257)), (7, (116, 119)), (7, (116, 108)), (7, (115, 260)), (7, (112, 268)), (7, (111, 204)), (7, (111, 108)), (7, (110, 204)), (7, (110, 118)), (7, (109, 258)), (7, (108, 268)), (7, (107, 101)), (7, (104, 265)), (7, (103, 259)), (7, (103, 257)), (7, (101, 269)), (7, (101, 259)), (7, (101, 256)), (7, (101, 103)), (7, (100, 270)), (7, (100, 268)), (7, (100, 108)), (7, (100, 100)), (7, (87, 104)), (7, (78, 70)), (7, (59, 32)), (7, (48, 49)), (7, (48, 32)), (7, (32, 274)), (7, (32, 80)), (6, (273, 87)), (6, (272, 110)), (6, (268, 267)), (6, (267, 109)), (6, (267, 99)), (6, (266, 262)), (6, (265, 262)), (6, (265, 111)), (6, (264, 121)), (6, (264, 114)), (6, (263, 140)), (6, (262, 265)), (6, (262, 261)), (6, (262, 117)), (6, (262, 108)), (6, (262, 103)), (6, (262, 100)), (6, (260, 263)), (6, (260, 97)), (6, (258, 110)), (6, (258, 100)), (6, (256, 49)), (6, (256, 40)), (6, (239, 189)), (6, (215, 170)), (6, (205, 157)), (6, (204, 168)), (6, (204, 165)), (6, (185, 204)), (6, (177, 205)), (6, (170, 204)), (6, (168, 204)), (6, (160, 205)), (6, (157, 204)), (6, (156, 204)), (6, (153, 108)), (6, (152, 204)), (6, (148, 204)), (6, (140, 240)), (6, (135, 263)), (6, (122, 97)), (6, (121, 258)), (6, (121, 110)), (6, (120, 101)), (6, (119, 256)), (6, (118, 111)), (6, (117, 101)), (6, (116, 274)), (6, (115, 266)), (6, (115, 58)), (6, (114, 265)), (6, (110, 274)), (6, (110, 99)), (6, (105, 269)), (6, (105, 204)), (6, (105, 120)), (6, (102, 116)), (6, (102, 97)), (6, (101, 204)), (6, (101, 111)), (6, (100, 121)), (6, (100, 115)), (6, (100, 58)), (6, (99, 272)), (6, (99, 269)), (6, (99, 262)), (6, (99, 204)), (6, (98, 260)), (6, (97, 272)), (6, (97, 117)), (6, (61, 32)), (6, (54, 45)), (6, (51, 48)), (6, (49, 50)), (6, (48, 120)), (6, (32, 107)), (6, (32, 106)), (6, (32, 87)), (6, (32, 73)), (6, (32, 69)), (6, (32, 61)), (6, (9, 120)), (6, (9, 85)), (5, (274, 269)), (5, (273, 72)), (5, (272, 119)), (5, (272, 99)), (5, (270, 273)), (5, (268, 32)), (5, (266, 108)), (5, (265, 256)), (5, (265, 121)), (5, (264, 109)), (5, (262, 269)), (5, (262, 104)), (5, (262, 99)), (5, (262, 40)), (5, (260, 272)), (5, (260, 270)), (5, (260, 116)), (5, (260, 45)), (5, (259, 269)), (5, (258, 263)), (5, (258, 98)), (5, (257, 274)), (5, (257, 258)), (5, (256, 104)), (5, (225, 187)), (5, (225, 184)), (5, (214, 180)), (5, (205, 154)), (5, (205, 152)), (5, (188, 205)), (5, (187, 135)), (5, (177, 204)), (5, (172, 204)), (5, (160, 204)), (5, (158, 205)), (5, (157, 205)), (5, (156, 195)), (5, (156, 104)), (5, (153, 215)), (5, (153, 114)), (5, (153, 32)), (5, (147, 50)), (5, (137, 205)), (5, (136, 205)), (5, (129, 263)), (5, (121, 263)), (5, (121, 41)), (5, (119, 268)), (5, (119, 260)), (5, (117, 263)), (5, (116, 99)), (5, (115, 258)), (5, (115, 108)), (5, (114, 268)), (5, (114, 204)), (5, (112, 262)), (5, (111, 270)), (5, (111, 45)), (5, (110, 103)), (5, (109, 115)), (5, (108, 258)), (5, (107, 270)), (5, (107, 110)), (5, (105, 267)), (5, (102, 111)), (5, (101, 272)), (5, (101, 121)), (5, (101, 41)), (5, (100, 269)), (5, (80, 108)), (5, (80, 32)), (5, (75, 266)), (5, (73, 263)), (5, (65, 110)), (5, (55, 32)), (5, (54, 53)), (5, (40, 98)), (5, (40, 73)), (5, (32, 268)), (5, (32, 78)), (5, (32, 68)), (5, (32, 51)), (4, (272, 265)), (4, (272, 109)), (4, (272, 108)), (4, (272, 102)), (4, (272, 97)), (4, (269, 115)), (4, (269, 97)), (4, (268, 262)), (4, (268, 99)), (4, (267, 261)), (4, (267, 119)), (4, (267, 110)), (4, (267, 108)), (4, (267, 105)), (4, (266, 272)), (4, (264, 274)), (4, (264, 112)), (4, (264, 102)), (4, (264, 99)), (4, (262, 268)), (4, (262, 121)), (4, (262, 112)), (4, (262, 101)), (4, (261, 118)), (4, (261, 114)), (4, (261, 112)), (4, (260, 274)), (4, (260, 109)), (4, (260, 105)), (4, (259, 257)), (4, (259, 114)), (4, (258, 269)), (4, (258, 121)), (4, (258, 118)), (4, (258, 114)), (4, (258, 40)), (4, (256, 103)), (4, (256, 73)), (4, (256, 65)), (4, (224, 164)), (4, (215, 169)), (4, (215, 156)), (4, (215, 150)), (4, (215, 148)), (4, (215, 147)), (4, (204, 181)), (4, (204, 149)), (4, (195, 129)), (4, (175, 205)), (4, (175, 204)), (4, (174, 205)), (4, (174, 204)), (4, (173, 205)), (4, (172, 205)), (4, (170, 205)), (4, (169, 205)), (4, (169, 204)), (4, (164, 205)), (4, (159, 204)), (4, (156, 205)), (4, (156, 115)), (4, (153, 109)), (4, (152, 205)), (4, (151, 204)), (4, (142, 204)), (4, (141, 204)), (4, (135, 205)), (4, (133, 32)), (4, (122, 256)), (4, (122, 111)), (4, (121, 273)), (4, (121, 112)), (4, (120, 121)), (4, (120, 9)), (4, (119, 265)), (4, (118, 268)), (4, (117, 268)), (4, (116, 268)), (4, (115, 113)), (4, (112, 270)), (4, (111, 106)), (4, (110, 266)), (4, (109, 273)), (4, (109, 257)), (4, (106, 97)), (4, (104, 116)), (4, (103, 32)), (4, (101, 98)), (4, (100, 273)), (4, (100, 272)), (4, (98, 115)), (4, (87, 257)), (4, (85, 115)), (4, (84, 111)), (4, (78, 266)), (4, (77, 266)), (4, (72, 265)), (4, (72, 101)), (4, (70, 117)), (4, (66, 117)), (4, (65, 108)), (4, (56, 45)), (4, (53, 32)), (4, (51, 32)), (4, (50, 56)), (4, (50, 51)), (4, (50, 45)), (4, (46, 41)), (4, (45, 119)), (4, (45, 117)), (4, (45, 116)), (4, (45, 111)), (4, (45, 97)), (4, (43, 70)), (4, (41, 264)), (4, (41, 9)), (4, (32, 240)), (4, (32, 122)), (4, (32, 83)), (3, (273, 83)), (3, (273, 67)), (3, (273, 40)), (3, (272, 117)), (3, (272, 114)), (3, (272, 105)), (3, (272, 101)), (3, (272, 98)), (3, (272, 49)), (3, (268, 111)), (3, (267, 268)), (3, (267, 265)), (3, (267, 263)), (3, (267, 117)), (3, (267, 104)), (3, (267, 101)), (3, (267, 85)), (3, (267, 49)), (3, (265, 116)), (3, (265, 115)), (3, (265, 110)), (3, (265, 99)), (3, (264, 263)), (3, (264, 117)), (3, (264, 108)), (3, (264, 73)), (3, (262, 271)), (3, (262, 266)), (3, (262, 110)), (3, (260, 118)), (3, (260, 41)), (3, (259, 265)), (3, (258, 73)), (3, (258, 48)), (3, (257, 267)), (3, (257, 107)), (3, (257, 105)), (3, (256, 78)), (3, (256, 77)), (3, (214, 188)), (3, (214, 183)), (3, (214, 182)), (3, (210, 137)), (3, (205, 162)), (3, (205, 161)), (3, (205, 160)), (3, (205, 159)), (3, (205, 158)), (3, (204, 184)), (3, (204, 183)), (3, (204, 180)), (3, (204, 130)), (3, (204, 129)), (3, (188, 215)), (3, (187, 205)), (3, (185, 205)), (3, (182, 215)), (3, (180, 215)), (3, (179, 205)), (3, (176, 205)), (3, (171, 205)), (3, (170, 32)), (3, (169, 215)), (3, (165, 204)), (3, (163, 263)), (3, (157, 41)), (3, (156, 112)), (3, (156, 97)), (3, (154, 204)), (3, (153, 118)), (3, (151, 205)), (3, (148, 268)), (3, (148, 205)), (3, (148, 115)), (3, (147, 32)), (3, (142, 205)), (3, (141, 205)), (3, (130, 263)), (3, (121, 272)), (3, (121, 108)), (3, (121, 101)), (3, (121, 9)), (3, (120, 99)), (3, (119, 273)), (3, (119, 264)), (3, (119, 258)), (3, (116, 41)), (3, (115, 204)), (3, (115, 107)), (3, (114, 112)), (3, (114, 110)), (3, (114, 99)), (3, (112, 265)), (3, (112, 204)), (3, (111, 264)), (3, (111, 107)), (3, (110, 260)), (3, (109, 263)), (3, (109, 41)), (3, (108, 262)), (3, (108, 260)), (3, (106, 105)), (3, (105, 264)), (3, (105, 260)), (3, (105, 32)), (3, (104, 270)), (3, (104, 204)), (3, (103, 273)), (3, (103, 260)), (3, (102, 262)), (3, (101, 274)), (3, (101, 271)), (3, (101, 58)), (3, (101, 46)), (3, (101, 33)), (3, (100, 263)), (3, (100, 259)), (3, (100, 114)), (3, (100, 110)), (3, (100, 45)), (3, (99, 264)), (3, (99, 261)), (3, (99, 115)), (3, (97, 119)), (3, (87, 101)), (3, (83, 117)), (3, (83, 116)), (3, (80, 73)), (3, (77, 268)), (3, (74, 97)), (3, (73, 116)), (3, (73, 102)), (3, (71, 114)), (3, (70, 114)), (3, (70, 67)), (3, (69, 117)), (3, (68, 105)), (3, (67, 265)), (3, (65, 258)), (3, (65, 80)), (3, (63, 32)), (3, (56, 264)), (3, (56, 48)), (3, (54, 273)), (3, (53, 51)), (3, (53, 44)), (3, (52, 49)), (3, (51, 54)), (3, (49, 69)), (3, (49, 57)), (3, (49, 51)), (3, (48, 121)), (3, (48, 70)), (3, (48, 52)), (3, (48, 50)), (3, (46, 103)), (3, (45, 261)), (3, (44, 53)), (3, (40, 266)), (3, (40, 265)), (3, (40, 110)), (3, (40, 99)), (3, (32, 205)), (3, (32, 71)), (3, (32, 50)), (2, (274, 264)), (2, (274, 259)), (2, (274, 117)), (2, (274, 114)), (2, (274, 107)), (2, (274, 103)), (2, (273, 80)), (2, (273, 69)), (2, (272, 274)), (2, (272, 271)), (2, (272, 268)), (2, (272, 263)), (2, (272, 103)), (2, (272, 85)), (2, (272, 69)), (2, (272, 65)), (2, (272, 54)), (2, (270, 58)), (2, (269, 267)), (2, (269, 263)), (2, (269, 261)), (2, (269, 105)), (2, (269, 102)), (2, (268, 115)), (2, (268, 114)), (2, (268, 108)), (2, (267, 274)), (2, (267, 269)), (2, (267, 114)), (2, (267, 107)), (2, (267, 103)), (2, (267, 78)), (2, (267, 77)), (2, (267, 75)), (2, (267, 73)), (2, (266, 264)), (2, (266, 119)), (2, (266, 99)), (2, (266, 97)), (2, (265, 264)), (2, (265, 263)), (2, (265, 105)), (2, (265, 97)), (2, (264, 271)), (2, (264, 215)), (2, (264, 111)), (2, (264, 103)), (2, (264, 74)), (2, (264, 72)), (2, (263, 166)), (2, (262, 118)), (2, (262, 106)), (2, (262, 67)), (2, (262, 49)), (2, (261, 108)), (2, (260, 121)), (2, (260, 111)), (2, (260, 99)), (2, (260, 58)), (2, (259, 45)), (2, (258, 266)), (2, (258, 103)), (2, (258, 65)), (2, (257, 118)), (2, (257, 117)), (2, (257, 115)), (2, (257, 104)), (2, (257, 51)), (2, (256, 106)), (2, (256, 83)), (2, (256, 72)), (2, (256, 70)), (2, (256, 69)), (2, (256, 56)), (2, (256, 50)), (2, (256, 48)), (2, (225, 185)), (2, (215, 167)), (2, (215, 162)), (2, (215, 160)), (2, (215, 155)), (2, (215, 152)), (2, (215, 149)), (2, (215, 145)), (2, (215, 144)), (2, (215, 129)), (2, (214, 181)), (2, (214, 176)), (2, (204, 182)), (2, (204, 162)), (2, (204, 161)), (2, (204, 155)), (2, (196, 188)), (2, (194, 183)), (2, (191, 263)), (2, (188, 99)), (2, (186, 205)), (2, (185, 263)), (2, (185, 110)), (2, (184, 187)), (2, (184, 153)), (2, (183, 205)), (2, (183, 32)), (2, (181, 215)), (2, (181, 204)), (2, (180, 214)), (2, (176, 215)), (2, (170, 215)), (2, (170, 214)), (2, (166, 32)), (2, (165, 205)), (2, (164, 191)), (2, (164, 185)), (2, (163, 205)), (2, (162, 205)), (2, (162, 110)), (2, (161, 263)), (2, (159, 152)), (2, (156, 269)), (2, (156, 263)), (2, (156, 224)), (2, (156, 215)), (2, (156, 214)), (2, (156, 196)), (2, (156, 114)), (2, (156, 110)), (2, (156, 101)), (2, (156, 85)), (2, (156, 78)), (2, (156, 65)), (2, (155, 204)), (2, (154, 105)), (2, (152, 32)), (2, (150, 225)), (2, (150, 32)), (2, (148, 259)), (2, (148, 215)), (2, (148, 214)), (2, (148, 119)), (2, (148, 105)), (2, (148, 97)), (2, (147, 205)), (2, (145, 32)), (2, (141, 32)), (2, (129, 215)), (2, (122, 101)), (2, (122, 9)), (2, (121, 259)), (2, (121, 122)), (2, (121, 119)), (2, (119, 108)), (2, (119, 9)), (2, (118, 265)), (2, (117, 259)), (2, (117, 256)), (2, (117, 204)), (2, (116, 102)), (2, (116, 47)), (2, (116, 33)), (2, (115, 268)), (2, (115, 261)), (2, (115, 257)), (2, (115, 45)), (2, (115, 41)), (2, (114, 259)), (2, (114, 205)), (2, (114, 100)), (2, (113, 113)), (2, (112, 269)), (2, (110, 271)), (2, (110, 270)), (2, (110, 269)), (2, (110, 265)), (2, (110, 205)), (2, (110, 104)), (2, (110, 102)), (2, (110, 45)), (2, (109, 270)), (2, (109, 264)), (2, (109, 204)), (2, (108, 273)), (2, (108, 270)), (2, (108, 264)), (2, (108, 118)), (2, (108, 115)), (2, (107, 264)), (2, (106, 266)), (2, (105, 263)), (2, (105, 113)), (2, (104, 263)), (2, (104, 117)), (2, (103, 268)), (2, (103, 266)), (2, (103, 108)), (2, (103, 105)), (2, (102, 204)), (2, (102, 108)), (2, (101, 205)), (2, (101, 107)), (2, (101, 59)), (2, (100, 258)), (2, (100, 205)), (2, (100, 119)), (2, (100, 103)), (2, (100, 41)), (2, (99, 260)), (2, (99, 46)), (2, (97, 267)), (2, (97, 106)), (2, (97, 102)), (2, (90, 87)), (2, (89, 111)), (2, (87, 74)), (2, (83, 111)), (2, (83, 99)), (2, (82, 265)), (2, (80, 268)), (2, (78, 111)), (2, (77, 265)), (2, (77, 117)), (2, (77, 105)), (2, (77, 97)), (2, (76, 101)), (2, (76, 97)), (2, (74, 32)), (2, (73, 273)), (2, (73, 258)), (2, (73, 115)), (2, (70, 75)), (2, (70, 69)), (2, (70, 68)), (2, (69, 113)), (2, (69, 110)), (2, (69, 97)), (2, (69, 67)), (2, (68, 101)), (2, (67, 108)), (2, (67, 104)), (2, (67, 55)), (2, (67, 49)), (2, (67, 32)), (2, (66, 272)), (2, (66, 101)), (2, (65, 263)), (2, (65, 262)), (2, (65, 115)), (2, (65, 114)), (2, (58, 9)), (2, (57, 57)), (2, (57, 54)), (2, (57, 32)), (2, (56, 263)), (2, (55, 70)), (2, (52, 32)), (2, (51, 264)), (2, (51, 55)), (2, (51, 53)), (2, (50, 53)), (2, (49, 273)), (2, (49, 55)), (2, (49, 52)), (2, (48, 122)), (2, (48, 67)), (2, (48, 56)), (2, (48, 55)), (2, (48, 54)), (2, (47, 114)), (2, (45, 271)), (2, (45, 269)), (2, (45, 108)), (2, (45, 102)), (2, (45, 65)), (2, (45, 51)), (2, (44, 49)), (2, (43, 68)), (2, (41, 263)), (2, (40, 263)), (2, (40, 259)), (2, (40, 109)), (2, (40, 85)), (2, (40, 41)), (2, (32, 194)), (2, (32, 90)), (2, (32, 76)), (2, (32, 66)), (2, (32, 56)), (2, (9, 215)), (2, (9, 82)), (2, (9, 67)), (1, (274, 273)), (1, (274, 119)), (1, (274, 116)), (1, (274, 112)), (1, (274, 111)), (1, (274, 45)), (1, (273, 111)), (1, (273, 100)), (1, (273, 98)), (1, (273, 89)), (1, (273, 79)), (1, (273, 78)), (1, (273, 77)), (1, (273, 76)), (1, (273, 75)), (1, (273, 68)), (1, (272, 266)), (1, (272, 205)), (1, (272, 118)), (1, (272, 106)), (1, (272, 84)), (1, (272, 79)), (1, (272, 43)), (1, (270, 263)), (1, (270, 117)), (1, (270, 47)), (1, (269, 268)), (1, (269, 266)), (1, (269, 264)), (1, (269, 260)), (1, (269, 258)), (1, (269, 101)), (1, (269, 41)), (1, (268, 264)), (1, (268, 263)), (1, (268, 258)), (1, (268, 110)), (1, (268, 100)), (1, (268, 98)), (1, (268, 95)), (1, (267, 266)), (1, (267, 121)), (1, (267, 118)), (1, (267, 113)), (1, (267, 106)), (1, (267, 87)), (1, (267, 84)), (1, (267, 83)), (1, (267, 72)), (1, (267, 69)), (1, (267, 65)), (1, (266, 273)), (1, (266, 268)), (1, (266, 267)), (1, (266, 121)), (1, (266, 45)), (1, (265, 273)), (1, (265, 270)), (1, (265, 107)), (1, (265, 45)), (1, (265, 41)), (1, (264, 113)), (1, (264, 110)), (1, (264, 104)), (1, (264, 83)), (1, (264, 77)), (1, (264, 75)), (1, (264, 71)), (1, (264, 68)), (1, (264, 67)), (1, (264, 65)), (1, (264, 50)), (1, (263, 189)), (1, (263, 139)), (1, (262, 263)), (1, (262, 113)), (1, (262, 87)), (1, (262, 65)), (1, (261, 115)), (1, (261, 104)), (1, (261, 101)), (1, (260, 262)), (1, (260, 260)), (1, (260, 204)), (1, (260, 119)), (1, (260, 114)), (1, (260, 112)), (1, (260, 108)), (1, (260, 104)), (1, (260, 102)), (1, (259, 273)), (1, (259, 263)), (1, (259, 258)), (1, (259, 109)), (1, (259, 102)), (1, (259, 33)), (1, (258, 205)), (1, (258, 122)), (1, (258, 106)), (1, (258, 90)), (1, (258, 87)), (1, (258, 84)), (1, (258, 83)), (1, (258, 80)), (1, (258, 76)), (1, (258, 71)), (1, (258, 67)), (1, (258, 52)), (1, (258, 32)), (1, (257, 264)), (1, (257, 261)), (1, (257, 256)), (1, (257, 110)), (1, (257, 49)), (1, (256, 120)), (1, (256, 86)), (1, (256, 84)), (1, (256, 76)), (1, (256, 75)), (1, (256, 51)), (1, (239, 188)), (1, (237, 149)), (1, (225, 186)), (1, (225, 134)), (1, (225, 133)), (1, (225, 132)), (1, (214, 185)), (1, (214, 184)), (1, (206, 184)), (1, (205, 143)), (1, (204, 135)), (1, (200, 155)), (1, (199, 161)), (1, (196, 163)), (1, (196, 153)), (1, (196, 129)), (1, (195, 189)), (1, (195, 179)), (1, (195, 170)), (1, (195, 151)), (1, (189, 205)), (1, (189, 143)), (1, (189, 142)), (1, (189, 137)), (1, (189, 133)), (1, (189, 132)), (1, (189, 131)), (1, (189, 32)), (1, (188, 181)), (1, (187, 97)), (1, (186, 263)), (1, (186, 196)), (1, (186, 185)), (1, (186, 32)), (1, (185, 225)), (1, (185, 224)), (1, (185, 215)), (1, (185, 195)), (1, (185, 183)), (1, (185, 139)), (1, (185, 114)), (1, (185, 111)), (1, (184, 263)), (1, (184, 215)), (1, (184, 205)), (1, (184, 204)), (1, (184, 129)), (1, (184, 104)), (1, (183, 264)), (1, (183, 215)), (1, (183, 214)), (1, (183, 204)), (1, (183, 115)), (1, (182, 205)), (1, (182, 102)), (1, (181, 258)), (1, (181, 239)), (1, (181, 111)), (1, (180, 263)), (1, (180, 205)), (1, (180, 204)), (1, (180, 32)), (1, (179, 263)), (1, (179, 109)), (1, (179, 101)), (1, (178, 116)), (1, (178, 111)), (1, (178, 32)), (1, (177, 225)), (1, (177, 116)), (1, (177, 112)), (1, (176, 118)), (1, (175, 112)), (1, (174, 263)), (1, (174, 114)), (1, (173, 115)), (1, (172, 114)), (1, (171, 263)), (1, (171, 195)), (1, (171, 116)), (1, (171, 114)), (1, (171, 97)), (1, (170, 263)), (1, (170, 102)), (1, (170, 33)), (1, (169, 263)), (1, (169, 214)), (1, (169, 104)), (1, (169, 97)), (1, (169, 46)), (1, (168, 263)), (1, (167, 215)), (1, (167, 214)), (1, (166, 205)), (1, (166, 116)), (1, (166, 105)), (1, (165, 104)), (1, (164, 263)), (1, (164, 240)), (1, (164, 32)), (1, (162, 264)), (1, (162, 214)), (1, (162, 116)), (1, (161, 225)), (1, (161, 205)), (1, (161, 204)), (1, (161, 110)), (1, (161, 32)), (1, (160, 215)), (1, (160, 214)), (1, (160, 112)), (1, (160, 111)), (1, (160, 100)), (1, (160, 32)), (1, (159, 103)), (1, (159, 97)), (1, (158, 240)), (1, (158, 117)), (1, (158, 101)), (1, (158, 99)), (1, (158, 97)), (1, (157, 240)), (1, (157, 196)), (1, (157, 115)), (1, (157, 112)), (1, (157, 100)), (1, (157, 99)), (1, (157, 59)), (1, (156, 261)), (1, (156, 260)), (1, (156, 259)), (1, (156, 237)), (1, (156, 206)), (1, (156, 199)), (1, (156, 117)), (1, (156, 116)), (1, (156, 111)), (1, (156, 108)), (1, (156, 105)), (1, (156, 102)), (1, (156, 87)), (1, (156, 75)), (1, (156, 66)), (1, (155, 215)), (1, (155, 214)), (1, (155, 205)), (1, (153, 267)), (1, (153, 214)), (1, (153, 200)), (1, (153, 196)), (1, (153, 116)), (1, (153, 111)), (1, (153, 101)), (1, (153, 99)), (1, (152, 240)), (1, (152, 215)), (1, (152, 214)), (1, (152, 138)), (1, (152, 132)), (1, (152, 121)), (1, (152, 111)), (1, (152, 105)), (1, (152, 97)), (1, (151, 114)), (1, (151, 100)), (1, (151, 49)), (1, (150, 215)), (1, (150, 214)), (1, (150, 116)), (1, (150, 110)), (1, (150, 105)), (1, (150, 101)), (1, (150, 44)), (1, (149, 215)), (1, (149, 214)), (1, (149, 205)), (1, (149, 156)), (1, (149, 115)), (1, (149, 110)), (1, (149, 105)), (1, (149, 101)), (1, (149, 97)), (1, (148, 266)), (1, (148, 265)), (1, (148, 263)), (1, (148, 257)), (1, (148, 225)), (1, (148, 116)), (1, (148, 111)), (1, (148, 110)), (1, (148, 109)), (1, (148, 108)), (1, (148, 104)), (1, (148, 100)), (1, (148, 85)), (1, (148, 67)), (1, (147, 240)), (1, (147, 215)), (1, (147, 214)), (1, (147, 49)), (1, (146, 263)), (1, (146, 240)), (1, (144, 215)), (1, (144, 214)), (1, (143, 239)), (1, (143, 204)), (1, (142, 239)), (1, (142, 99)), (1, (141, 116)), (1, (141, 107)), (1, (141, 101)), (1, (139, 224)), (1, (139, 204)), (1, (138, 41)), (1, (137, 239)), (1, (137, 104)), (1, (136, 111)), (1, (136, 101)), (1, (135, 186)), (1, (135, 180)), (1, (135, 179)), (1, (135, 174)), (1, (135, 170)), (1, (135, 169)), (1, (135, 168)), (1, (135, 114)), (1, (134, 171)), (1, (133, 263)), (1, (133, 164)), (1, (133, 161)), (1, (133, 158)), (1, (133, 157)), (1, (133, 152)), (1, (133, 148)), (1, (133, 147)), (1, (133, 146)), (1, (133, 119)), (1, (133, 114)), (1, (133, 105)), (1, (133, 101)), (1, (133, 99)), (1, (133, 97)), (1, (133, 33)), (1, (132, 239)), (1, (132, 146)), (1, (132, 32)), (1, (131, 239)), (1, (129, 205)), (1, (129, 204)), (1, (129, 97)), (1, (129, 32)), (1, (122, 269)), (1, (122, 260)), (1, (122, 119)), (1, (122, 32)), (1, (121, 270)), (1, (121, 210)), (1, (121, 114)), (1, (121, 109)), (1, (121, 98)), (1, (121, 63)), (1, (121, 59)), (1, (121, 33)), (1, (120, 273)), (1, (120, 49)), (1, (120, 47)), (1, (119, 270)), (1, (119, 259)), (1, (119, 204)), (1, (119, 116)), (1, (119, 115)), (1, (119, 99)), (1, (119, 45)), (1, (118, 270)), (1, (118, 205)), (1, (117, 120)), (1, (116, 110)), (1, (116, 63)), (1, (116, 46)), (1, (116, 45)), (1, (115, 272)), (1, (115, 265)), (1, (115, 210)), (1, (115, 102)), (1, (115, 63)), (1, (115, 59)), (1, (115, 33)), (1, (114, 263)), (1, (112, 272)), (1, (112, 258)), (1, (112, 257)), (1, (112, 256)), (1, (112, 205)), (1, (112, 121)), (1, (112, 102)), (1, (112, 100)), (1, (112, 45)), (1, (111, 274)), (1, (111, 273)), (1, (111, 205)), (1, (111, 122)), (1, (111, 120)), (1, (111, 98)), (1, (110, 268)), (1, (110, 259)), (1, (110, 58)), (1, (110, 41)), (1, (109, 272)), (1, (109, 121)), (1, (109, 108)), (1, (109, 102)), (1, (108, 266)), (1, (108, 263)), (1, (108, 257)), (1, (108, 112)), (1, (108, 102)), (1, (108, 45)), (1, (107, 204)), (1, (107, 114)), (1, (107, 108)), (1, (107, 105)), (1, (107, 45)), (1, (106, 101)), (1, (105, 268)), (1, (105, 205)), (1, (105, 117)), (1, (105, 45)), (1, (104, 272)), (1, (104, 266)), (1, (104, 264)), (1, (104, 257)), (1, (104, 205)), (1, (104, 119)), (1, (104, 115)), (1, (104, 41)), (1, (103, 274)), (1, (103, 270)), (1, (103, 269)), (1, (103, 204)), (1, (103, 121)), (1, (103, 115)), (1, (103, 103)), (1, (103, 45)), (1, (102, 272)), (1, (102, 268)), (1, (102, 258)), (1, (101, 266)), (1, (101, 260)), (1, (101, 63)), (1, (100, 265)), (1, (100, 204)), (1, (100, 98)), (1, (100, 63)), (1, (100, 59)), (1, (100, 46)), (1, (99, 270)), (1, (99, 257)), (1, (99, 210)), (1, (99, 205)), (1, (98, 274)), (1, (98, 269)), (1, (98, 265)), (1, (98, 32)), (1, (97, 273)), (1, (97, 263)), (1, (97, 225)), (1, (97, 205)), (1, (95, 262)), (1, (90, 274)), (1, (88, 32)), (1, (87, 256)), (1, (87, 105)), (1, (86, 111)), (1, (86, 105)), (1, (85, 112)), (1, (85, 65)), (1, (85, 32)), (1, (84, 119)), (1, (84, 114)), (1, (83, 265)), (1, (83, 101)), (1, (83, 73)), (1, (80, 273)), (1, (80, 264)), (1, (80, 260)), (1, (80, 121)), (1, (80, 114)), (1, (80, 46)), (1, (79, 259)), (1, (79, 110)), (1, (79, 77)), (1, (78, 83)), (1, (77, 111)), (1, (77, 32)), (1, (76, 257)), (1, (76, 105)), (1, (75, 263)), (1, (75, 68)), (1, (75, 67)), (1, (73, 67)), (1, (72, 257)), (1, (72, 105)), (1, (71, 111)), (1, (71, 105)), (1, (70, 273)), (1, (70, 263)), (1, (70, 111)), (1, (70, 105)), (1, (69, 264)), (1, (69, 118)), (1, (69, 109)), (1, (69, 103)), (1, (69, 101)), (1, (69, 70)), (1, (69, 66)), (1, (69, 65)), (1, (68, 268)), (1, (68, 263)), (1, (68, 97)), (1, (68, 70)), (1, (68, 56)), (1, (68, 41)), (1, (68, 32)), (1, (67, 273)), (1, (67, 263)), (1, (67, 121)), (1, (67, 85)), (1, (67, 47)), (1, (67, 43)), (1, (66, 108)), (1, (66, 97)), (1, (66, 79)), (1, (66, 57)), (1, (66, 56)), (1, (65, 88)), (1, (65, 78)), (1, (63, 263)), (1, (63, 41)), (1, (57, 48)), (1, (56, 47)), (1, (56, 44)), (1, (55, 44)), (1, (54, 263)), (1, (54, 195)), (1, (54, 56)), (1, (53, 273)), (1, (53, 263)), (1, (53, 54)), (1, (53, 53)), (1, (52, 59)), (1, (52, 54)), (1, (52, 44)), (1, (51, 66)), (1, (50, 273)), (1, (50, 57)), (1, (50, 50)), (1, (50, 48)), (1, (50, 37)), (1, (49, 264)), (1, (49, 263)), (1, (49, 121)), (1, (49, 53)), (1, (49, 44)), (1, (48, 119)), (1, (48, 69)), (1, (48, 9)), (1, (47, 115)), (1, (47, 76)), (1, (47, 74)), (1, (47, 67)), (1, (47, 49)), (1, (46, 264)), (1, (46, 204)), (1, (45, 266)), (1, (45, 265)), (1, (45, 257)), (1, (45, 115)), (1, (45, 109)), (1, (45, 100)), (1, (44, 204)), (1, (44, 52)), (1, (44, 50)), (1, (43, 263)), (1, (43, 47)), (1, (43, 43)), (1, (41, 58)), (1, (40, 274)), (1, (40, 119)), (1, (40, 117)), (1, (40, 100)), (1, (40, 97)), (1, (40, 67)), (1, (40, 65)), (1, (37, 32)), (1, (35, 50)), (1, (32, 256)), (1, (32, 239)), (1, (32, 89)), (1, (32, 86)), (1, (32, 54)), (1, (32, 52)), (1, (32, 48)), (1, (32, 35))]\n"
     ]
    }
   ],
   "source": [
    "stats\n",
    "print((sorted(((v,k) for k, v in stats.items()), reverse=True)))"
   ]
  },
  {
   "cell_type": "code",
   "execution_count": 14,
   "id": "d531a78e-457a-4c55-af6f-ee5e14c9b070",
   "metadata": {},
   "outputs": [
    {
     "name": "stdout",
     "output_type": "stream",
     "text": [
      "[104, 101, 108, 108, 111, 32, 119, 266, 108, 100, 33]\n"
     ]
    }
   ],
   "source": [
    "def encode(text):\n",
    "    # given a stirng, return list of integers (the tokens)\n",
    "    tokens = list(text.encode(\"utf-8\"))\n",
    "    while len(tokens)>=2:\n",
    "        stats = get_stats(tokens)\n",
    "        pair = min(stats, key=lambda p: merges.get(p, float(\"inf\")))\n",
    "        if pair not in merges:\n",
    "            break # nothing else can be merged\n",
    "        idx = merges[pair]\n",
    "        tokens = merge(tokens, pair, idx)\n",
    "    return tokens\n",
    "\n",
    "print(encode(\"hello world!\"))"
   ]
  },
  {
   "cell_type": "code",
   "execution_count": 15,
   "id": "067bc9c6-48dc-40dc-86be-dd7b24bb26ab",
   "metadata": {},
   "outputs": [
    {
     "name": "stdout",
     "output_type": "stream",
     "text": [
      "hello world\n"
     ]
    }
   ],
   "source": [
    "print(decode(encode(\"hello world\")))"
   ]
  },
  {
   "cell_type": "code",
   "execution_count": 16,
   "id": "798fb2e0-54c6-4ea4-aca1-3951beed2e69",
   "metadata": {},
   "outputs": [
    {
     "name": "stdout",
     "output_type": "stream",
     "text": [
      "True\n"
     ]
    }
   ],
   "source": [
    "text2 = decode(encode(text))\n",
    "print(text2 == text)"
   ]
  },
  {
   "cell_type": "markdown",
   "id": "96f93d29-5bb4-4d0e-a53f-01c6c0aedbff",
   "metadata": {},
   "source": [
    "### Forced splits using regax patterns (GPT series)"
   ]
  },
  {
   "cell_type": "code",
   "execution_count": 17,
   "id": "63588746-2add-4e53-9fb9-ea72c563a1f7",
   "metadata": {
    "scrolled": true
   },
   "outputs": [
    {
     "name": "stdout",
     "output_type": "stream",
     "text": [
      "['Hello', ' world', '123', ' how', ' are', ' you']\n"
     ]
    }
   ],
   "source": [
    "import regex as re\n",
    "gpt2pat = re.compile(r\"\"\"'s|'t|'re|'ve|'m|'ll|'d| ?\\p{L}+| ?\\p{N}+| ?[^\\s\\p{L}\\p{N}]+|\\s+(?!\\S)|\\s+\"\"\")\n",
    "\n",
    "print(re.findall(gpt2pat, \"Hello world123 how are you\"))"
   ]
  },
  {
   "cell_type": "code",
   "execution_count": 18,
   "id": "4cc229d1-0632-4b65-9334-d3083e6db6b2",
   "metadata": {},
   "outputs": [
    {
     "name": "stdout",
     "output_type": "stream",
     "text": [
      "[220, 220, 220, 23748, 995]\n",
      "[262, 24748, 1917, 12340]\n"
     ]
    }
   ],
   "source": [
    "import tiktoken\n",
    "\n",
    "# GPT 2 (does not merge spaces)\n",
    "enc = tiktoken.get_encoding(\"gpt2\")\n",
    "print(enc.encode(\"    hello world\"))\n",
    "\n",
    "# GPT-4 (merges spaces)\n",
    "enc = tiktoken.get_encoding(\"cl100k_base\")\n",
    "print(enc.encode(\"    hello world!!!\"))"
   ]
  },
  {
   "cell_type": "markdown",
   "id": "5c4b72dd",
   "metadata": {},
   "source": [
    "Reference the GPT-2 encoder.py Download the vocab.bpe and encoder.json files"
   ]
  },
  {
   "cell_type": "code",
   "execution_count": 19,
   "id": "8db6779d",
   "metadata": {},
   "outputs": [],
   "source": [
    "# !python -m wget https://openaipublic.blob.core.windows.net/gpt-2/models/1558M/vocab.bpe\n",
    "# !python -m wget https://openaipublic.blob.core.windows.net/gpt-2/models/1558M/encoder.json"
   ]
  },
  {
   "cell_type": "code",
   "execution_count": 23,
   "id": "470480fd",
   "metadata": {},
   "outputs": [],
   "source": [
    "import os, json\n",
    "\n",
    "with open('encoder.json', 'r') as f:\n",
    "    encode = json.load(f) # <---- equivalent to our \"vocab\"\n",
    "\n",
    "with open('vocab.bpe', 'r', encoding='utf-8') as f:\n",
    "    bpe_data = f.read()\n",
    "\n",
    "bpe_merges = [tuple(merge_str.split()) for merge_str in bpe_data.split('\\n')[1:-1]]\n",
    "# ^---- equivalent to our \"merges\"\n"
   ]
  },
  {
   "cell_type": "markdown",
   "id": "ec5d0ae8",
   "metadata": {},
   "source": [
    "### Special tokens"
   ]
  },
  {
   "cell_type": "code",
   "execution_count": 28,
   "id": "ed313e8b",
   "metadata": {},
   "outputs": [
    {
     "data": {
      "text/plain": [
       "50257"
      ]
     },
     "execution_count": 28,
     "metadata": {},
     "output_type": "execute_result"
    }
   ],
   "source": [
    "len(encode) # 256 raw byte tokens. 50,000 merges. +1 special token"
   ]
  },
  {
   "cell_type": "code",
   "execution_count": 29,
   "id": "d456b4b4",
   "metadata": {},
   "outputs": [
    {
     "data": {
      "text/plain": [
       "50256"
      ]
     },
     "execution_count": 29,
     "metadata": {},
     "output_type": "execute_result"
    }
   ],
   "source": [
    "encode['<|endoftext|>']"
   ]
  },
  {
   "cell_type": "code",
   "execution_count": 31,
   "id": "a0699253",
   "metadata": {},
   "outputs": [
    {
     "name": "stdout",
     "output_type": "stream",
     "text": [
      "[31495, 230, 75265, 243, 92245, 62904, 233, 320, 15339, 304, 16526, 16715]\n",
      "True\n"
     ]
    }
   ],
   "source": [
    "import tiktoken\n",
    "enc = tiktoken.get_encoding(\"cl100k_base\")\n",
    "print(enc.encode(\"안녕하세요 👋 (hello in Korean!)\"))\n",
    "print(enc.decode(enc.encode(\"안녕하세요 👋 (hello in Korean!)\")) == \"안녕하세요 👋 (hello in Korean!)\")\n",
    "# match the above for your own tokenizer, and also implement a train() function"
   ]
  },
  {
   "cell_type": "markdown",
   "id": "cad3f3ac",
   "metadata": {},
   "source": [
    "### sentencepiece\n",
    "\n",
    "Commonly used because (unlike tiktoken) it can efficiently both train and inference BPE tokenizers. It is used in both Llama and Mistral series.\n",
    "\n",
    "[sentencepiece on Github link](https://github.com/google/sentencepiece).\n",
    "\n",
    "**The big difference**: sentencepiece runs BPE on the Unicode code points directly! It then has an option `character_coverage` for what to do with very very rare codepoints that appear very few times, and it either maps them onto an UNK token, or if `byte_fallback` is turned on, it encodes them with utf-8 and then encodes the raw bytes instead.\n",
    "\n",
    "TLDR:\n",
    "\n",
    "- tiktoken encodes to utf-8 and then BPEs bytes\n",
    "- sentencepiece BPEs the code points and optionally falls back to utf-8 bytes for rare code points (rarity is determined by character_coverage hyperparameter), which then get translated to byte tokens.\n",
    "\n",
    "(Personally I think the tiktoken way is a lot cleaner...)"
   ]
  },
  {
   "cell_type": "code",
   "execution_count": 32,
   "id": "f218d83d",
   "metadata": {},
   "outputs": [
    {
     "name": "stdout",
     "output_type": "stream",
     "text": [
      "Collecting sentencepiece\n",
      "  Downloading sentencepiece-0.2.0-cp39-cp39-win_amd64.whl.metadata (8.3 kB)\n",
      "Downloading sentencepiece-0.2.0-cp39-cp39-win_amd64.whl (991 kB)\n",
      "   -------------------------------------- 991.5/991.5 kB 413.2 kB/s eta 0:00:00\n",
      "Installing collected packages: sentencepiece\n",
      "Successfully installed sentencepiece-0.2.0\n",
      "Note: you may need to restart the kernel to use updated packages.\n"
     ]
    }
   ],
   "source": [
    "# pip install sentencepiece"
   ]
  },
  {
   "cell_type": "code",
   "execution_count": 34,
   "id": "97c3e594",
   "metadata": {},
   "outputs": [],
   "source": [
    "import sentencepiece as spm\n",
    "with open(\"toy.txt\", \"w\", encoding=\"utf-8\") as f:\n",
    "    f.write(\"SentencePiece is an unsupervised text tokenizer and detokenizer mainly for Neural Network-based text generation systems where the vocabulary size is predetermined prior to the neural model training. SentencePiece implements subword units (e.g., byte-pair-encoding (BPE) [Sennrich et al.]) and unigram language model [Kudo.]) with the extension of direct training from raw sentences. SentencePiece allows us to make a purely end-to-end system that does not depend on language-specific pre/postprocessing.\")"
   ]
  },
  {
   "cell_type": "markdown",
   "id": "d46b7615",
   "metadata": {},
   "source": [
    "Docs for sentencepiece options:\n",
    "\n",
    "- [markdown](https://github.com/google/sentencepiece/blob/master/doc/options.md)\n",
    "- [protobuf](https://github.com/google/sentencepiece/blob/master/src/sentencepiece_model.proto#L193)"
   ]
  },
  {
   "cell_type": "code",
   "execution_count": 46,
   "id": "1c836571",
   "metadata": {},
   "outputs": [],
   "source": [
    "# train a sentencepiece model on it\n",
    "# the settings here are (best effort) those used for training Llama 2\n",
    "import os\n",
    "\n",
    "options = dict(\n",
    "  # input spec\n",
    "  input=\"toy.txt\",\n",
    "  input_format=\"text\",\n",
    "  # output spec\n",
    "  model_prefix=\"tok400\", # output filename prefix\n",
    "  # algorithm spec\n",
    "  # BPE alg\n",
    "  model_type=\"bpe\",\n",
    "  vocab_size=400,\n",
    "  # normalization\n",
    "  normalization_rule_name=\"identity\", # ew, turn off normalization\n",
    "  remove_extra_whitespaces=False,\n",
    "  input_sentence_size=200000000, # max number of training sentences\n",
    "  max_sentence_length=4192, # max number of bytes per sentence\n",
    "  seed_sentencepiece_size=1000000,\n",
    "  shuffle_input_sentence=True,\n",
    "  # rare word treatment\n",
    "  character_coverage=0.99995,\n",
    "  byte_fallback=True,   ### if (False) Unknown charachters marks as '0' ('<unk>' = 0)\n",
    "  # merge rules\n",
    "  split_digits=True,\n",
    "  split_by_unicode_script=True,\n",
    "  split_by_whitespace=True,\n",
    "  split_by_number=True,\n",
    "  max_sentencepiece_length=16,\n",
    "  add_dummy_prefix=True,     ### add space '_' at starting of the sentence ('_')\n",
    "  allow_whitespace_only_pieces=True,\n",
    "  # special tokens\n",
    "  unk_id=0, # the UNK token MUST exist\n",
    "  bos_id=1, # the others are optional, set to -1 to turn off\n",
    "  eos_id=2,\n",
    "  pad_id=-1,\n",
    "  # systems\n",
    "  num_threads=os.cpu_count(), # use ~all system resources\n",
    ")\n",
    "\n",
    "spm.SentencePieceTrainer.train(**options)"
   ]
  },
  {
   "cell_type": "code",
   "execution_count": 47,
   "id": "847c8dcd",
   "metadata": {},
   "outputs": [
    {
     "data": {
      "text/plain": [
       "[['<unk>', 0],\n",
       " ['<s>', 1],\n",
       " ['</s>', 2],\n",
       " ['<0x00>', 3],\n",
       " ['<0x01>', 4],\n",
       " ['<0x02>', 5],\n",
       " ['<0x03>', 6],\n",
       " ['<0x04>', 7],\n",
       " ['<0x05>', 8],\n",
       " ['<0x06>', 9],\n",
       " ['<0x07>', 10],\n",
       " ['<0x08>', 11],\n",
       " ['<0x09>', 12],\n",
       " ['<0x0A>', 13],\n",
       " ['<0x0B>', 14],\n",
       " ['<0x0C>', 15],\n",
       " ['<0x0D>', 16],\n",
       " ['<0x0E>', 17],\n",
       " ['<0x0F>', 18],\n",
       " ['<0x10>', 19],\n",
       " ['<0x11>', 20],\n",
       " ['<0x12>', 21],\n",
       " ['<0x13>', 22],\n",
       " ['<0x14>', 23],\n",
       " ['<0x15>', 24],\n",
       " ['<0x16>', 25],\n",
       " ['<0x17>', 26],\n",
       " ['<0x18>', 27],\n",
       " ['<0x19>', 28],\n",
       " ['<0x1A>', 29],\n",
       " ['<0x1B>', 30],\n",
       " ['<0x1C>', 31],\n",
       " ['<0x1D>', 32],\n",
       " ['<0x1E>', 33],\n",
       " ['<0x1F>', 34],\n",
       " ['<0x20>', 35],\n",
       " ['<0x21>', 36],\n",
       " ['<0x22>', 37],\n",
       " ['<0x23>', 38],\n",
       " ['<0x24>', 39],\n",
       " ['<0x25>', 40],\n",
       " ['<0x26>', 41],\n",
       " ['<0x27>', 42],\n",
       " ['<0x28>', 43],\n",
       " ['<0x29>', 44],\n",
       " ['<0x2A>', 45],\n",
       " ['<0x2B>', 46],\n",
       " ['<0x2C>', 47],\n",
       " ['<0x2D>', 48],\n",
       " ['<0x2E>', 49],\n",
       " ['<0x2F>', 50],\n",
       " ['<0x30>', 51],\n",
       " ['<0x31>', 52],\n",
       " ['<0x32>', 53],\n",
       " ['<0x33>', 54],\n",
       " ['<0x34>', 55],\n",
       " ['<0x35>', 56],\n",
       " ['<0x36>', 57],\n",
       " ['<0x37>', 58],\n",
       " ['<0x38>', 59],\n",
       " ['<0x39>', 60],\n",
       " ['<0x3A>', 61],\n",
       " ['<0x3B>', 62],\n",
       " ['<0x3C>', 63],\n",
       " ['<0x3D>', 64],\n",
       " ['<0x3E>', 65],\n",
       " ['<0x3F>', 66],\n",
       " ['<0x40>', 67],\n",
       " ['<0x41>', 68],\n",
       " ['<0x42>', 69],\n",
       " ['<0x43>', 70],\n",
       " ['<0x44>', 71],\n",
       " ['<0x45>', 72],\n",
       " ['<0x46>', 73],\n",
       " ['<0x47>', 74],\n",
       " ['<0x48>', 75],\n",
       " ['<0x49>', 76],\n",
       " ['<0x4A>', 77],\n",
       " ['<0x4B>', 78],\n",
       " ['<0x4C>', 79],\n",
       " ['<0x4D>', 80],\n",
       " ['<0x4E>', 81],\n",
       " ['<0x4F>', 82],\n",
       " ['<0x50>', 83],\n",
       " ['<0x51>', 84],\n",
       " ['<0x52>', 85],\n",
       " ['<0x53>', 86],\n",
       " ['<0x54>', 87],\n",
       " ['<0x55>', 88],\n",
       " ['<0x56>', 89],\n",
       " ['<0x57>', 90],\n",
       " ['<0x58>', 91],\n",
       " ['<0x59>', 92],\n",
       " ['<0x5A>', 93],\n",
       " ['<0x5B>', 94],\n",
       " ['<0x5C>', 95],\n",
       " ['<0x5D>', 96],\n",
       " ['<0x5E>', 97],\n",
       " ['<0x5F>', 98],\n",
       " ['<0x60>', 99],\n",
       " ['<0x61>', 100],\n",
       " ['<0x62>', 101],\n",
       " ['<0x63>', 102],\n",
       " ['<0x64>', 103],\n",
       " ['<0x65>', 104],\n",
       " ['<0x66>', 105],\n",
       " ['<0x67>', 106],\n",
       " ['<0x68>', 107],\n",
       " ['<0x69>', 108],\n",
       " ['<0x6A>', 109],\n",
       " ['<0x6B>', 110],\n",
       " ['<0x6C>', 111],\n",
       " ['<0x6D>', 112],\n",
       " ['<0x6E>', 113],\n",
       " ['<0x6F>', 114],\n",
       " ['<0x70>', 115],\n",
       " ['<0x71>', 116],\n",
       " ['<0x72>', 117],\n",
       " ['<0x73>', 118],\n",
       " ['<0x74>', 119],\n",
       " ['<0x75>', 120],\n",
       " ['<0x76>', 121],\n",
       " ['<0x77>', 122],\n",
       " ['<0x78>', 123],\n",
       " ['<0x79>', 124],\n",
       " ['<0x7A>', 125],\n",
       " ['<0x7B>', 126],\n",
       " ['<0x7C>', 127],\n",
       " ['<0x7D>', 128],\n",
       " ['<0x7E>', 129],\n",
       " ['<0x7F>', 130],\n",
       " ['<0x80>', 131],\n",
       " ['<0x81>', 132],\n",
       " ['<0x82>', 133],\n",
       " ['<0x83>', 134],\n",
       " ['<0x84>', 135],\n",
       " ['<0x85>', 136],\n",
       " ['<0x86>', 137],\n",
       " ['<0x87>', 138],\n",
       " ['<0x88>', 139],\n",
       " ['<0x89>', 140],\n",
       " ['<0x8A>', 141],\n",
       " ['<0x8B>', 142],\n",
       " ['<0x8C>', 143],\n",
       " ['<0x8D>', 144],\n",
       " ['<0x8E>', 145],\n",
       " ['<0x8F>', 146],\n",
       " ['<0x90>', 147],\n",
       " ['<0x91>', 148],\n",
       " ['<0x92>', 149],\n",
       " ['<0x93>', 150],\n",
       " ['<0x94>', 151],\n",
       " ['<0x95>', 152],\n",
       " ['<0x96>', 153],\n",
       " ['<0x97>', 154],\n",
       " ['<0x98>', 155],\n",
       " ['<0x99>', 156],\n",
       " ['<0x9A>', 157],\n",
       " ['<0x9B>', 158],\n",
       " ['<0x9C>', 159],\n",
       " ['<0x9D>', 160],\n",
       " ['<0x9E>', 161],\n",
       " ['<0x9F>', 162],\n",
       " ['<0xA0>', 163],\n",
       " ['<0xA1>', 164],\n",
       " ['<0xA2>', 165],\n",
       " ['<0xA3>', 166],\n",
       " ['<0xA4>', 167],\n",
       " ['<0xA5>', 168],\n",
       " ['<0xA6>', 169],\n",
       " ['<0xA7>', 170],\n",
       " ['<0xA8>', 171],\n",
       " ['<0xA9>', 172],\n",
       " ['<0xAA>', 173],\n",
       " ['<0xAB>', 174],\n",
       " ['<0xAC>', 175],\n",
       " ['<0xAD>', 176],\n",
       " ['<0xAE>', 177],\n",
       " ['<0xAF>', 178],\n",
       " ['<0xB0>', 179],\n",
       " ['<0xB1>', 180],\n",
       " ['<0xB2>', 181],\n",
       " ['<0xB3>', 182],\n",
       " ['<0xB4>', 183],\n",
       " ['<0xB5>', 184],\n",
       " ['<0xB6>', 185],\n",
       " ['<0xB7>', 186],\n",
       " ['<0xB8>', 187],\n",
       " ['<0xB9>', 188],\n",
       " ['<0xBA>', 189],\n",
       " ['<0xBB>', 190],\n",
       " ['<0xBC>', 191],\n",
       " ['<0xBD>', 192],\n",
       " ['<0xBE>', 193],\n",
       " ['<0xBF>', 194],\n",
       " ['<0xC0>', 195],\n",
       " ['<0xC1>', 196],\n",
       " ['<0xC2>', 197],\n",
       " ['<0xC3>', 198],\n",
       " ['<0xC4>', 199],\n",
       " ['<0xC5>', 200],\n",
       " ['<0xC6>', 201],\n",
       " ['<0xC7>', 202],\n",
       " ['<0xC8>', 203],\n",
       " ['<0xC9>', 204],\n",
       " ['<0xCA>', 205],\n",
       " ['<0xCB>', 206],\n",
       " ['<0xCC>', 207],\n",
       " ['<0xCD>', 208],\n",
       " ['<0xCE>', 209],\n",
       " ['<0xCF>', 210],\n",
       " ['<0xD0>', 211],\n",
       " ['<0xD1>', 212],\n",
       " ['<0xD2>', 213],\n",
       " ['<0xD3>', 214],\n",
       " ['<0xD4>', 215],\n",
       " ['<0xD5>', 216],\n",
       " ['<0xD6>', 217],\n",
       " ['<0xD7>', 218],\n",
       " ['<0xD8>', 219],\n",
       " ['<0xD9>', 220],\n",
       " ['<0xDA>', 221],\n",
       " ['<0xDB>', 222],\n",
       " ['<0xDC>', 223],\n",
       " ['<0xDD>', 224],\n",
       " ['<0xDE>', 225],\n",
       " ['<0xDF>', 226],\n",
       " ['<0xE0>', 227],\n",
       " ['<0xE1>', 228],\n",
       " ['<0xE2>', 229],\n",
       " ['<0xE3>', 230],\n",
       " ['<0xE4>', 231],\n",
       " ['<0xE5>', 232],\n",
       " ['<0xE6>', 233],\n",
       " ['<0xE7>', 234],\n",
       " ['<0xE8>', 235],\n",
       " ['<0xE9>', 236],\n",
       " ['<0xEA>', 237],\n",
       " ['<0xEB>', 238],\n",
       " ['<0xEC>', 239],\n",
       " ['<0xED>', 240],\n",
       " ['<0xEE>', 241],\n",
       " ['<0xEF>', 242],\n",
       " ['<0xF0>', 243],\n",
       " ['<0xF1>', 244],\n",
       " ['<0xF2>', 245],\n",
       " ['<0xF3>', 246],\n",
       " ['<0xF4>', 247],\n",
       " ['<0xF5>', 248],\n",
       " ['<0xF6>', 249],\n",
       " ['<0xF7>', 250],\n",
       " ['<0xF8>', 251],\n",
       " ['<0xF9>', 252],\n",
       " ['<0xFA>', 253],\n",
       " ['<0xFB>', 254],\n",
       " ['<0xFC>', 255],\n",
       " ['<0xFD>', 256],\n",
       " ['<0xFE>', 257],\n",
       " ['<0xFF>', 258],\n",
       " ['en', 259],\n",
       " ['▁t', 260],\n",
       " ['ce', 261],\n",
       " ['in', 262],\n",
       " ['ra', 263],\n",
       " ['▁a', 264],\n",
       " ['de', 265],\n",
       " ['er', 266],\n",
       " ['▁s', 267],\n",
       " ['ent', 268],\n",
       " ['or', 269],\n",
       " ['pr', 270],\n",
       " ['▁m', 271],\n",
       " ['▁u', 272],\n",
       " ['ing', 273],\n",
       " ['▁th', 274],\n",
       " ['ence', 275],\n",
       " ['entence', 276],\n",
       " ['Pi', 277],\n",
       " ['ed', 278],\n",
       " ['em', 279],\n",
       " ['ex', 280],\n",
       " ['is', 281],\n",
       " ['iz', 282],\n",
       " ['la', 283],\n",
       " ['on', 284],\n",
       " ['st', 285],\n",
       " ['▁S', 286],\n",
       " ['Pie', 287],\n",
       " ['end', 288],\n",
       " ['ext', 289],\n",
       " ['▁an', 290],\n",
       " ['▁pr', 291],\n",
       " ['▁to', 292],\n",
       " ['▁un', 293],\n",
       " ['▁the', 294],\n",
       " ['Piece', 295],\n",
       " ['▁Sentence', 296],\n",
       " ['▁SentencePiece', 297],\n",
       " ['.]', 298],\n",
       " ['Ne', 299],\n",
       " ['ag', 300],\n",
       " ['do', 301],\n",
       " ['ec', 302],\n",
       " ['gu', 303],\n",
       " ['ic', 304],\n",
       " ['ir', 305],\n",
       " ['it', 306],\n",
       " ['ly', 307],\n",
       " ['to', 308],\n",
       " ['▁(', 309],\n",
       " ['▁[', 310],\n",
       " ['▁f', 311],\n",
       " ['▁n', 312],\n",
       " ['▁w', 313],\n",
       " ['.])', 314],\n",
       " ['age', 315],\n",
       " ['del', 316],\n",
       " ['ion', 317],\n",
       " ['ken', 318],\n",
       " ['lan', 319],\n",
       " ['ral', 320],\n",
       " ['wor', 321],\n",
       " ['yst', 322],\n",
       " ['▁Ne', 323],\n",
       " ['▁al', 324],\n",
       " ['▁de', 325],\n",
       " ['▁is', 326],\n",
       " ['▁ma', 327],\n",
       " ['▁mo', 328],\n",
       " ['izer', 329],\n",
       " ['rain', 330],\n",
       " ['ural', 331],\n",
       " ['▁and', 332],\n",
       " ['▁lan', 333],\n",
       " ['▁pre', 334],\n",
       " ['guage', 335],\n",
       " ['ystem', 336],\n",
       " ['▁text', 337],\n",
       " ['▁model', 338],\n",
       " ['▁train', 339],\n",
       " ['kenizer', 340],\n",
       " ['▁system', 341],\n",
       " ['▁language', 342],\n",
       " ['▁training', 343],\n",
       " ['.,', 344],\n",
       " ['BP', 345],\n",
       " ['Ku', 346],\n",
       " ['ab', 347],\n",
       " ['as', 348],\n",
       " ['at', 349],\n",
       " ['by', 350],\n",
       " ['co', 351],\n",
       " ['es', 352],\n",
       " ['et', 353],\n",
       " ['if', 354],\n",
       " ['ig', 355],\n",
       " ['im', 356],\n",
       " ['ke', 357],\n",
       " ['lo', 358],\n",
       " ['nr', 359],\n",
       " ['oc', 360],\n",
       " ['e', 361],\n",
       " ['▁', 362],\n",
       " ['n', 363],\n",
       " ['t', 364],\n",
       " ['i', 365],\n",
       " ['r', 366],\n",
       " ['a', 367],\n",
       " ['o', 368],\n",
       " ['s', 369],\n",
       " ['d', 370],\n",
       " ['c', 371],\n",
       " ['l', 372],\n",
       " ['u', 373],\n",
       " ['g', 374],\n",
       " ['m', 375],\n",
       " ['p', 376],\n",
       " ['.', 377],\n",
       " ['h', 378],\n",
       " ['-', 379],\n",
       " ['w', 380],\n",
       " ['y', 381],\n",
       " ['P', 382],\n",
       " ['S', 383],\n",
       " ['b', 384],\n",
       " ['f', 385],\n",
       " ['k', 386],\n",
       " [')', 387],\n",
       " ['x', 388],\n",
       " ['z', 389],\n",
       " ['(', 390],\n",
       " ['N', 391],\n",
       " ['[', 392],\n",
       " [']', 393],\n",
       " ['v', 394],\n",
       " [',', 395],\n",
       " ['/', 396],\n",
       " ['B', 397],\n",
       " ['E', 398],\n",
       " ['K', 399]]"
      ]
     },
     "execution_count": 47,
     "metadata": {},
     "output_type": "execute_result"
    }
   ],
   "source": [
    "sp = spm.SentencePieceProcessor()\n",
    "sp.load('tok400.model')\n",
    "vocab = [[sp.id_to_piece(idx), idx] for idx in range(sp.get_piece_size())]\n",
    "vocab"
   ]
  },
  {
   "cell_type": "code",
   "execution_count": 48,
   "id": "9b1e6c01",
   "metadata": {},
   "outputs": [
    {
     "name": "stdout",
     "output_type": "stream",
     "text": [
      "[362, 378, 361, 372, 358, 362, 239, 152, 139, 238, 136, 152, 240, 152, 155, 239, 135, 187, 239, 157, 151]\n"
     ]
    }
   ],
   "source": [
    "ids = sp.encode(\"hello 안녕하세요\")\n",
    "print(ids)"
   ]
  },
  {
   "cell_type": "code",
   "execution_count": 49,
   "id": "ea74d46a",
   "metadata": {},
   "outputs": [
    {
     "name": "stdout",
     "output_type": "stream",
     "text": [
      "['▁', 'h', 'e', 'l', 'lo', '▁', '<0xEC>', '<0x95>', '<0x88>', '<0xEB>', '<0x85>', '<0x95>', '<0xED>', '<0x95>', '<0x98>', '<0xEC>', '<0x84>', '<0xB8>', '<0xEC>', '<0x9A>', '<0x94>']\n"
     ]
    }
   ],
   "source": [
    "print([sp.id_to_piece(idx) for idx in ids])"
   ]
  },
  {
   "cell_type": "markdown",
   "id": "5ee42733",
   "metadata": {},
   "source": [
    "**Llama 2 tokenizer proto**\n",
    "If you'd like to export the raw protocol buffer for the `tokenizer.model` released by meta, this is a [helpful issue](https://github.com/google/sentencepiece/issues/121). And this is the result:\n",
    "\n",
    "```\n",
    "normalizer_spec {\n",
    "  name: \"identity\"\n",
    "  precompiled_charsmap: \"\"\n",
    "  add_dummy_prefix: true\n",
    "  remove_extra_whitespaces: false\n",
    "  normalization_rule_tsv: \"\"\n",
    "}\n",
    "\n",
    "trainer_spec {\n",
    "  input: \"/large_experiments/theorem/datasets/MERGED/all.test1.merged\"\n",
    "  model_prefix: \"spm_model_32k_200M_charcov099995_allowWSO__v2\"\n",
    "  model_type: BPE\n",
    "  vocab_size: 32000\n",
    "  self_test_sample_size: 0\n",
    "  input_format: \"text\"\n",
    "  character_coverage: 0.99995\n",
    "  input_sentence_size: 200000000\n",
    "  seed_sentencepiece_size: 1000000\n",
    "  shrinking_factor: 0.75\n",
    "  num_threads: 80\n",
    "  num_sub_iterations: 2\n",
    "  max_sentence_length: 4192\n",
    "  shuffle_input_sentence: true\n",
    "  max_sentencepiece_length: 16\n",
    "  split_by_unicode_script: true\n",
    "  split_by_whitespace: true\n",
    "  split_by_number: true\n",
    "  treat_whitespace_as_suffix: false\n",
    "  split_digits: true\n",
    "  allow_whitespace_only_pieces: true\n",
    "  vocabulary_output_piece_score: true\n",
    "  hard_vocab_limit: true\n",
    "  use_all_vocab: false\n",
    "  byte_fallback: true\n",
    "  required_chars: \"\"\n",
    "  unk_id: 0\n",
    "  bos_id: 1\n",
    "  eos_id: 2\n",
    "  pad_id: -1\n",
    "  unk_surface: \" \\342\\201\\207 \"\n",
    "  unk_piece: \"<unk>\"\n",
    "  bos_piece: \"<s>\"\n",
    "  eos_piece: \"</s>\"\n",
    "  pad_piece: \"<pad>\"\n",
    "  train_extremely_large_corpus: false\n",
    "  enable_differential_privacy: false\n",
    "  differential_privacy_noise_level: 0.0\n",
    "  differential_privacy_clipping_threshold: 0\n",
    "}\n",
    "```"
   ]
  }
 ],
 "metadata": {
  "kernelspec": {
   "display_name": "Python 3 (ipykernel)",
   "language": "python",
   "name": "python3"
  },
  "language_info": {
   "codemirror_mode": {
    "name": "ipython",
    "version": 3
   },
   "file_extension": ".py",
   "mimetype": "text/x-python",
   "name": "python",
   "nbconvert_exporter": "python",
   "pygments_lexer": "ipython3",
   "version": "3.9.13"
  }
 },
 "nbformat": 4,
 "nbformat_minor": 5
}
